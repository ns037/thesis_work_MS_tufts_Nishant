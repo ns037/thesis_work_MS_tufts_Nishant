{
 "cells": [
  {
   "cell_type": "code",
   "execution_count": 1,
   "id": "6630f817",
   "metadata": {},
   "outputs": [],
   "source": [
    "import pandas as pd"
   ]
  },
  {
   "cell_type": "code",
   "execution_count": 2,
   "id": "98d1446f",
   "metadata": {},
   "outputs": [
    {
     "name": "stderr",
     "output_type": "stream",
     "text": [
      "/var/folders/b3/glj_22g92pl25nkdvjvxnzz00000gn/T/ipykernel_71921/4096187165.py:1: DtypeWarning: Columns (10,11,12,15,16,17,18,19,20,21,22,24,27,37,40,41,42,43,44,46,47,48,49,50,51,52,53,54,55,56,57,58,59,60,61,62,63,64,69,74,75,76,78,88,91,94,95,104,113,114,115,116,118,121,122,123,124,125,132,135,137,138,141,142,151,160,161,162,163,165,168,169,170,171,172,179,182,184,185,188,189,198,207,208,209,210,212,215,216,217,218,219,226,229,231,232,236,245,254,255,256,257,259,262,263,264,265,266,273,276,278,279,283,292,301,302,303,304,306,309,310,312,313,320,325,326,330,339,348,349,350,351,353,356,357,359,360,367,372,373,377,386,395,396,397,398,400,403,404,406,407,414,419,420,424,433,443,444,445,446,447,448,450,451,452,453,454,455,456,458,459,460,461,462,463,464,465,466,467,469,470,471,472,473,474,475,476,478,479,480,481,482,500,501,502,508,510,515,516,522,524,525,526,533,538,547,556,561,565,566,567,574,580,581,582,591,600,603,607,608,609,616,620,624,633,680,681,682,687,688,694,696,697,698,705,710,719,728,733,738,739,746,752,754,763,772,775,779,780,781,788,792,796,805,814,829,849,850,852,854,859,860,866,868,869,870,877,882,891,900,905,910,911,918,924,926,935,944,947,952,953,960,964,968,977,987,989,991,998,1003,1012,1021,1022,1024,1026,1031,1032,1040,1041,1042,1063,1072,1073,1074,1076,1077,1079,1080,1082,1085,1087,1089,1090,1092,1094,1107,1108,1109,1110,1111,1112,1113,1114,1115,1116,1119,1124,1125,1132,1136,1140,1149,1159,1161,1184,1193,1194,1196,1197,1198,1203,1204,1224,1288,1291,1296,1297,1304,1308,1312,1321,1331,1333,1347,1365,1366,1367,1369,1370,1371,1373,1377,1379,1380,1383,1384,1385,1387,1389,1390,1393,1396,1398,1399,1400,1401,1404,1405,1406,1407,1408,1409,1410,1412,1413,1414,1415,1416,1417,1422,1423,1424,1425,1426,1431,1432,1433,1434,1435,1440,1444,1445,1446,1447,1448,1449,1452,1453,1458,1461,1462,1467,1468,1469,1470,1471,1472,1473,1474,1475,1476,1477,1478,1479,1480,1481,1482,1483,1484,1485,1486,1487,1488,1490,1491,1492,1493,1494,1495,1496,1497,1498,1499,1500,1501,1502,1503,1504,1505,1506,1507,1508,1509,1510,1511,1512,1513,1514,1515,1516,1517,1518,1519,1520,1521,1522,1523,1524,1525,1526,1527,1528,1529,1530,1531,1532,1533,1534,1535,1536,1537,1538,1539,1540,1541,1542,1543,1544,1545,1546,1547,1548,1549,1550,1551,1552,1553,1554,1555,1556,1557,1558,1559,1560,1561,1562,1563,1564,1565,1566,1567,1568,1569,1570,1571,1572,1573,1574,1575,1576,1577,1578,1579,1580,1581,1582,1583,1584,1585,1586,1587,1588,1589,1592,1593,1594,1595,1597) have mixed types. Specify dtype option on import or set low_memory=False.\n",
      "  df = pd.read_csv('../data/full_survey_data.csv')\n"
     ]
    }
   ],
   "source": [
    "df = pd.read_csv('../data/full_survey_data.csv')"
   ]
  },
  {
   "cell_type": "code",
   "execution_count": 8,
   "id": "51a1a393",
   "metadata": {},
   "outputs": [
    {
     "data": {
      "text/plain": [
       "9625"
      ]
     },
     "execution_count": 8,
     "metadata": {},
     "output_type": "execute_result"
    }
   ],
   "source": [
    "# null values in crop residue 1\n",
    "df['crop_residue_use_1'].isna().sum()"
   ]
  },
  {
   "cell_type": "code",
   "execution_count": 7,
   "id": "fcd771fe",
   "metadata": {},
   "outputs": [
    {
     "data": {
      "text/plain": [
       "5635"
      ]
     },
     "execution_count": 7,
     "metadata": {},
     "output_type": "execute_result"
    }
   ],
   "source": [
    "df['crop_count'].isna().sum()"
   ]
  },
  {
   "cell_type": "code",
   "execution_count": 11,
   "id": "32c84603",
   "metadata": {},
   "outputs": [
    {
     "name": "stdout",
     "output_type": "stream",
     "text": [
      "<class 'pandas.core.frame.DataFrame'>\n",
      "RangeIndex: 54873 entries, 0 to 54872\n",
      "Columns: 1599 entries, id_unique to x_duration\n",
      "dtypes: float64(1027), int64(9), object(563)\n",
      "memory usage: 669.4+ MB\n"
     ]
    }
   ],
   "source": [
    "df.info()"
   ]
  },
  {
   "cell_type": "code",
   "execution_count": 12,
   "id": "7fee30ff",
   "metadata": {},
   "outputs": [
    {
     "name": "stdout",
     "output_type": "stream",
     "text": [
      "<class 'pandas.core.frame.DataFrame'>\n",
      "Index: 49238 entries, 0 to 54872\n",
      "Columns: 1599 entries, id_unique to x_duration\n",
      "dtypes: float64(1027), int64(9), object(563)\n",
      "memory usage: 601.0+ MB\n"
     ]
    }
   ],
   "source": [
    "# drop crop count that are null, meaning drop farmers that don't grow crops\n",
    "df = df[~df.crop_count.isna()]\n",
    "df.info()"
   ]
  },
  {
   "cell_type": "code",
   "execution_count": 17,
   "id": "ba5232c7",
   "metadata": {},
   "outputs": [
    {
     "data": {
      "text/plain": [
       "crop_name_1\n",
       "maize          1671\n",
       "cassava        1273\n",
       "ground_nuts     421\n",
       "banana          302\n",
       "coconut         201\n",
       "               ... \n",
       "cotton            1\n",
       "patchouli         1\n",
       "lychee            1\n",
       "lemon             1\n",
       "sunflower         1\n",
       "Name: count, Length: 68, dtype: int64"
      ]
     },
     "execution_count": 17,
     "metadata": {},
     "output_type": "execute_result"
    }
   ],
   "source": [
    "df[df['crop_residue_use_1'].isna()].crop_name_1.value_counts()"
   ]
  },
  {
   "cell_type": "code",
   "execution_count": null,
   "id": "669bebfc",
   "metadata": {},
   "outputs": [
    {
     "name": "stdout",
     "output_type": "stream",
     "text": [
      "<class 'pandas.core.frame.DataFrame'>\n",
      "Index: 43573 entries, 0 to 54872\n",
      "Columns: 1599 entries, id_unique to x_duration\n",
      "dtypes: float64(1027), int64(9), object(563)\n",
      "memory usage: 531.9+ MB\n"
     ]
    }
   ],
   "source": [
    "# ok just removing all nas in crop residue 1\n",
    "df = df[~df['crop_residue_use_1'].isna()]\n",
    "df.info()"
   ]
  },
  {
   "cell_type": "code",
   "execution_count": null,
   "id": "b350583d",
   "metadata": {},
   "outputs": [
    {
     "data": {
      "text/plain": [
       "0        NaN\n",
       "1        NaN\n",
       "2        NaN\n",
       "3        NaN\n",
       "4        NaN\n",
       "        ... \n",
       "54868    NaN\n",
       "54869    NaN\n",
       "54870    NaN\n",
       "54871    NaN\n",
       "54872    NaN\n",
       "Name: crop_name_6, Length: 43573, dtype: object"
      ]
     },
     "execution_count": 24,
     "metadata": {},
     "output_type": "execute_result"
    }
   ],
   "source": []
  },
  {
   "cell_type": "code",
   "execution_count": 27,
   "id": "5ea9c053",
   "metadata": {},
   "outputs": [],
   "source": [
    "# now simply check whether all crop_residue_* have the word burn, \n",
    "# if even one of em has it, create crop_burning binary as 1\n",
    "# Create a boolean DataFrame indicating if 'burn' appears in each column\n",
    "\n",
    "cols = [f'crop_residue_use_{i}' for i in range(1, 9)]\n",
    "\n",
    "contains_burn = df[cols].astype(str).apply(\n",
    "    lambda col: col.str.contains(r'\\bburn\\b', case=False, na=False)\n",
    ")\n",
    "\n",
    "\n",
    "df['crop_burning'] = contains_burn.any(axis=1).astype(int)\n",
    "\n"
   ]
  },
  {
   "cell_type": "code",
   "execution_count": null,
   "id": "8171b089",
   "metadata": {},
   "outputs": [
    {
     "name": "stdout",
     "output_type": "stream",
     "text": [
      "      crop_residue_use_1 crop_residue_use_2 crop_residue_use_3  \\\n",
      "54868               soil               soil               soil   \n",
      "54869               soil               soil               burn   \n",
      "54870          soil feed               soil               soil   \n",
      "54871               soil          soil feed                NaN   \n",
      "54872               soil               soil                NaN   \n",
      "\n",
      "      crop_residue_use_4 crop_residue_use_5 crop_residue_use_6  \\\n",
      "54868               soil                NaN                NaN   \n",
      "54869                NaN                NaN                NaN   \n",
      "54870                NaN                NaN                NaN   \n",
      "54871                NaN                NaN                NaN   \n",
      "54872                NaN                NaN                NaN   \n",
      "\n",
      "      crop_residue_use_7  crop_residue_use_8  crop_burning  \n",
      "54868                NaN                 NaN             0  \n",
      "54869                NaN                 NaN             1  \n",
      "54870                NaN                 NaN             0  \n",
      "54871                NaN                 NaN             0  \n",
      "54872                NaN                 NaN             0  \n"
     ]
    }
   ],
   "source": [
    "\n",
    "cols_to_show = [f'crop_residue_use_{i}' for i in range(1, 9)] + ['crop_burning']\n",
    "\n",
    "print(df[cols_to_show].tail())\n"
   ]
  },
  {
   "cell_type": "code",
   "execution_count": null,
   "id": "9eddd02d",
   "metadata": {},
   "outputs": [
    {
     "name": "stdout",
     "output_type": "stream",
     "text": [
      "  crop_residue_use_1 crop_residue_use_2 crop_residue_use_3 crop_residue_use_4  \\\n",
      "0  soil feed compost  soil feed compost  soil feed compost                NaN   \n",
      "1          soil feed       soil compost                NaN                NaN   \n",
      "2          soil feed  soil feed compost                NaN                NaN   \n",
      "3          feed soil          soil feed          soil feed                NaN   \n",
      "4          feed soil          soil feed          soil feed                NaN   \n",
      "\n",
      "  crop_residue_use_5 crop_residue_use_6 crop_residue_use_7  \\\n",
      "0                NaN                NaN                NaN   \n",
      "1                NaN                NaN                NaN   \n",
      "2                NaN                NaN                NaN   \n",
      "3                NaN                NaN                NaN   \n",
      "4                NaN                NaN                NaN   \n",
      "\n",
      "   crop_residue_use_8  crop_burning  \n",
      "0                 NaN             0  \n",
      "1                 NaN             0  \n",
      "2                 NaN             0  \n",
      "3                 NaN             0  \n",
      "4                 NaN             0  \n"
     ]
    }
   ],
   "source": [
    "# # Define the columns\n",
    "# cols = [f'crop_residue_use_{i}' for i in range(1, 9)]\n",
    "\n",
    "# # Filter rows where any of the columns contain 'burn'\n",
    "# mask = ~df[cols].astype(str).apply(lambda col: col.str.contains(r'\\bburn\\b', case=False, na=False)).any(axis=1)\n",
    "\n",
    "# # Show a few of those rows with only the relevant columns\n",
    "# print(df.loc[mask, cols + ['crop_burning']].head())\n"
   ]
  },
  {
   "cell_type": "code",
   "execution_count": 32,
   "id": "b14968dc",
   "metadata": {},
   "outputs": [],
   "source": [
    "#do i need to remove farmers without livestocks??\n",
    "# sum up number of livestock deaths\n",
    "\n",
    "livestock_cols = [f'livestock_died_{i}' for i in range(1, 6)]\n",
    "\n",
    "df['livestock_died_total'] = df[livestock_cols].sum(axis=1)"
   ]
  },
  {
   "cell_type": "code",
   "execution_count": null,
   "id": "57867fda",
   "metadata": {},
   "outputs": [],
   "source": [
    "\n",
    "# create a df with just the columns needed\n",
    "# List of livestock_heads_* columns\n",
    "livestock_heads_cols = [\n",
    "    'livestock_heads_sheep',\n",
    "    'livestock_heads_cattle',\n",
    "    'livestock_heads_pigs',\n",
    "    'livestock_heads_goats',\n",
    "    'livestock_heads_chicken',\n",
    "    'livestock_heads_rabbits',\n",
    "    'livestock_heads_otherpoultry',\n",
    "    'livestock_heads_camel',\n",
    "    'livestock_heads_guinea_pigs',\n",
    "    'livestock_heads_oxen',\n",
    "    'livestock_heads_buffalo',\n",
    "    'livestock_heads_duck',\n",
    "    'livestock_heads_geese',\n",
    "    'livestock_heads_donkeys_horses',\n",
    "    'livestock_heads_dogs',\n",
    "    'livestock_heads_bees',\n",
    "    'livestock_heads_fish'\n",
    "]\n",
    "\n",
    "# Base columns\n",
    "base_cols = ['crop_burning', 'id_unique', 'iso_country_code', 'year', 'livestock_died_total']\n",
    "\n",
    "# Combine and create the new DataFrame\n",
    "crop_export_df = df[base_cols + livestock_heads_cols]"
   ]
  },
  {
   "cell_type": "code",
   "execution_count": 34,
   "id": "b140f9a1",
   "metadata": {},
   "outputs": [
    {
     "name": "stderr",
     "output_type": "stream",
     "text": [
      "/var/folders/b3/glj_22g92pl25nkdvjvxnzz00000gn/T/ipykernel_71921/2464075352.py:2: SettingWithCopyWarning: \n",
      "A value is trying to be set on a copy of a slice from a DataFrame.\n",
      "Try using .loc[row_indexer,col_indexer] = value instead\n",
      "\n",
      "See the caveats in the documentation: https://pandas.pydata.org/pandas-docs/stable/user_guide/indexing.html#returning-a-view-versus-a-copy\n",
      "  crop_export_df['herd_size'] = crop_export_df[livestock_heads_cols].sum(axis=1)\n"
     ]
    }
   ],
   "source": [
    "# ok sum of heads to get herd_size\n",
    "crop_export_df['herd_size'] = crop_export_df[livestock_heads_cols].sum(axis=1)"
   ]
  },
  {
   "cell_type": "code",
   "execution_count": 36,
   "id": "acc50b2a",
   "metadata": {},
   "outputs": [
    {
     "data": {
      "text/plain": [
       "herd_size\n",
       "0.0         9429\n",
       "2.0         2156\n",
       "1.0         1925\n",
       "3.0         1652\n",
       "5.0         1483\n",
       "            ... \n",
       "300074.0       1\n",
       "672.0          1\n",
       "667.0          1\n",
       "1212.0         1\n",
       "424.0          1\n",
       "Name: count, Length: 486, dtype: int64"
      ]
     },
     "execution_count": 36,
     "metadata": {},
     "output_type": "execute_result"
    }
   ],
   "source": [
    "crop_export_df.herd_size.value_counts()"
   ]
  },
  {
   "cell_type": "code",
   "execution_count": 37,
   "id": "c8c07774",
   "metadata": {},
   "outputs": [],
   "source": [
    "# drop the head columns, not needed for analysis\n",
    "crop_export_df = crop_export_df.drop(columns=livestock_heads_cols)"
   ]
  },
  {
   "cell_type": "code",
   "execution_count": 38,
   "id": "7ffe23b5",
   "metadata": {},
   "outputs": [],
   "source": [
    "crop_export_df.to_csv('../data/first_week.csv')"
   ]
  },
  {
   "cell_type": "code",
   "execution_count": 39,
   "id": "57bdedfe",
   "metadata": {},
   "outputs": [
    {
     "name": "stdout",
     "output_type": "stream",
     "text": [
      "year\n",
      "2015      64\n",
      "2016     217\n",
      "2017     376\n",
      "2018    2647\n",
      "2019    1207\n",
      "2020     923\n",
      "2021     515\n",
      "2022     618\n",
      "2023      84\n",
      "Name: count, dtype: int64\n",
      "Year with the most crop_burning observations: 2018\n"
     ]
    }
   ],
   "source": [
    "# Filter rows where crop_burning == 1\n",
    "burning_df = crop_export_df[crop_export_df['crop_burning'] == 1]\n",
    "\n",
    "# Check counts by year\n",
    "print(burning_df['year'].value_counts().sort_index())\n",
    "\n",
    "# To find the year with the maximum number of observations\n",
    "most_common_year = burning_df['year'].value_counts().idxmax()\n",
    "print(f\"Year with the most crop_burning observations: {most_common_year}\")"
   ]
  },
  {
   "cell_type": "code",
   "execution_count": null,
   "id": "f18b1d17",
   "metadata": {},
   "outputs": [],
   "source": []
  }
 ],
 "metadata": {
  "kernelspec": {
   "display_name": "Python 3",
   "language": "python",
   "name": "python3"
  },
  "language_info": {
   "codemirror_mode": {
    "name": "ipython",
    "version": 3
   },
   "file_extension": ".py",
   "mimetype": "text/x-python",
   "name": "python",
   "nbconvert_exporter": "python",
   "pygments_lexer": "ipython3",
   "version": "3.9.6"
  }
 },
 "nbformat": 4,
 "nbformat_minor": 5
}
