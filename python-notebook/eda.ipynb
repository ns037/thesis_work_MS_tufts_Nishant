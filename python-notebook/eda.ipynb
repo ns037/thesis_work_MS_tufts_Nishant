{
 "cells": [
  {
   "cell_type": "code",
   "execution_count": 2,
   "id": "19418edf",
   "metadata": {},
   "outputs": [],
   "source": [
    "import pandas as pd"
   ]
  },
  {
   "cell_type": "code",
   "execution_count": 5,
   "id": "ce583296",
   "metadata": {},
   "outputs": [
    {
     "name": "stderr",
     "output_type": "stream",
     "text": [
      "/var/folders/b3/glj_22g92pl25nkdvjvxnzz00000gn/T/ipykernel_62067/4096187165.py:1: DtypeWarning: Columns (10,11,12,15,16,17,18,19,20,21,22,24,27,37,40,41,42,43,44,46,47,48,49,50,51,52,53,54,55,56,57,58,59,60,61,62,63,64,69,74,75,76,78,88,91,94,95,104,113,114,115,116,118,121,122,123,124,125,132,135,137,138,141,142,151,160,161,162,163,165,168,169,170,171,172,179,182,184,185,188,189,198,207,208,209,210,212,215,216,217,218,219,226,229,231,232,236,245,254,255,256,257,259,262,263,264,265,266,273,276,278,279,283,292,301,302,303,304,306,309,310,312,313,320,325,326,330,339,348,349,350,351,353,356,357,359,360,367,372,373,377,386,395,396,397,398,400,403,404,406,407,414,419,420,424,433,443,444,445,446,447,448,450,451,452,453,454,455,456,458,459,460,461,462,463,464,465,466,467,469,470,471,472,473,474,475,476,478,479,480,481,482,500,501,502,508,510,515,516,522,524,525,526,533,538,547,556,561,565,566,567,574,580,581,582,591,600,603,607,608,609,616,620,624,633,680,681,682,687,688,694,696,697,698,705,710,719,728,733,738,739,746,752,754,763,772,775,779,780,781,788,792,796,805,814,829,849,850,852,854,859,860,866,868,869,870,877,882,891,900,905,910,911,918,924,926,935,944,947,952,953,960,964,968,977,987,989,991,998,1003,1012,1021,1022,1024,1026,1031,1032,1040,1041,1042,1063,1072,1073,1074,1076,1077,1079,1080,1082,1085,1087,1089,1090,1092,1094,1107,1108,1109,1110,1111,1112,1113,1114,1115,1116,1119,1124,1125,1132,1136,1140,1149,1159,1161,1184,1193,1194,1196,1197,1198,1203,1204,1224,1288,1291,1296,1297,1304,1308,1312,1321,1331,1333,1347,1365,1366,1367,1369,1370,1371,1373,1377,1379,1380,1383,1384,1385,1387,1389,1390,1393,1396,1398,1399,1400,1401,1404,1405,1406,1407,1408,1409,1410,1412,1413,1414,1415,1416,1417,1422,1423,1424,1425,1426,1431,1432,1433,1434,1435,1440,1444,1445,1446,1447,1448,1449,1452,1453,1458,1461,1462,1467,1468,1469,1470,1471,1472,1473,1474,1475,1476,1477,1478,1479,1480,1481,1482,1483,1484,1485,1486,1487,1488,1490,1491,1492,1493,1494,1495,1496,1497,1498,1499,1500,1501,1502,1503,1504,1505,1506,1507,1508,1509,1510,1511,1512,1513,1514,1515,1516,1517,1518,1519,1520,1521,1522,1523,1524,1525,1526,1527,1528,1529,1530,1531,1532,1533,1534,1535,1536,1537,1538,1539,1540,1541,1542,1543,1544,1545,1546,1547,1548,1549,1550,1551,1552,1553,1554,1555,1556,1557,1558,1559,1560,1561,1562,1563,1564,1565,1566,1567,1568,1569,1570,1571,1572,1573,1574,1575,1576,1577,1578,1579,1580,1581,1582,1583,1584,1585,1586,1587,1588,1589,1592,1593,1594,1595,1597) have mixed types. Specify dtype option on import or set low_memory=False.\n",
      "  df = pd.read_csv('../data/full_survey_data.csv')\n"
     ]
    }
   ],
   "source": [
    "df = pd.read_csv('../data/full_survey_data.csv')"
   ]
  },
  {
   "cell_type": "code",
   "execution_count": 6,
   "id": "b70a3e83",
   "metadata": {},
   "outputs": [
    {
     "name": "stdout",
     "output_type": "stream",
     "text": [
      "<class 'pandas.core.frame.DataFrame'>\n",
      "RangeIndex: 54873 entries, 0 to 54872\n",
      "Columns: 1599 entries, id_unique to x_duration\n",
      "dtypes: float64(1027), int64(9), object(563)\n",
      "memory usage: 669.4+ MB\n"
     ]
    }
   ],
   "source": [
    "df.info()"
   ]
  },
  {
   "cell_type": "code",
   "execution_count": null,
   "id": "febd588d",
   "metadata": {},
   "outputs": [
    {
     "ename": "AttributeError",
     "evalue": "'DataFrame' object has no attribute 'RO'",
     "output_type": "error",
     "traceback": [
      "\u001b[0;31m---------------------------------------------------------------------------\u001b[0m",
      "\u001b[0;31mAttributeError\u001b[0m                            Traceback (most recent call last)",
      "\u001b[0;32m/var/folders/b3/glj_22g92pl25nkdvjvxnzz00000gn/T/ipykernel_62067/1278778305.py\u001b[0m in \u001b[0;36m?\u001b[0;34m()\u001b[0m\n\u001b[0;32m----> 1\u001b[0;31m \u001b[0mdf\u001b[0m\u001b[0;34m.\u001b[0m\u001b[0mRO\u001b[0m\u001b[0;34m\u001b[0m\u001b[0;34m\u001b[0m\u001b[0m\n\u001b[0m",
      "\u001b[0;32m~/Library/Python/3.9/lib/python/site-packages/pandas/core/generic.py\u001b[0m in \u001b[0;36m?\u001b[0;34m(self, name)\u001b[0m\n\u001b[1;32m   6295\u001b[0m             \u001b[0;32mand\u001b[0m \u001b[0mname\u001b[0m \u001b[0;32mnot\u001b[0m \u001b[0;32min\u001b[0m \u001b[0mself\u001b[0m\u001b[0;34m.\u001b[0m\u001b[0m_accessors\u001b[0m\u001b[0;34m\u001b[0m\u001b[0;34m\u001b[0m\u001b[0m\n\u001b[1;32m   6296\u001b[0m             \u001b[0;32mand\u001b[0m \u001b[0mself\u001b[0m\u001b[0;34m.\u001b[0m\u001b[0m_info_axis\u001b[0m\u001b[0;34m.\u001b[0m\u001b[0m_can_hold_identifiers_and_holds_name\u001b[0m\u001b[0;34m(\u001b[0m\u001b[0mname\u001b[0m\u001b[0;34m)\u001b[0m\u001b[0;34m\u001b[0m\u001b[0;34m\u001b[0m\u001b[0m\n\u001b[1;32m   6297\u001b[0m         ):\n\u001b[1;32m   6298\u001b[0m             \u001b[0;32mreturn\u001b[0m \u001b[0mself\u001b[0m\u001b[0;34m[\u001b[0m\u001b[0mname\u001b[0m\u001b[0;34m]\u001b[0m\u001b[0;34m\u001b[0m\u001b[0;34m\u001b[0m\u001b[0m\n\u001b[0;32m-> 6299\u001b[0;31m         \u001b[0;32mreturn\u001b[0m \u001b[0mobject\u001b[0m\u001b[0;34m.\u001b[0m\u001b[0m__getattribute__\u001b[0m\u001b[0;34m(\u001b[0m\u001b[0mself\u001b[0m\u001b[0;34m,\u001b[0m \u001b[0mname\u001b[0m\u001b[0;34m)\u001b[0m\u001b[0;34m\u001b[0m\u001b[0;34m\u001b[0m\u001b[0m\n\u001b[0m",
      "\u001b[0;31mAttributeError\u001b[0m: 'DataFrame' object has no attribute 'RO'"
     ]
    }
   ],
   "source": []
  },
  {
   "cell_type": "markdown",
   "id": "d832772c",
   "metadata": {},
   "source": [
    "# how do we ensure good quality responses are chosen (look at demographics, and metadate section)\n",
    "#\n",
    "\n",
    "columns to be used: livestock_count, livestock_died_1, year, iso_country_code, id_unique,crop_count, crop_residue_use_1, crop_name_1, livestock_heads_sheep,livestock_heads_cattle,livestock_heads_pigs,livestock_heads_goats,livestock_heads_chicken,livestock_heads_camel"
   ]
  },
  {
   "cell_type": "code",
   "execution_count": 8,
   "id": "9ac4eaf3",
   "metadata": {},
   "outputs": [
    {
     "data": {
      "text/plain": [
       "id_unique\n",
       "bf_adn_2019_1_1      1\n",
       "ng_glt_2019_133_1    1\n",
       "ng_glt_2019_135_1    1\n",
       "ng_glt_2019_136_1    1\n",
       "ng_glt_2019_137_1    1\n",
       "                    ..\n",
       "gh_t10_2019_195_1    1\n",
       "gh_t10_2019_196_1    1\n",
       "gh_t10_2019_197_1    1\n",
       "gh_t10_2019_198_1    1\n",
       "zm_scn_2017_610_1    1\n",
       "Name: count, Length: 54873, dtype: int64"
      ]
     },
     "execution_count": 8,
     "metadata": {},
     "output_type": "execute_result"
    }
   ],
   "source": [
    "df.id_unique.value_counts()"
   ]
  },
  {
   "cell_type": "code",
   "execution_count": 9,
   "id": "fc582e10",
   "metadata": {},
   "outputs": [
    {
     "data": {
      "text/plain": [
       "crop_residue_use_1\n",
       "feed                                        13215\n",
       "soil                                        10733\n",
       "soil feed                                    3077\n",
       "burn                                         1619\n",
       "feed compost                                 1581\n",
       "                                            ...  \n",
       "soil fuel burn feed compost construction        1\n",
       "fuel compost feed burn                          1\n",
       "other feed sell                                 1\n",
       "other burn feed compost sell                    1\n",
       "compost no_answer                               1\n",
       "Name: count, Length: 536, dtype: int64"
      ]
     },
     "execution_count": 9,
     "metadata": {},
     "output_type": "execute_result"
    }
   ],
   "source": [
    "df.crop_residue_use_1.value_counts()"
   ]
  },
  {
   "cell_type": "code",
   "execution_count": 12,
   "id": "8b286454",
   "metadata": {},
   "outputs": [],
   "source": [
    "crop_1_df = df[df['crop_residue_use_1'].str.contains(r'\\bburn\\b', na=False)]\n"
   ]
  },
  {
   "cell_type": "code",
   "execution_count": 13,
   "id": "e23d4b01",
   "metadata": {},
   "outputs": [
    {
     "data": {
      "text/plain": [
       "crop_residue_use_1\n",
       "burn                                   1619\n",
       "soil burn                               787\n",
       "burn feed                               463\n",
       "burn fuel                               229\n",
       "feed burn                               169\n",
       "                                       ... \n",
       "burn feed fuel compost construction       1\n",
       "fuel burn feed compost construction       1\n",
       "soil feed compost burn                    1\n",
       "burn feed construction compost            1\n",
       "compost sell burn                         1\n",
       "Name: count, Length: 195, dtype: int64"
      ]
     },
     "execution_count": 13,
     "metadata": {},
     "output_type": "execute_result"
    }
   ],
   "source": [
    "crop_1_df.crop_residue_use_1.value_counts()"
   ]
  },
  {
   "cell_type": "code",
   "execution_count": 24,
   "id": "52e047c7",
   "metadata": {},
   "outputs": [
    {
     "data": {
      "text/plain": [
       "crop_count\n",
       "1.0     15117\n",
       "2.0     15092\n",
       "3.0     10535\n",
       "4.0      4128\n",
       "5.0      3582\n",
       "0.0       531\n",
       "8.0       103\n",
       "6.0        84\n",
       "7.0        65\n",
       "10.0        1\n",
       "Name: count, dtype: int64"
      ]
     },
     "execution_count": 24,
     "metadata": {},
     "output_type": "execute_result"
    }
   ],
   "source": [
    "df.crop_count.value_counts()"
   ]
  },
  {
   "cell_type": "code",
   "execution_count": null,
   "id": "cc43fbbe",
   "metadata": {},
   "outputs": [
    {
     "name": "stdout",
     "output_type": "stream",
     "text": [
      "<class 'pandas.core.frame.DataFrame'>\n",
      "Index: 15117 entries, 21 to 54859\n",
      "Columns: 1599 entries, id_unique to x_duration\n",
      "dtypes: float64(1027), int64(9), object(563)\n",
      "memory usage: 184.5+ MB\n"
     ]
    }
   ],
   "source": []
  },
  {
   "cell_type": "code",
   "execution_count": 32,
   "id": "3dbb857f",
   "metadata": {},
   "outputs": [],
   "source": [
    "# test for people with only one crop\n",
    "filter_df = df[df.crop_count == 1]\n",
    "filter_df = filter_df.dropna(subset=['crop_residue_use_1'])\n",
    "\n",
    "filter_df['burns_crop_1'] = filter_df['crop_residue_use_1'].str.contains(r'\\bburn\\b').astype(int)\n"
   ]
  },
  {
   "cell_type": "code",
   "execution_count": 33,
   "id": "2849919a",
   "metadata": {},
   "outputs": [
    {
     "data": {
      "text/plain": [
       "burns_crop_1\n",
       "0    11125\n",
       "1     1142\n",
       "Name: count, dtype: int64"
      ]
     },
     "execution_count": 33,
     "metadata": {},
     "output_type": "execute_result"
    }
   ],
   "source": [
    "filter_df.burns_crop_1.value_counts()"
   ]
  },
  {
   "cell_type": "code",
   "execution_count": 34,
   "id": "2fc89192",
   "metadata": {},
   "outputs": [
    {
     "data": {
      "text/plain": [
       "4498"
      ]
     },
     "execution_count": 34,
     "metadata": {},
     "output_type": "execute_result"
    }
   ],
   "source": [
    "crop_1_df.crop_residue_use_1.size"
   ]
  },
  {
   "cell_type": "code",
   "execution_count": 40,
   "id": "3b508c46",
   "metadata": {},
   "outputs": [],
   "source": [
    "\n",
    "livestock_cols = [f'livestock_died_{i}' for i in range(1, 6)]\n",
    "\n",
    "filter_df['livestock_died_total'] = filter_df[livestock_cols].sum(axis=1)\n"
   ]
  },
  {
   "cell_type": "code",
   "execution_count": 49,
   "id": "dcafe109",
   "metadata": {},
   "outputs": [],
   "source": [
    "# List of livestock_heads_* columns\n",
    "livestock_heads_cols = [\n",
    "    'livestock_heads_sheep',\n",
    "    'livestock_heads_cattle',\n",
    "    'livestock_heads_pigs',\n",
    "    'livestock_heads_goats',\n",
    "    'livestock_heads_chicken',\n",
    "    'livestock_heads_rabbits',\n",
    "    'livestock_heads_otherpoultry',\n",
    "    'livestock_heads_camel',\n",
    "    'livestock_heads_guinea_pigs',\n",
    "    'livestock_heads_oxen',\n",
    "    'livestock_heads_buffalo',\n",
    "    'livestock_heads_duck',\n",
    "    'livestock_heads_geese',\n",
    "    'livestock_heads_donkeys_horses',\n",
    "    'livestock_heads_dogs',\n",
    "    'livestock_heads_bees',\n",
    "    'livestock_heads_fish'\n",
    "]\n",
    "\n",
    "# Base columns\n",
    "base_cols = ['burns_crop_1', 'id_unique', 'iso_country_code', 'year', 'livestock_count', 'livestock_died_total']\n",
    "\n",
    "# Combine and create the new DataFrame\n",
    "crop_1_export_df = filter_df[base_cols + livestock_heads_cols]\n"
   ]
  },
  {
   "cell_type": "code",
   "execution_count": 50,
   "id": "c3aac3dd",
   "metadata": {},
   "outputs": [
    {
     "data": {
      "text/html": [
       "<div>\n",
       "<style scoped>\n",
       "    .dataframe tbody tr th:only-of-type {\n",
       "        vertical-align: middle;\n",
       "    }\n",
       "\n",
       "    .dataframe tbody tr th {\n",
       "        vertical-align: top;\n",
       "    }\n",
       "\n",
       "    .dataframe thead th {\n",
       "        text-align: right;\n",
       "    }\n",
       "</style>\n",
       "<table border=\"1\" class=\"dataframe\">\n",
       "  <thead>\n",
       "    <tr style=\"text-align: right;\">\n",
       "      <th></th>\n",
       "      <th>burns_crop_1</th>\n",
       "      <th>id_unique</th>\n",
       "      <th>iso_country_code</th>\n",
       "      <th>year</th>\n",
       "      <th>livestock_count</th>\n",
       "      <th>livestock_died_total</th>\n",
       "      <th>livestock_heads_sheep</th>\n",
       "      <th>livestock_heads_cattle</th>\n",
       "      <th>livestock_heads_pigs</th>\n",
       "      <th>livestock_heads_goats</th>\n",
       "      <th>...</th>\n",
       "      <th>livestock_heads_camel</th>\n",
       "      <th>livestock_heads_guinea_pigs</th>\n",
       "      <th>livestock_heads_oxen</th>\n",
       "      <th>livestock_heads_buffalo</th>\n",
       "      <th>livestock_heads_duck</th>\n",
       "      <th>livestock_heads_geese</th>\n",
       "      <th>livestock_heads_donkeys_horses</th>\n",
       "      <th>livestock_heads_dogs</th>\n",
       "      <th>livestock_heads_bees</th>\n",
       "      <th>livestock_heads_fish</th>\n",
       "    </tr>\n",
       "  </thead>\n",
       "  <tbody>\n",
       "    <tr>\n",
       "      <th>21</th>\n",
       "      <td>0</td>\n",
       "      <td>bf_adn_2019_22_1</td>\n",
       "      <td>BF</td>\n",
       "      <td>2019</td>\n",
       "      <td>NaN</td>\n",
       "      <td>0.0</td>\n",
       "      <td>NaN</td>\n",
       "      <td>NaN</td>\n",
       "      <td>NaN</td>\n",
       "      <td>NaN</td>\n",
       "      <td>...</td>\n",
       "      <td>NaN</td>\n",
       "      <td>NaN</td>\n",
       "      <td>NaN</td>\n",
       "      <td>NaN</td>\n",
       "      <td>NaN</td>\n",
       "      <td>NaN</td>\n",
       "      <td>NaN</td>\n",
       "      <td>NaN</td>\n",
       "      <td>NaN</td>\n",
       "      <td>NaN</td>\n",
       "    </tr>\n",
       "    <tr>\n",
       "      <th>22</th>\n",
       "      <td>0</td>\n",
       "      <td>bf_adn_2019_23_1</td>\n",
       "      <td>BF</td>\n",
       "      <td>2019</td>\n",
       "      <td>1.0</td>\n",
       "      <td>3.0</td>\n",
       "      <td>1.0</td>\n",
       "      <td>1.0</td>\n",
       "      <td>NaN</td>\n",
       "      <td>2.0</td>\n",
       "      <td>...</td>\n",
       "      <td>NaN</td>\n",
       "      <td>NaN</td>\n",
       "      <td>NaN</td>\n",
       "      <td>NaN</td>\n",
       "      <td>NaN</td>\n",
       "      <td>NaN</td>\n",
       "      <td>NaN</td>\n",
       "      <td>NaN</td>\n",
       "      <td>NaN</td>\n",
       "      <td>NaN</td>\n",
       "    </tr>\n",
       "    <tr>\n",
       "      <th>24</th>\n",
       "      <td>0</td>\n",
       "      <td>bf_adn_2019_25_1</td>\n",
       "      <td>BF</td>\n",
       "      <td>2019</td>\n",
       "      <td>1.0</td>\n",
       "      <td>5.0</td>\n",
       "      <td>3.0</td>\n",
       "      <td>NaN</td>\n",
       "      <td>5.0</td>\n",
       "      <td>NaN</td>\n",
       "      <td>...</td>\n",
       "      <td>NaN</td>\n",
       "      <td>NaN</td>\n",
       "      <td>NaN</td>\n",
       "      <td>NaN</td>\n",
       "      <td>NaN</td>\n",
       "      <td>NaN</td>\n",
       "      <td>NaN</td>\n",
       "      <td>NaN</td>\n",
       "      <td>NaN</td>\n",
       "      <td>NaN</td>\n",
       "    </tr>\n",
       "    <tr>\n",
       "      <th>25</th>\n",
       "      <td>0</td>\n",
       "      <td>bf_adn_2019_26_1</td>\n",
       "      <td>BF</td>\n",
       "      <td>2019</td>\n",
       "      <td>2.0</td>\n",
       "      <td>10.0</td>\n",
       "      <td>4.0</td>\n",
       "      <td>2.0</td>\n",
       "      <td>NaN</td>\n",
       "      <td>5.0</td>\n",
       "      <td>...</td>\n",
       "      <td>NaN</td>\n",
       "      <td>NaN</td>\n",
       "      <td>NaN</td>\n",
       "      <td>NaN</td>\n",
       "      <td>NaN</td>\n",
       "      <td>NaN</td>\n",
       "      <td>NaN</td>\n",
       "      <td>NaN</td>\n",
       "      <td>NaN</td>\n",
       "      <td>NaN</td>\n",
       "    </tr>\n",
       "    <tr>\n",
       "      <th>27</th>\n",
       "      <td>0</td>\n",
       "      <td>bf_adn_2019_28_1</td>\n",
       "      <td>BF</td>\n",
       "      <td>2019</td>\n",
       "      <td>1.0</td>\n",
       "      <td>1.0</td>\n",
       "      <td>4.0</td>\n",
       "      <td>NaN</td>\n",
       "      <td>NaN</td>\n",
       "      <td>3.0</td>\n",
       "      <td>...</td>\n",
       "      <td>NaN</td>\n",
       "      <td>NaN</td>\n",
       "      <td>NaN</td>\n",
       "      <td>NaN</td>\n",
       "      <td>NaN</td>\n",
       "      <td>NaN</td>\n",
       "      <td>NaN</td>\n",
       "      <td>NaN</td>\n",
       "      <td>NaN</td>\n",
       "      <td>NaN</td>\n",
       "    </tr>\n",
       "  </tbody>\n",
       "</table>\n",
       "<p>5 rows × 23 columns</p>\n",
       "</div>"
      ],
      "text/plain": [
       "    burns_crop_1         id_unique iso_country_code  year  livestock_count  \\\n",
       "21             0  bf_adn_2019_22_1               BF  2019              NaN   \n",
       "22             0  bf_adn_2019_23_1               BF  2019              1.0   \n",
       "24             0  bf_adn_2019_25_1               BF  2019              1.0   \n",
       "25             0  bf_adn_2019_26_1               BF  2019              2.0   \n",
       "27             0  bf_adn_2019_28_1               BF  2019              1.0   \n",
       "\n",
       "    livestock_died_total  livestock_heads_sheep  livestock_heads_cattle  \\\n",
       "21                   0.0                    NaN                     NaN   \n",
       "22                   3.0                    1.0                     1.0   \n",
       "24                   5.0                    3.0                     NaN   \n",
       "25                  10.0                    4.0                     2.0   \n",
       "27                   1.0                    4.0                     NaN   \n",
       "\n",
       "    livestock_heads_pigs  livestock_heads_goats  ...  livestock_heads_camel  \\\n",
       "21                   NaN                    NaN  ...                    NaN   \n",
       "22                   NaN                    2.0  ...                    NaN   \n",
       "24                   5.0                    NaN  ...                    NaN   \n",
       "25                   NaN                    5.0  ...                    NaN   \n",
       "27                   NaN                    3.0  ...                    NaN   \n",
       "\n",
       "    livestock_heads_guinea_pigs  livestock_heads_oxen  \\\n",
       "21                          NaN                   NaN   \n",
       "22                          NaN                   NaN   \n",
       "24                          NaN                   NaN   \n",
       "25                          NaN                   NaN   \n",
       "27                          NaN                   NaN   \n",
       "\n",
       "    livestock_heads_buffalo  livestock_heads_duck  livestock_heads_geese  \\\n",
       "21                      NaN                   NaN                    NaN   \n",
       "22                      NaN                   NaN                    NaN   \n",
       "24                      NaN                   NaN                    NaN   \n",
       "25                      NaN                   NaN                    NaN   \n",
       "27                      NaN                   NaN                    NaN   \n",
       "\n",
       "    livestock_heads_donkeys_horses  livestock_heads_dogs  \\\n",
       "21                             NaN                   NaN   \n",
       "22                             NaN                   NaN   \n",
       "24                             NaN                   NaN   \n",
       "25                             NaN                   NaN   \n",
       "27                             NaN                   NaN   \n",
       "\n",
       "    livestock_heads_bees  livestock_heads_fish  \n",
       "21                   NaN                   NaN  \n",
       "22                   NaN                   NaN  \n",
       "24                   NaN                   NaN  \n",
       "25                   NaN                   NaN  \n",
       "27                   NaN                   NaN  \n",
       "\n",
       "[5 rows x 23 columns]"
      ]
     },
     "execution_count": 50,
     "metadata": {},
     "output_type": "execute_result"
    }
   ],
   "source": [
    "crop_1_export_df.head()"
   ]
  },
  {
   "cell_type": "code",
   "execution_count": 51,
   "id": "ebdc4988",
   "metadata": {},
   "outputs": [],
   "source": [
    "crop_1_export_df = crop_1_export_df.dropna(subset=['livestock_count'])"
   ]
  },
  {
   "cell_type": "code",
   "execution_count": 52,
   "id": "01b4ef4e",
   "metadata": {},
   "outputs": [
    {
     "data": {
      "text/html": [
       "<div>\n",
       "<style scoped>\n",
       "    .dataframe tbody tr th:only-of-type {\n",
       "        vertical-align: middle;\n",
       "    }\n",
       "\n",
       "    .dataframe tbody tr th {\n",
       "        vertical-align: top;\n",
       "    }\n",
       "\n",
       "    .dataframe thead th {\n",
       "        text-align: right;\n",
       "    }\n",
       "</style>\n",
       "<table border=\"1\" class=\"dataframe\">\n",
       "  <thead>\n",
       "    <tr style=\"text-align: right;\">\n",
       "      <th></th>\n",
       "      <th>burns_crop_1</th>\n",
       "      <th>id_unique</th>\n",
       "      <th>iso_country_code</th>\n",
       "      <th>year</th>\n",
       "      <th>livestock_count</th>\n",
       "      <th>livestock_died_total</th>\n",
       "      <th>livestock_heads_sheep</th>\n",
       "      <th>livestock_heads_cattle</th>\n",
       "      <th>livestock_heads_pigs</th>\n",
       "      <th>livestock_heads_goats</th>\n",
       "      <th>...</th>\n",
       "      <th>livestock_heads_camel</th>\n",
       "      <th>livestock_heads_guinea_pigs</th>\n",
       "      <th>livestock_heads_oxen</th>\n",
       "      <th>livestock_heads_buffalo</th>\n",
       "      <th>livestock_heads_duck</th>\n",
       "      <th>livestock_heads_geese</th>\n",
       "      <th>livestock_heads_donkeys_horses</th>\n",
       "      <th>livestock_heads_dogs</th>\n",
       "      <th>livestock_heads_bees</th>\n",
       "      <th>livestock_heads_fish</th>\n",
       "    </tr>\n",
       "  </thead>\n",
       "  <tbody>\n",
       "    <tr>\n",
       "      <th>22</th>\n",
       "      <td>0</td>\n",
       "      <td>bf_adn_2019_23_1</td>\n",
       "      <td>BF</td>\n",
       "      <td>2019</td>\n",
       "      <td>1.0</td>\n",
       "      <td>3.0</td>\n",
       "      <td>1.0</td>\n",
       "      <td>1.0</td>\n",
       "      <td>NaN</td>\n",
       "      <td>2.0</td>\n",
       "      <td>...</td>\n",
       "      <td>NaN</td>\n",
       "      <td>NaN</td>\n",
       "      <td>NaN</td>\n",
       "      <td>NaN</td>\n",
       "      <td>NaN</td>\n",
       "      <td>NaN</td>\n",
       "      <td>NaN</td>\n",
       "      <td>NaN</td>\n",
       "      <td>NaN</td>\n",
       "      <td>NaN</td>\n",
       "    </tr>\n",
       "    <tr>\n",
       "      <th>24</th>\n",
       "      <td>0</td>\n",
       "      <td>bf_adn_2019_25_1</td>\n",
       "      <td>BF</td>\n",
       "      <td>2019</td>\n",
       "      <td>1.0</td>\n",
       "      <td>5.0</td>\n",
       "      <td>3.0</td>\n",
       "      <td>NaN</td>\n",
       "      <td>5.0</td>\n",
       "      <td>NaN</td>\n",
       "      <td>...</td>\n",
       "      <td>NaN</td>\n",
       "      <td>NaN</td>\n",
       "      <td>NaN</td>\n",
       "      <td>NaN</td>\n",
       "      <td>NaN</td>\n",
       "      <td>NaN</td>\n",
       "      <td>NaN</td>\n",
       "      <td>NaN</td>\n",
       "      <td>NaN</td>\n",
       "      <td>NaN</td>\n",
       "    </tr>\n",
       "    <tr>\n",
       "      <th>25</th>\n",
       "      <td>0</td>\n",
       "      <td>bf_adn_2019_26_1</td>\n",
       "      <td>BF</td>\n",
       "      <td>2019</td>\n",
       "      <td>2.0</td>\n",
       "      <td>10.0</td>\n",
       "      <td>4.0</td>\n",
       "      <td>2.0</td>\n",
       "      <td>NaN</td>\n",
       "      <td>5.0</td>\n",
       "      <td>...</td>\n",
       "      <td>NaN</td>\n",
       "      <td>NaN</td>\n",
       "      <td>NaN</td>\n",
       "      <td>NaN</td>\n",
       "      <td>NaN</td>\n",
       "      <td>NaN</td>\n",
       "      <td>NaN</td>\n",
       "      <td>NaN</td>\n",
       "      <td>NaN</td>\n",
       "      <td>NaN</td>\n",
       "    </tr>\n",
       "    <tr>\n",
       "      <th>27</th>\n",
       "      <td>0</td>\n",
       "      <td>bf_adn_2019_28_1</td>\n",
       "      <td>BF</td>\n",
       "      <td>2019</td>\n",
       "      <td>1.0</td>\n",
       "      <td>1.0</td>\n",
       "      <td>4.0</td>\n",
       "      <td>NaN</td>\n",
       "      <td>NaN</td>\n",
       "      <td>3.0</td>\n",
       "      <td>...</td>\n",
       "      <td>NaN</td>\n",
       "      <td>NaN</td>\n",
       "      <td>NaN</td>\n",
       "      <td>NaN</td>\n",
       "      <td>NaN</td>\n",
       "      <td>NaN</td>\n",
       "      <td>NaN</td>\n",
       "      <td>NaN</td>\n",
       "      <td>NaN</td>\n",
       "      <td>NaN</td>\n",
       "    </tr>\n",
       "    <tr>\n",
       "      <th>32</th>\n",
       "      <td>0</td>\n",
       "      <td>bf_adn_2019_33_1</td>\n",
       "      <td>BF</td>\n",
       "      <td>2019</td>\n",
       "      <td>1.0</td>\n",
       "      <td>0.0</td>\n",
       "      <td>7.0</td>\n",
       "      <td>NaN</td>\n",
       "      <td>NaN</td>\n",
       "      <td>3.0</td>\n",
       "      <td>...</td>\n",
       "      <td>NaN</td>\n",
       "      <td>NaN</td>\n",
       "      <td>NaN</td>\n",
       "      <td>NaN</td>\n",
       "      <td>NaN</td>\n",
       "      <td>NaN</td>\n",
       "      <td>NaN</td>\n",
       "      <td>NaN</td>\n",
       "      <td>NaN</td>\n",
       "      <td>NaN</td>\n",
       "    </tr>\n",
       "  </tbody>\n",
       "</table>\n",
       "<p>5 rows × 23 columns</p>\n",
       "</div>"
      ],
      "text/plain": [
       "    burns_crop_1         id_unique iso_country_code  year  livestock_count  \\\n",
       "22             0  bf_adn_2019_23_1               BF  2019              1.0   \n",
       "24             0  bf_adn_2019_25_1               BF  2019              1.0   \n",
       "25             0  bf_adn_2019_26_1               BF  2019              2.0   \n",
       "27             0  bf_adn_2019_28_1               BF  2019              1.0   \n",
       "32             0  bf_adn_2019_33_1               BF  2019              1.0   \n",
       "\n",
       "    livestock_died_total  livestock_heads_sheep  livestock_heads_cattle  \\\n",
       "22                   3.0                    1.0                     1.0   \n",
       "24                   5.0                    3.0                     NaN   \n",
       "25                  10.0                    4.0                     2.0   \n",
       "27                   1.0                    4.0                     NaN   \n",
       "32                   0.0                    7.0                     NaN   \n",
       "\n",
       "    livestock_heads_pigs  livestock_heads_goats  ...  livestock_heads_camel  \\\n",
       "22                   NaN                    2.0  ...                    NaN   \n",
       "24                   5.0                    NaN  ...                    NaN   \n",
       "25                   NaN                    5.0  ...                    NaN   \n",
       "27                   NaN                    3.0  ...                    NaN   \n",
       "32                   NaN                    3.0  ...                    NaN   \n",
       "\n",
       "    livestock_heads_guinea_pigs  livestock_heads_oxen  \\\n",
       "22                          NaN                   NaN   \n",
       "24                          NaN                   NaN   \n",
       "25                          NaN                   NaN   \n",
       "27                          NaN                   NaN   \n",
       "32                          NaN                   NaN   \n",
       "\n",
       "    livestock_heads_buffalo  livestock_heads_duck  livestock_heads_geese  \\\n",
       "22                      NaN                   NaN                    NaN   \n",
       "24                      NaN                   NaN                    NaN   \n",
       "25                      NaN                   NaN                    NaN   \n",
       "27                      NaN                   NaN                    NaN   \n",
       "32                      NaN                   NaN                    NaN   \n",
       "\n",
       "    livestock_heads_donkeys_horses  livestock_heads_dogs  \\\n",
       "22                             NaN                   NaN   \n",
       "24                             NaN                   NaN   \n",
       "25                             NaN                   NaN   \n",
       "27                             NaN                   NaN   \n",
       "32                             NaN                   NaN   \n",
       "\n",
       "    livestock_heads_bees  livestock_heads_fish  \n",
       "22                   NaN                   NaN  \n",
       "24                   NaN                   NaN  \n",
       "25                   NaN                   NaN  \n",
       "27                   NaN                   NaN  \n",
       "32                   NaN                   NaN  \n",
       "\n",
       "[5 rows x 23 columns]"
      ]
     },
     "execution_count": 52,
     "metadata": {},
     "output_type": "execute_result"
    }
   ],
   "source": [
    "crop_1_export_df.head()"
   ]
  },
  {
   "cell_type": "code",
   "execution_count": 53,
   "id": "ceff1a26",
   "metadata": {},
   "outputs": [],
   "source": [
    "crop_1_export_df['total_livestock'] = crop_1_export_df[livestock_heads_cols].sum(axis=1)"
   ]
  },
  {
   "cell_type": "code",
   "execution_count": 54,
   "id": "a413e13c",
   "metadata": {},
   "outputs": [
    {
     "data": {
      "text/plain": [
       "total_livestock\n",
       "0.0      1028\n",
       "2.0       619\n",
       "1.0       507\n",
       "3.0       505\n",
       "5.0       410\n",
       "         ... \n",
       "320.0       1\n",
       "199.0       1\n",
       "305.0       1\n",
       "149.0       1\n",
       "319.0       1\n",
       "Name: count, Length: 295, dtype: int64"
      ]
     },
     "execution_count": 54,
     "metadata": {},
     "output_type": "execute_result"
    }
   ],
   "source": [
    "crop_1_export_df.total_livestock.value_counts()"
   ]
  },
  {
   "cell_type": "code",
   "execution_count": 56,
   "id": "4c5d62bc",
   "metadata": {},
   "outputs": [
    {
     "data": {
      "text/html": [
       "<div>\n",
       "<style scoped>\n",
       "    .dataframe tbody tr th:only-of-type {\n",
       "        vertical-align: middle;\n",
       "    }\n",
       "\n",
       "    .dataframe tbody tr th {\n",
       "        vertical-align: top;\n",
       "    }\n",
       "\n",
       "    .dataframe thead th {\n",
       "        text-align: right;\n",
       "    }\n",
       "</style>\n",
       "<table border=\"1\" class=\"dataframe\">\n",
       "  <thead>\n",
       "    <tr style=\"text-align: right;\">\n",
       "      <th></th>\n",
       "      <th>burns_crop_1</th>\n",
       "      <th>id_unique</th>\n",
       "      <th>iso_country_code</th>\n",
       "      <th>year</th>\n",
       "      <th>livestock_count</th>\n",
       "      <th>livestock_died_total</th>\n",
       "      <th>total_livestock</th>\n",
       "    </tr>\n",
       "  </thead>\n",
       "  <tbody>\n",
       "    <tr>\n",
       "      <th>22</th>\n",
       "      <td>0</td>\n",
       "      <td>bf_adn_2019_23_1</td>\n",
       "      <td>BF</td>\n",
       "      <td>2019</td>\n",
       "      <td>1.0</td>\n",
       "      <td>3.0</td>\n",
       "      <td>7.0</td>\n",
       "    </tr>\n",
       "    <tr>\n",
       "      <th>24</th>\n",
       "      <td>0</td>\n",
       "      <td>bf_adn_2019_25_1</td>\n",
       "      <td>BF</td>\n",
       "      <td>2019</td>\n",
       "      <td>1.0</td>\n",
       "      <td>5.0</td>\n",
       "      <td>12.0</td>\n",
       "    </tr>\n",
       "    <tr>\n",
       "      <th>25</th>\n",
       "      <td>0</td>\n",
       "      <td>bf_adn_2019_26_1</td>\n",
       "      <td>BF</td>\n",
       "      <td>2019</td>\n",
       "      <td>2.0</td>\n",
       "      <td>10.0</td>\n",
       "      <td>31.0</td>\n",
       "    </tr>\n",
       "    <tr>\n",
       "      <th>27</th>\n",
       "      <td>0</td>\n",
       "      <td>bf_adn_2019_28_1</td>\n",
       "      <td>BF</td>\n",
       "      <td>2019</td>\n",
       "      <td>1.0</td>\n",
       "      <td>1.0</td>\n",
       "      <td>17.0</td>\n",
       "    </tr>\n",
       "    <tr>\n",
       "      <th>32</th>\n",
       "      <td>0</td>\n",
       "      <td>bf_adn_2019_33_1</td>\n",
       "      <td>BF</td>\n",
       "      <td>2019</td>\n",
       "      <td>1.0</td>\n",
       "      <td>0.0</td>\n",
       "      <td>20.0</td>\n",
       "    </tr>\n",
       "  </tbody>\n",
       "</table>\n",
       "</div>"
      ],
      "text/plain": [
       "    burns_crop_1         id_unique iso_country_code  year  livestock_count  \\\n",
       "22             0  bf_adn_2019_23_1               BF  2019              1.0   \n",
       "24             0  bf_adn_2019_25_1               BF  2019              1.0   \n",
       "25             0  bf_adn_2019_26_1               BF  2019              2.0   \n",
       "27             0  bf_adn_2019_28_1               BF  2019              1.0   \n",
       "32             0  bf_adn_2019_33_1               BF  2019              1.0   \n",
       "\n",
       "    livestock_died_total  total_livestock  \n",
       "22                   3.0              7.0  \n",
       "24                   5.0             12.0  \n",
       "25                  10.0             31.0  \n",
       "27                   1.0             17.0  \n",
       "32                   0.0             20.0  "
      ]
     },
     "execution_count": 56,
     "metadata": {},
     "output_type": "execute_result"
    }
   ],
   "source": [
    "crop_1_export_df = crop_1_export_df.drop(columns=livestock_heads_cols)\n",
    "crop_1_export_df.head()"
   ]
  },
  {
   "cell_type": "code",
   "execution_count": 57,
   "id": "1db9e7ac",
   "metadata": {},
   "outputs": [
    {
     "data": {
      "text/html": [
       "<div>\n",
       "<style scoped>\n",
       "    .dataframe tbody tr th:only-of-type {\n",
       "        vertical-align: middle;\n",
       "    }\n",
       "\n",
       "    .dataframe tbody tr th {\n",
       "        vertical-align: top;\n",
       "    }\n",
       "\n",
       "    .dataframe thead th {\n",
       "        text-align: right;\n",
       "    }\n",
       "</style>\n",
       "<table border=\"1\" class=\"dataframe\">\n",
       "  <thead>\n",
       "    <tr style=\"text-align: right;\">\n",
       "      <th></th>\n",
       "      <th>burns_crop_1</th>\n",
       "      <th>id_unique</th>\n",
       "      <th>iso_country_code</th>\n",
       "      <th>year</th>\n",
       "      <th>livestock_died_total</th>\n",
       "      <th>total_livestock</th>\n",
       "    </tr>\n",
       "  </thead>\n",
       "  <tbody>\n",
       "    <tr>\n",
       "      <th>22</th>\n",
       "      <td>0</td>\n",
       "      <td>bf_adn_2019_23_1</td>\n",
       "      <td>BF</td>\n",
       "      <td>2019</td>\n",
       "      <td>3.0</td>\n",
       "      <td>7.0</td>\n",
       "    </tr>\n",
       "    <tr>\n",
       "      <th>24</th>\n",
       "      <td>0</td>\n",
       "      <td>bf_adn_2019_25_1</td>\n",
       "      <td>BF</td>\n",
       "      <td>2019</td>\n",
       "      <td>5.0</td>\n",
       "      <td>12.0</td>\n",
       "    </tr>\n",
       "    <tr>\n",
       "      <th>25</th>\n",
       "      <td>0</td>\n",
       "      <td>bf_adn_2019_26_1</td>\n",
       "      <td>BF</td>\n",
       "      <td>2019</td>\n",
       "      <td>10.0</td>\n",
       "      <td>31.0</td>\n",
       "    </tr>\n",
       "    <tr>\n",
       "      <th>27</th>\n",
       "      <td>0</td>\n",
       "      <td>bf_adn_2019_28_1</td>\n",
       "      <td>BF</td>\n",
       "      <td>2019</td>\n",
       "      <td>1.0</td>\n",
       "      <td>17.0</td>\n",
       "    </tr>\n",
       "    <tr>\n",
       "      <th>32</th>\n",
       "      <td>0</td>\n",
       "      <td>bf_adn_2019_33_1</td>\n",
       "      <td>BF</td>\n",
       "      <td>2019</td>\n",
       "      <td>0.0</td>\n",
       "      <td>20.0</td>\n",
       "    </tr>\n",
       "  </tbody>\n",
       "</table>\n",
       "</div>"
      ],
      "text/plain": [
       "    burns_crop_1         id_unique iso_country_code  year  \\\n",
       "22             0  bf_adn_2019_23_1               BF  2019   \n",
       "24             0  bf_adn_2019_25_1               BF  2019   \n",
       "25             0  bf_adn_2019_26_1               BF  2019   \n",
       "27             0  bf_adn_2019_28_1               BF  2019   \n",
       "32             0  bf_adn_2019_33_1               BF  2019   \n",
       "\n",
       "    livestock_died_total  total_livestock  \n",
       "22                   3.0              7.0  \n",
       "24                   5.0             12.0  \n",
       "25                  10.0             31.0  \n",
       "27                   1.0             17.0  \n",
       "32                   0.0             20.0  "
      ]
     },
     "execution_count": 57,
     "metadata": {},
     "output_type": "execute_result"
    }
   ],
   "source": [
    "crop_1_export_df = crop_1_export_df.drop(columns='livestock_count')\n",
    "crop_1_export_df.head()"
   ]
  },
  {
   "cell_type": "code",
   "execution_count": 58,
   "id": "bd48a0ba",
   "metadata": {},
   "outputs": [],
   "source": [
    "crop_1_export_df.to_csv('../data/one_crop_owners.csv')"
   ]
  },
  {
   "cell_type": "code",
   "execution_count": 60,
   "id": "23d524b0",
   "metadata": {},
   "outputs": [
    {
     "data": {
      "text/plain": [
       "burns_crop_1\n",
       "0    2265\n",
       "1     349\n",
       "Name: count, dtype: int64"
      ]
     },
     "execution_count": 60,
     "metadata": {},
     "output_type": "execute_result"
    }
   ],
   "source": [
    "crop_1_export_df[crop_1_export_df.year == 2018].burns_crop_1.value_counts()"
   ]
  },
  {
   "cell_type": "code",
   "execution_count": null,
   "id": "cc81d89a",
   "metadata": {},
   "outputs": [
    {
     "data": {
      "text/plain": [
       "['livestock_heads_sheep',\n",
       " 'livestock_heads_cattle',\n",
       " 'livestock_heads_pigs',\n",
       " 'livestock_heads_goats',\n",
       " 'livestock_heads_chicken',\n",
       " 'livestock_heads_rabbits',\n",
       " 'livestock_heads_otherpoultry',\n",
       " 'livestock_heads_camel',\n",
       " 'livestock_heads_guinea_pigs',\n",
       " 'livestock_heads_oxen',\n",
       " 'livestock_heads_buffalo',\n",
       " 'livestock_heads_duck',\n",
       " 'livestock_heads_geese',\n",
       " 'livestock_heads_donkeys_horses',\n",
       " 'livestock_heads_dogs',\n",
       " 'livestock_heads_bees',\n",
       " 'livestock_heads_fish']"
      ]
     },
     "execution_count": 62,
     "metadata": {},
     "output_type": "execute_result"
    }
   ],
   "source": []
  },
  {
   "cell_type": "code",
   "execution_count": null,
   "id": "c1e5ce0c",
   "metadata": {},
   "outputs": [],
   "source": [
    "# create the two variables needed for the first stage for the original dataset\n",
    "df['total_livestock'] = df[livestock_heads_cols].sum(axis=1)\n",
    "df['livestock_died_total'] = df[livestock_cols].sum(axis=1)\n",
    "\n"
   ]
  },
  {
   "cell_type": "code",
   "execution_count": null,
   "id": "72f936f8",
   "metadata": {},
   "outputs": [
    {
     "name": "stdout",
     "output_type": "stream",
     "text": [
      "                            OLS Regression Results                            \n",
      "==============================================================================\n",
      "Dep. Variable:        total_livestock   R-squared:                       0.000\n",
      "Model:                            OLS   Adj. R-squared:                 -0.000\n",
      "Method:                 Least Squares   F-statistic:                 1.161e-05\n",
      "Date:                Thu, 12 Jun 2025   Prob (F-statistic):              0.997\n",
      "Time:                        13:37:34   Log-Likelihood:            -1.3945e+05\n",
      "No. Observations:               15117   AIC:                         2.789e+05\n",
      "Df Residuals:                   15115   BIC:                         2.789e+05\n",
      "Df Model:                           1                                         \n",
      "Covariance Type:            nonrobust                                         \n",
      "========================================================================================\n",
      "                           coef    std err          t      P>|t|      [0.025      0.975]\n",
      "----------------------------------------------------------------------------------------\n",
      "Intercept               41.0097     19.971      2.053      0.040       1.864      80.156\n",
      "livestock_died_total -3.975e-05      0.012     -0.003      0.997      -0.023       0.023\n",
      "==============================================================================\n",
      "Omnibus:                    63755.000   Durbin-Watson:                   2.000\n",
      "Prob(Omnibus):                  0.000   Jarque-Bera (JB):     137139128019.501\n",
      "Skew:                         120.866   Prob(JB):                         0.00\n",
      "Kurtosis:                   14756.505   Cond. No.                     1.71e+03\n",
      "==============================================================================\n",
      "\n",
      "Notes:\n",
      "[1] Standard Errors assume that the covariance matrix of the errors is correctly specified.\n",
      "[2] The condition number is large, 1.71e+03. This might indicate that there are\n",
      "strong multicollinearity or other numerical problems.\n"
     ]
    }
   ],
   "source": [
    "# correlation for the first stage\n",
    "import statsmodels.formula.api as smf\n",
    "\n",
    "# only use farmers that farm one crop \n",
    "crop_1_only_df = df[df.crop_count == 1]\n",
    "\n",
    "first_stage = smf.ols('total_livestock ~ livestock_died_total', data=crop_1_only_df).fit()\n",
    "\n",
    "print(first_stage.summary())\n"
   ]
  },
  {
   "cell_type": "code",
   "execution_count": 67,
   "id": "5073d189",
   "metadata": {},
   "outputs": [],
   "source": [
    "crop_1_only_df.to_csv('../data/first_stage.csv')"
   ]
  },
  {
   "cell_type": "code",
   "execution_count": null,
   "id": "a895fe93",
   "metadata": {},
   "outputs": [],
   "source": [
    "y - herd_size, livestock_died"
   ]
  }
 ],
 "metadata": {
  "kernelspec": {
   "display_name": "Python 3",
   "language": "python",
   "name": "python3"
  },
  "language_info": {
   "codemirror_mode": {
    "name": "ipython",
    "version": 3
   },
   "file_extension": ".py",
   "mimetype": "text/x-python",
   "name": "python",
   "nbconvert_exporter": "python",
   "pygments_lexer": "ipython3",
   "version": "3.9.6"
  }
 },
 "nbformat": 4,
 "nbformat_minor": 5
}
