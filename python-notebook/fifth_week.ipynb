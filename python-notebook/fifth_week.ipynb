{
 "cells": [
  {
   "cell_type": "code",
   "execution_count": 3,
   "id": "fe7862da",
   "metadata": {},
   "outputs": [],
   "source": [
    "import pandas as pd\n",
    "import numpy as np\n",
    "from scipy.stats.mstats import winsorize\n",
    "import matplotlib.pyplot as plt\n",
    "import seaborn as sns\n",
    "import math"
   ]
  },
  {
   "cell_type": "code",
   "execution_count": 4,
   "id": "1272cd72",
   "metadata": {},
   "outputs": [
    {
     "name": "stderr",
     "output_type": "stream",
     "text": [
      "/var/folders/b3/glj_22g92pl25nkdvjvxnzz00000gn/T/ipykernel_15746/4096187165.py:1: DtypeWarning: Columns (10,11,12,15,16,17,18,19,20,21,22,24,27,37,40,41,42,43,44,46,47,48,49,50,51,52,53,54,55,56,57,58,59,60,61,62,63,64,69,74,75,76,78,88,91,94,95,104,113,114,115,116,118,121,122,123,124,125,132,135,137,138,141,142,151,160,161,162,163,165,168,169,170,171,172,179,182,184,185,188,189,198,207,208,209,210,212,215,216,217,218,219,226,229,231,232,236,245,254,255,256,257,259,262,263,264,265,266,273,276,278,279,283,292,301,302,303,304,306,309,310,312,313,320,325,326,330,339,348,349,350,351,353,356,357,359,360,367,372,373,377,386,395,396,397,398,400,403,404,406,407,414,419,420,424,433,443,444,445,446,447,448,450,451,452,453,454,455,456,458,459,460,461,462,463,464,465,466,467,469,470,471,472,473,474,475,476,478,479,480,481,482,500,501,502,508,510,515,516,522,524,525,526,533,538,547,556,561,565,566,567,574,580,581,582,591,600,603,607,608,609,616,620,624,633,680,681,682,687,688,694,696,697,698,705,710,719,728,733,738,739,746,752,754,763,772,775,779,780,781,788,792,796,805,814,829,849,850,852,854,859,860,866,868,869,870,877,882,891,900,905,910,911,918,924,926,935,944,947,952,953,960,964,968,977,987,989,991,998,1003,1012,1021,1022,1024,1026,1031,1032,1040,1041,1042,1063,1072,1073,1074,1076,1077,1079,1080,1082,1085,1087,1089,1090,1092,1094,1107,1108,1109,1110,1111,1112,1113,1114,1115,1116,1119,1124,1125,1132,1136,1140,1149,1159,1161,1184,1193,1194,1196,1197,1198,1203,1204,1224,1288,1291,1296,1297,1304,1308,1312,1321,1331,1333,1347,1365,1366,1367,1369,1370,1371,1373,1377,1379,1380,1383,1384,1385,1387,1389,1390,1393,1396,1398,1399,1400,1401,1404,1405,1406,1407,1408,1409,1410,1412,1413,1414,1415,1416,1417,1422,1423,1424,1425,1426,1431,1432,1433,1434,1435,1440,1444,1445,1446,1447,1448,1449,1452,1453,1458,1461,1462,1467,1468,1469,1470,1471,1472,1473,1474,1475,1476,1477,1478,1479,1480,1481,1482,1483,1484,1485,1486,1487,1488,1490,1491,1492,1493,1494,1495,1496,1497,1498,1499,1500,1501,1502,1503,1504,1505,1506,1507,1508,1509,1510,1511,1512,1513,1514,1515,1516,1517,1518,1519,1520,1521,1522,1523,1524,1525,1526,1527,1528,1529,1530,1531,1532,1533,1534,1535,1536,1537,1538,1539,1540,1541,1542,1543,1544,1545,1546,1547,1548,1549,1550,1551,1552,1553,1554,1555,1556,1557,1558,1559,1560,1561,1562,1563,1564,1565,1566,1567,1568,1569,1570,1571,1572,1573,1574,1575,1576,1577,1578,1579,1580,1581,1582,1583,1584,1585,1586,1587,1588,1589,1592,1593,1594,1595,1597) have mixed types. Specify dtype option on import or set low_memory=False.\n",
      "  df = pd.read_csv('../data/full_survey_data.csv')\n"
     ]
    }
   ],
   "source": [
    "df = pd.read_csv('../data/full_survey_data.csv')"
   ]
  },
  {
   "cell_type": "code",
   "execution_count": 5,
   "id": "84b5f4ee",
   "metadata": {},
   "outputs": [],
   "source": [
    "# Create a list for all crop_name and crop_residue_use columns\n",
    "crop_cols = [f\"crop_name_{i}\" for i in range(1, 9)]\n",
    "residue_cols = [f\"crop_residue_use_{i}\" for i in range(1, 9)]"
   ]
  },
  {
   "cell_type": "code",
   "execution_count": 6,
   "id": "69e7d8e8",
   "metadata": {},
   "outputs": [],
   "source": [
    "# Create a list of tuples for each crop's pair of name and residue\n",
    "records = []\n",
    "for i in range(1, 9):\n",
    "    temp_df = df[['id_unique', f'crop_name_{i}', f'crop_residue_use_{i}']].copy()\n",
    "    temp_df.columns = ['id_unique', 'crop_name', 'crop_residue_use']\n",
    "    temp_df['crop_number'] = i\n",
    "    records.append(temp_df)\n",
    "\n",
    "# Concatenate all together\n",
    "long_df = pd.concat(records, ignore_index=True)\n",
    "\n",
    "# Drop rows where crop_name is NaN\n",
    "#long_df = long_df.dropna(subset=['crop_name'])\n",
    "\n",
    "#sort\n",
    "long_df = long_df.sort_values(['id_unique', 'crop_number']).reset_index(drop=True)"
   ]
  },
  {
   "cell_type": "code",
   "execution_count": 7,
   "id": "dff84e57",
   "metadata": {},
   "outputs": [
    {
     "name": "stdout",
     "output_type": "stream",
     "text": [
      "<class 'pandas.core.frame.DataFrame'>\n",
      "Index: 95962 entries, 0 to 438976\n",
      "Data columns (total 4 columns):\n",
      " #   Column            Non-Null Count  Dtype \n",
      "---  ------            --------------  ----- \n",
      " 0   id_unique         95962 non-null  object\n",
      " 1   crop_name         95962 non-null  object\n",
      " 2   crop_residue_use  95962 non-null  object\n",
      " 3   crop_number       95962 non-null  int64 \n",
      "dtypes: int64(1), object(3)\n",
      "memory usage: 3.7+ MB\n"
     ]
    }
   ],
   "source": [
    "final_crop_df = long_df[(long_df.crop_name.notna()) & (long_df.crop_residue_use.notna())]\n",
    "final_crop_df.info()"
   ]
  },
  {
   "cell_type": "code",
   "execution_count": 8,
   "id": "2bde57ec",
   "metadata": {},
   "outputs": [
    {
     "name": "stderr",
     "output_type": "stream",
     "text": [
      "/var/folders/b3/glj_22g92pl25nkdvjvxnzz00000gn/T/ipykernel_15746/3975663582.py:1: SettingWithCopyWarning: \n",
      "A value is trying to be set on a copy of a slice from a DataFrame.\n",
      "Try using .loc[row_indexer,col_indexer] = value instead\n",
      "\n",
      "See the caveats in the documentation: https://pandas.pydata.org/pandas-docs/stable/user_guide/indexing.html#returning-a-view-versus-a-copy\n",
      "  final_crop_df['burn_crop'] = final_crop_df['crop_residue_use'].str.contains('burn', case=False, na=False).astype(int)\n"
     ]
    }
   ],
   "source": [
    "final_crop_df['burn_crop'] = final_crop_df['crop_residue_use'].str.contains('burn', case=False, na=False).astype(int)\n"
   ]
  },
  {
   "cell_type": "code",
   "execution_count": 9,
   "id": "5f8b8b4f",
   "metadata": {},
   "outputs": [],
   "source": [
    "# creating herd_size and renaming livestock head columns to be more succint\n",
    "livestock_heads_cols = [\n",
    "    'livestock_heads_sheep',\n",
    "    'livestock_heads_cattle',\n",
    "    'livestock_heads_pigs',\n",
    "    'livestock_heads_goats',\n",
    "    'livestock_heads_chicken',\n",
    "    'livestock_heads_rabbits',\n",
    "    'livestock_heads_otherpoultry',\n",
    "    'livestock_heads_camel',\n",
    "    'livestock_heads_guinea_pigs',\n",
    "    'livestock_heads_oxen',\n",
    "    'livestock_heads_buffalo',\n",
    "    'livestock_heads_duck',\n",
    "    'livestock_heads_geese',\n",
    "    'livestock_heads_donkeys_horses',\n",
    "    'livestock_heads_dogs',\n",
    "    'livestock_heads_bees',\n",
    "    'livestock_heads_fish'\n",
    "]\n",
    "\n",
    "# ok sum of heads to get herd_size\n",
    "df['herd_size'] = df[livestock_heads_cols].sum(axis=1)\n",
    "\n",
    "# Create a rename mapping\n",
    "rename_dict = {\n",
    "    col: col.replace('livestock_heads_', '') + '_heads'\n",
    "    for col in df.columns if col.startswith('livestock_heads_')\n",
    "}\n",
    "\n",
    "# Apply the renaming\n",
    "df = df.rename(columns=rename_dict)"
   ]
  },
  {
   "cell_type": "code",
   "execution_count": 10,
   "id": "962dca9f",
   "metadata": {},
   "outputs": [],
   "source": [
    "livestock_cols = [f'livestock_died_{i}' for i in range(1, 6)]"
   ]
  },
  {
   "cell_type": "code",
   "execution_count": 11,
   "id": "ba631c5b",
   "metadata": {},
   "outputs": [
    {
     "name": "stdout",
     "output_type": "stream",
     "text": [
      "         id_unique  slot livestock_name  livestock_died\n",
      "0  bf_adn_2019_1_1     1          sheep             0.0\n",
      "1  bf_adn_2019_2_1     1         cattle             0.0\n",
      "2  bf_adn_2019_3_1     1           pigs             3.0\n",
      "3  bf_adn_2019_4_1     1         cattle             0.0\n",
      "4  bf_adn_2019_5_1     1         cattle             0.0\n"
     ]
    }
   ],
   "source": [
    "# Step 1: Select relevant columns\n",
    "name_cols = [f'livestock_name_{i}' for i in range(1, 6)]\n",
    "died_cols = [f'livestock_died_{i}' for i in range(1, 6)]\n",
    "\n",
    "# Step 2: Melt the livestock names and deaths\n",
    "names_long = df.melt(id_vars='id_unique', value_vars=name_cols, \n",
    "                     var_name='animal_slot', value_name='livestock_name')\n",
    "\n",
    "died_long = df.melt(id_vars='id_unique', value_vars=died_cols, \n",
    "                    var_name='animal_slot', value_name='livestock_died')\n",
    "\n",
    "# Step 3: Make sure they align by extracting index number\n",
    "names_long['slot'] = names_long['animal_slot'].str.extract(r'(\\d+)').astype(int)\n",
    "died_long['slot'] = died_long['animal_slot'].str.extract(r'(\\d+)').astype(int)\n",
    "\n",
    "# Step 4: Merge the two long DataFrames\n",
    "long_df = pd.merge(\n",
    "    names_long[['id_unique', 'slot', 'livestock_name']],\n",
    "    died_long[['id_unique', 'slot', 'livestock_died']],\n",
    "    on=['id_unique', 'slot']\n",
    ")\n",
    "\n",
    "# Optional: drop rows where animal name is missing\n",
    "long_df = long_df.dropna(subset=['livestock_name']).reset_index(drop=True)\n",
    "\n",
    "# Result: Each row is (id_unique, livestock_name, livestock_died)\n",
    "print(long_df.head())\n"
   ]
  },
  {
   "cell_type": "code",
   "execution_count": 12,
   "id": "c9fc1ea8",
   "metadata": {},
   "outputs": [],
   "source": [
    "long_df = long_df[long_df.livestock_died.notna()]"
   ]
  },
  {
   "cell_type": "code",
   "execution_count": 27,
   "id": "8c784963",
   "metadata": {},
   "outputs": [
    {
     "name": "stdout",
     "output_type": "stream",
     "text": [
      "         id_unique livestock_name  livestock_heads\n",
      "0  bf_adn_2019_1_1          sheep              3.0\n",
      "1  bf_adn_2019_2_1          sheep              3.0\n",
      "3  bf_adn_2019_4_1          sheep              4.0\n",
      "4  bf_adn_2019_5_1          sheep              4.0\n",
      "5  bf_adn_2019_6_1          sheep             15.0\n"
     ]
    }
   ],
   "source": [
    "# Step 1: Get all renamed head columns (they should now end with '_heads')\n",
    "head_cols = [col for col in df.columns if col.endswith('_heads')]\n",
    "\n",
    "# Step 2: Melt to long format\n",
    "long_heads_df = df.melt(\n",
    "    id_vars='id_unique',\n",
    "    value_vars=head_cols,\n",
    "    var_name='livestock_name',\n",
    "    value_name='livestock_heads'\n",
    ")\n",
    "\n",
    "# Step 3: Clean the livestock name (remove '_heads' suffix)\n",
    "long_heads_df['livestock_name'] = long_heads_df['livestock_name'].str.replace('_heads', '', regex=False)\n",
    "\n",
    "# Step 4: Drop rows where heads is missing or zero (optional)\n",
    "long_heads_df = long_heads_df[long_heads_df['livestock_heads'].notna()]\n",
    "\n",
    "\n",
    "# Final output\n",
    "print(long_heads_df.head())"
   ]
  },
  {
   "cell_type": "code",
   "execution_count": 33,
   "id": "0791e719",
   "metadata": {},
   "outputs": [],
   "source": [
    "# Merge heads and deaths\n",
    "combined_df = pd.merge(\n",
    "    long_heads_df,\n",
    "    long_df[['id_unique', 'livestock_name', 'livestock_died']],\n",
    "    on=['id_unique', 'livestock_name'],\n",
    "    how='outer'\n",
    ")\n",
    "\n",
    "# Drop rows where either heads or died is missing\n",
    "combined_df = combined_df.dropna(subset=['livestock_heads', 'livestock_died'])"
   ]
  },
  {
   "cell_type": "code",
   "execution_count": 25,
   "id": "3974fdbb",
   "metadata": {},
   "outputs": [
    {
     "data": {
      "text/html": [
       "<div>\n",
       "<style scoped>\n",
       "    .dataframe tbody tr th:only-of-type {\n",
       "        vertical-align: middle;\n",
       "    }\n",
       "\n",
       "    .dataframe tbody tr th {\n",
       "        vertical-align: top;\n",
       "    }\n",
       "\n",
       "    .dataframe thead th {\n",
       "        text-align: right;\n",
       "    }\n",
       "</style>\n",
       "<table border=\"1\" class=\"dataframe\">\n",
       "  <thead>\n",
       "    <tr style=\"text-align: right;\">\n",
       "      <th></th>\n",
       "      <th>id_unique</th>\n",
       "      <th>livestock_name</th>\n",
       "      <th>livestock_heads</th>\n",
       "      <th>livestock_died</th>\n",
       "    </tr>\n",
       "  </thead>\n",
       "  <tbody>\n",
       "    <tr>\n",
       "      <th>0</th>\n",
       "      <td>bf_adn_2019_10_1</td>\n",
       "      <td>cattle</td>\n",
       "      <td>4.0</td>\n",
       "      <td>1.0</td>\n",
       "    </tr>\n",
       "    <tr>\n",
       "      <th>3</th>\n",
       "      <td>bf_adn_2019_10_1</td>\n",
       "      <td>sheep</td>\n",
       "      <td>5.0</td>\n",
       "      <td>2.0</td>\n",
       "    </tr>\n",
       "    <tr>\n",
       "      <th>4</th>\n",
       "      <td>bf_adn_2019_11_1</td>\n",
       "      <td>cattle</td>\n",
       "      <td>1.0</td>\n",
       "      <td>0.0</td>\n",
       "    </tr>\n",
       "    <tr>\n",
       "      <th>5</th>\n",
       "      <td>bf_adn_2019_11_1</td>\n",
       "      <td>chicken</td>\n",
       "      <td>4.0</td>\n",
       "      <td>4.0</td>\n",
       "    </tr>\n",
       "    <tr>\n",
       "      <th>6</th>\n",
       "      <td>bf_adn_2019_11_1</td>\n",
       "      <td>goats</td>\n",
       "      <td>1.0</td>\n",
       "      <td>0.0</td>\n",
       "    </tr>\n",
       "    <tr>\n",
       "      <th>...</th>\n",
       "      <td>...</td>\n",
       "      <td>...</td>\n",
       "      <td>...</td>\n",
       "      <td>...</td>\n",
       "    </tr>\n",
       "    <tr>\n",
       "      <th>153244</th>\n",
       "      <td>zm_scn_2017_98_1</td>\n",
       "      <td>cattle</td>\n",
       "      <td>6.0</td>\n",
       "      <td>0.0</td>\n",
       "    </tr>\n",
       "    <tr>\n",
       "      <th>153248</th>\n",
       "      <td>zm_scn_2017_98_1</td>\n",
       "      <td>goats</td>\n",
       "      <td>9.0</td>\n",
       "      <td>0.0</td>\n",
       "    </tr>\n",
       "    <tr>\n",
       "      <th>153254</th>\n",
       "      <td>zm_scn_2017_99_1</td>\n",
       "      <td>cattle</td>\n",
       "      <td>12.0</td>\n",
       "      <td>1.0</td>\n",
       "    </tr>\n",
       "    <tr>\n",
       "      <th>153266</th>\n",
       "      <td>zm_scn_2017_9_1</td>\n",
       "      <td>chicken</td>\n",
       "      <td>8.0</td>\n",
       "      <td>0.0</td>\n",
       "    </tr>\n",
       "    <tr>\n",
       "      <th>153269</th>\n",
       "      <td>zm_scn_2017_9_1</td>\n",
       "      <td>goats</td>\n",
       "      <td>5.0</td>\n",
       "      <td>0.0</td>\n",
       "    </tr>\n",
       "  </tbody>\n",
       "</table>\n",
       "<p>51845 rows × 4 columns</p>\n",
       "</div>"
      ],
      "text/plain": [
       "               id_unique livestock_name  livestock_heads  livestock_died\n",
       "0       bf_adn_2019_10_1         cattle              4.0             1.0\n",
       "3       bf_adn_2019_10_1          sheep              5.0             2.0\n",
       "4       bf_adn_2019_11_1         cattle              1.0             0.0\n",
       "5       bf_adn_2019_11_1        chicken              4.0             4.0\n",
       "6       bf_adn_2019_11_1          goats              1.0             0.0\n",
       "...                  ...            ...              ...             ...\n",
       "153244  zm_scn_2017_98_1         cattle              6.0             0.0\n",
       "153248  zm_scn_2017_98_1          goats              9.0             0.0\n",
       "153254  zm_scn_2017_99_1         cattle             12.0             1.0\n",
       "153266   zm_scn_2017_9_1        chicken              8.0             0.0\n",
       "153269   zm_scn_2017_9_1          goats              5.0             0.0\n",
       "\n",
       "[51845 rows x 4 columns]"
      ]
     },
     "execution_count": 25,
     "metadata": {},
     "output_type": "execute_result"
    }
   ],
   "source": [
    "combined_df"
   ]
  },
  {
   "cell_type": "code",
   "execution_count": 26,
   "id": "4a74e2d6",
   "metadata": {},
   "outputs": [
    {
     "name": "stdout",
     "output_type": "stream",
     "text": [
      "\n",
      "Number of values Winsorized (upper end only):\n",
      "{'livestock_heads': 2241, 'livestock_died': 2396}\n"
     ]
    }
   ],
   "source": [
    "limit = 0.05 # setting the upper limit for winsorization, 5 percent\n",
    "cols_to_winsorize = ['livestock_heads', 'livestock_died']\n",
    "changed_counts = {}\n",
    "\n",
    "for col in cols_to_winsorize:\n",
    "    # Drop NaNs temporarily to avoid propagation issues\n",
    "    original = combined_df[col].copy()\n",
    "    non_nan = combined_df[col].dropna().values\n",
    "\n",
    "    # Winsorize only upper end\n",
    "    winsorized = winsorize(non_nan, limits=(0, limit))\n",
    "\n",
    "    # Count how many values were capped\n",
    "    changed = np.sum(non_nan != winsorized)\n",
    "    changed_counts[col] = changed\n",
    "\n",
    "    # Put values back into DataFrame (preserving original NaNs)\n",
    "    combined_df.loc[ combined_df[col].notna(), col] = winsorized\n",
    "\n",
    "# Show result\n",
    "print(\"\\nNumber of values Winsorized (upper end only):\")\n",
    "print(changed_counts)\n"
   ]
  },
  {
   "cell_type": "code",
   "execution_count": 19,
   "id": "5502b1e8",
   "metadata": {},
   "outputs": [
    {
     "name": "stdout",
     "output_type": "stream",
     "text": [
      "Columns in df: ['id_unique', 'livestock_name', 'livestock_heads', 'livestock_died']\n"
     ]
    }
   ],
   "source": [
    "print(\"Columns in df:\", combined_df.columns.tolist())\n"
   ]
  },
  {
   "cell_type": "code",
   "execution_count": 31,
   "id": "12c77029",
   "metadata": {},
   "outputs": [
    {
     "data": {
      "image/png": "[encoded data removed]",
      "text/plain": [
       "<Figure size 800x400 with 1 Axes>"
      ]
     },
     "metadata": {},
     "output_type": "display_data"
    },
    {
     "data": {
      "image/png": "[encoded data removed]",
      "text/plain": [
       "<Figure size 800x400 with 1 Axes>"
      ]
     },
     "metadata": {},
     "output_type": "display_data"
    }
   ],
   "source": [
    "sns.set_theme(style=\"whitegrid\")\n",
    "\n",
    "# Winsorization settings\n",
    "limit = 0.05\n",
    "cols_to_winsorize = ['livestock_heads', 'livestock_died']\n",
    "changed_counts = {}\n",
    "\n",
    "for col in cols_to_winsorize:\n",
    "    # Drop NaNs\n",
    "    series = combined_df[col].dropna()\n",
    "\n",
    "    # Compute upper threshold (e.g., 95th percentile)\n",
    "    upper_cutoff = np.percentile(series, 100 * (1 - limit))\n",
    "    outliers = series[series > upper_cutoff]\n",
    "\n",
    "    # 🎨 Plot original values and highlight outliers\n",
    "    plt.figure(figsize=(8, 4))\n",
    "    sns.histplot(series, bins=30, kde=True, color='skyblue', label='Original')\n",
    "    plt.axvline(upper_cutoff, color='red', linestyle='--', label=f'{100*(1-limit):.0f}th percentile')\n",
    "    plt.title(f'Distribution of {col} (pre-Winsorization)')\n",
    "    plt.xlabel(col)\n",
    "    plt.ylabel('Frequency')\n",
    "    plt.legend()\n",
    "    plt.tight_layout()\n",
    "    plt.show()\n"
   ]
  },
  {
   "cell_type": "code",
   "execution_count": 32,
   "id": "bda1cf8b",
   "metadata": {},
   "outputs": [
    {
     "data": {
      "text/plain": [
       "96        20.0\n",
       "141       15.0\n",
       "292       15.0\n",
       "302       20.0\n",
       "2486      15.0\n",
       "          ... \n",
       "151913    20.0\n",
       "152163    15.0\n",
       "152433    13.0\n",
       "152523    15.0\n",
       "152583    15.0\n",
       "Name: livestock_died, Length: 2396, dtype: float64"
      ]
     },
     "execution_count": 32,
     "metadata": {},
     "output_type": "execute_result"
    }
   ],
   "source": [
    "outliers"
   ]
  },
  {
   "cell_type": "code",
   "execution_count": 34,
   "id": "acc334ab",
   "metadata": {},
   "outputs": [
    {
     "data": {
      "image/png": "[encoded data removed]",
      "text/plain": [
       "<Figure size 1000x600 with 1 Axes>"
      ]
     },
     "metadata": {},
     "output_type": "display_data"
    }
   ],
   "source": [
    "plt.figure(figsize=(10, 6))\n",
    "sns.boxplot(data=combined_df[['livestock_heads', 'livestock_died']])\n",
    "plt.title('Boxplot of Livestock Heads and Livestock Died')\n",
    "plt.ylabel('Count')\n",
    "plt.show()"
   ]
  },
  {
   "cell_type": "code",
   "execution_count": null,
   "id": "f243ba67",
   "metadata": {},
   "outputs": [
    {
     "data": {
      "text/html": [
       "<div>\n",
       "<style scoped>\n",
       "    .dataframe tbody tr th:only-of-type {\n",
       "        vertical-align: middle;\n",
       "    }\n",
       "\n",
       "    .dataframe tbody tr th {\n",
       "        vertical-align: top;\n",
       "    }\n",
       "\n",
       "    .dataframe thead th {\n",
       "        text-align: right;\n",
       "    }\n",
       "</style>\n",
       "<table border=\"1\" class=\"dataframe\">\n",
       "  <thead>\n",
       "    <tr style=\"text-align: right;\">\n",
       "      <th></th>\n",
       "      <th>livestock_heads</th>\n",
       "      <th>livestock_died</th>\n",
       "    </tr>\n",
       "  </thead>\n",
       "  <tbody>\n",
       "    <tr>\n",
       "      <th>count</th>\n",
       "      <td>51845.000000</td>\n",
       "      <td>5.184500e+04</td>\n",
       "    </tr>\n",
       "    <tr>\n",
       "      <th>mean</th>\n",
       "      <td>19.758144</td>\n",
       "      <td>8.367195e+01</td>\n",
       "    </tr>\n",
       "    <tr>\n",
       "      <th>std</th>\n",
       "      <td>1328.746405</td>\n",
       "      <td>1.757150e+04</td>\n",
       "    </tr>\n",
       "    <tr>\n",
       "      <th>min</th>\n",
       "      <td>0.000000</td>\n",
       "      <td>0.000000e+00</td>\n",
       "    </tr>\n",
       "    <tr>\n",
       "      <th>25%</th>\n",
       "      <td>2.000000</td>\n",
       "      <td>0.000000e+00</td>\n",
       "    </tr>\n",
       "    <tr>\n",
       "      <th>50%</th>\n",
       "      <td>4.000000</td>\n",
       "      <td>0.000000e+00</td>\n",
       "    </tr>\n",
       "    <tr>\n",
       "      <th>75%</th>\n",
       "      <td>10.000000</td>\n",
       "      <td>2.000000e+00</td>\n",
       "    </tr>\n",
       "    <tr>\n",
       "      <th>max</th>\n",
       "      <td>300000.000000</td>\n",
       "      <td>4.000000e+06</td>\n",
       "    </tr>\n",
       "  </tbody>\n",
       "</table>\n",
       "</div>"
      ],
      "text/plain": [
       "       livestock_heads  livestock_died\n",
       "count     51845.000000    5.184500e+04\n",
       "mean         19.758144    8.367195e+01\n",
       "std        1328.746405    1.757150e+04\n",
       "min           0.000000    0.000000e+00\n",
       "25%           2.000000    0.000000e+00\n",
       "50%           4.000000    0.000000e+00\n",
       "75%          10.000000    2.000000e+00\n",
       "max      300000.000000    4.000000e+06"
      ]
     },
     "execution_count": 35,
     "metadata": {},
     "output_type": "execute_result"
    }
   ],
   "source": [
    "combined_df[['livestock_heads', 'livestock_died']].describe()"
   ]
  },
  {
   "cell_type": "code",
   "execution_count": 38,
   "id": "7acee2af",
   "metadata": {},
   "outputs": [],
   "source": [
    "# Merge heads and deaths\n",
    "combined_df = pd.merge(\n",
    "    long_heads_df,\n",
    "    long_df[['id_unique', 'livestock_name', 'livestock_died']],\n",
    "    on=['id_unique', 'livestock_name'],\n",
    "    how='outer'\n",
    ")\n",
    "\n",
    "# Drop rows where either heads or died is missing\n",
    "combined_df = combined_df.dropna(subset=['livestock_heads', 'livestock_died'])"
   ]
  },
  {
   "cell_type": "code",
   "execution_count": 39,
   "id": "dc45a1b9",
   "metadata": {},
   "outputs": [],
   "source": [
    "combined_df['died_to_heads'] = combined_df['livestock_died'] / combined_df['livestock_heads']\n"
   ]
  },
  {
   "cell_type": "code",
   "execution_count": 43,
   "id": "5f4adc43",
   "metadata": {},
   "outputs": [],
   "source": [
    "combined_df['heads_to_died'] = combined_df['livestock_heads'] / combined_df['livestock_died']"
   ]
  },
  {
   "cell_type": "code",
   "execution_count": 44,
   "id": "6bdf6f56",
   "metadata": {},
   "outputs": [
    {
     "data": {
      "text/html": [
       "<div>\n",
       "<style scoped>\n",
       "    .dataframe tbody tr th:only-of-type {\n",
       "        vertical-align: middle;\n",
       "    }\n",
       "\n",
       "    .dataframe tbody tr th {\n",
       "        vertical-align: top;\n",
       "    }\n",
       "\n",
       "    .dataframe thead th {\n",
       "        text-align: right;\n",
       "    }\n",
       "</style>\n",
       "<table border=\"1\" class=\"dataframe\">\n",
       "  <thead>\n",
       "    <tr style=\"text-align: right;\">\n",
       "      <th></th>\n",
       "      <th>id_unique</th>\n",
       "      <th>livestock_name</th>\n",
       "      <th>livestock_heads</th>\n",
       "      <th>livestock_died</th>\n",
       "      <th>died_to_heads</th>\n",
       "      <th>heads_to_died</th>\n",
       "    </tr>\n",
       "  </thead>\n",
       "  <tbody>\n",
       "    <tr>\n",
       "      <th>2708</th>\n",
       "      <td>bf_ec3_2022_167_2</td>\n",
       "      <td>donkeys_horses</td>\n",
       "      <td>0.0</td>\n",
       "      <td>0.0</td>\n",
       "      <td>NaN</td>\n",
       "      <td>NaN</td>\n",
       "    </tr>\n",
       "    <tr>\n",
       "      <th>3939</th>\n",
       "      <td>bf_ecd_2021_1043_1</td>\n",
       "      <td>chicken</td>\n",
       "      <td>0.0</td>\n",
       "      <td>3.0</td>\n",
       "      <td>inf</td>\n",
       "      <td>0.0</td>\n",
       "    </tr>\n",
       "    <tr>\n",
       "      <th>3986</th>\n",
       "      <td>bf_ecd_2021_106_1</td>\n",
       "      <td>cattle</td>\n",
       "      <td>0.0</td>\n",
       "      <td>0.0</td>\n",
       "      <td>NaN</td>\n",
       "      <td>NaN</td>\n",
       "    </tr>\n",
       "    <tr>\n",
       "      <th>4051</th>\n",
       "      <td>bf_ecd_2021_108_1</td>\n",
       "      <td>cattle</td>\n",
       "      <td>0.0</td>\n",
       "      <td>0.0</td>\n",
       "      <td>NaN</td>\n",
       "      <td>NaN</td>\n",
       "    </tr>\n",
       "    <tr>\n",
       "      <th>4067</th>\n",
       "      <td>bf_ecd_2021_1094_1</td>\n",
       "      <td>chicken</td>\n",
       "      <td>0.0</td>\n",
       "      <td>10.0</td>\n",
       "      <td>inf</td>\n",
       "      <td>0.0</td>\n",
       "    </tr>\n",
       "    <tr>\n",
       "      <th>...</th>\n",
       "      <td>...</td>\n",
       "      <td>...</td>\n",
       "      <td>...</td>\n",
       "      <td>...</td>\n",
       "      <td>...</td>\n",
       "      <td>...</td>\n",
       "    </tr>\n",
       "    <tr>\n",
       "      <th>141126</th>\n",
       "      <td>vn_crp_2020_583_1</td>\n",
       "      <td>buffalo</td>\n",
       "      <td>0.0</td>\n",
       "      <td>0.0</td>\n",
       "      <td>NaN</td>\n",
       "      <td>NaN</td>\n",
       "    </tr>\n",
       "    <tr>\n",
       "      <th>141133</th>\n",
       "      <td>vn_crp_2020_585_1</td>\n",
       "      <td>pigs</td>\n",
       "      <td>0.0</td>\n",
       "      <td>0.0</td>\n",
       "      <td>NaN</td>\n",
       "      <td>NaN</td>\n",
       "    </tr>\n",
       "    <tr>\n",
       "      <th>141138</th>\n",
       "      <td>vn_crp_2020_587_1</td>\n",
       "      <td>pigs</td>\n",
       "      <td>0.0</td>\n",
       "      <td>2.0</td>\n",
       "      <td>inf</td>\n",
       "      <td>0.0</td>\n",
       "    </tr>\n",
       "    <tr>\n",
       "      <th>141216</th>\n",
       "      <td>vn_crp_2020_618_1</td>\n",
       "      <td>pigs</td>\n",
       "      <td>0.0</td>\n",
       "      <td>0.0</td>\n",
       "      <td>NaN</td>\n",
       "      <td>NaN</td>\n",
       "    </tr>\n",
       "    <tr>\n",
       "      <th>146705</th>\n",
       "      <td>zm_faw_2019_398_1</td>\n",
       "      <td>pigs</td>\n",
       "      <td>0.0</td>\n",
       "      <td>9.0</td>\n",
       "      <td>inf</td>\n",
       "      <td>0.0</td>\n",
       "    </tr>\n",
       "  </tbody>\n",
       "</table>\n",
       "<p>1369 rows × 6 columns</p>\n",
       "</div>"
      ],
      "text/plain": [
       "                 id_unique  livestock_name  livestock_heads  livestock_died  \\\n",
       "2708     bf_ec3_2022_167_2  donkeys_horses              0.0             0.0   \n",
       "3939    bf_ecd_2021_1043_1         chicken              0.0             3.0   \n",
       "3986     bf_ecd_2021_106_1          cattle              0.0             0.0   \n",
       "4051     bf_ecd_2021_108_1          cattle              0.0             0.0   \n",
       "4067    bf_ecd_2021_1094_1         chicken              0.0            10.0   \n",
       "...                    ...             ...              ...             ...   \n",
       "141126   vn_crp_2020_583_1         buffalo              0.0             0.0   \n",
       "141133   vn_crp_2020_585_1            pigs              0.0             0.0   \n",
       "141138   vn_crp_2020_587_1            pigs              0.0             2.0   \n",
       "141216   vn_crp_2020_618_1            pigs              0.0             0.0   \n",
       "146705   zm_faw_2019_398_1            pigs              0.0             9.0   \n",
       "\n",
       "        died_to_heads  heads_to_died  \n",
       "2708              NaN            NaN  \n",
       "3939              inf            0.0  \n",
       "3986              NaN            NaN  \n",
       "4051              NaN            NaN  \n",
       "4067              inf            0.0  \n",
       "...               ...            ...  \n",
       "141126            NaN            NaN  \n",
       "141133            NaN            NaN  \n",
       "141138            inf            0.0  \n",
       "141216            NaN            NaN  \n",
       "146705            inf            0.0  \n",
       "\n",
       "[1369 rows x 6 columns]"
      ]
     },
     "execution_count": 44,
     "metadata": {},
     "output_type": "execute_result"
    }
   ],
   "source": [
    "combined_df[combined_df.livestock_heads == 0]"
   ]
  },
  {
   "cell_type": "code",
   "execution_count": 68,
   "id": "3e3a3fdc",
   "metadata": {},
   "outputs": [
    {
     "data": {
      "text/html": [
       "<div>\n",
       "<style scoped>\n",
       "    .dataframe tbody tr th:only-of-type {\n",
       "        vertical-align: middle;\n",
       "    }\n",
       "\n",
       "    .dataframe tbody tr th {\n",
       "        vertical-align: top;\n",
       "    }\n",
       "\n",
       "    .dataframe thead th {\n",
       "        text-align: right;\n",
       "    }\n",
       "</style>\n",
       "<table border=\"1\" class=\"dataframe\">\n",
       "  <thead>\n",
       "    <tr style=\"text-align: right;\">\n",
       "      <th></th>\n",
       "      <th>donkeys_horses_heads</th>\n",
       "    </tr>\n",
       "  </thead>\n",
       "  <tbody>\n",
       "    <tr>\n",
       "      <th>594</th>\n",
       "      <td>0.0</td>\n",
       "    </tr>\n",
       "  </tbody>\n",
       "</table>\n",
       "</div>"
      ],
      "text/plain": [
       "     donkeys_horses_heads\n",
       "594                   0.0"
      ]
     },
     "execution_count": 68,
     "metadata": {},
     "output_type": "execute_result"
    }
   ],
   "source": [
    "df[df.id_unique == 'bf_ec3_2022_167_2'][[ 'donkeys_horses_heads']]"
   ]
  },
  {
   "cell_type": "code",
   "execution_count": null,
   "id": "3123c4e1",
   "metadata": {},
   "outputs": [
    {
     "data": {
      "image/png": "[encoded data removed]",
      "text/plain": [
       "<Figure size 600x400 with 1 Axes>"
      ]
     },
     "metadata": {},
     "output_type": "display_data"
    }
   ],
   "source": [
    "\n",
    "    plt.figure(figsize=(6, 4))\n",
    "    sns.boxplot(x=combined_df['died_to_heads'].dropna(), color='orange')\n",
    "    plt.title('Boxplot of died_to_heads Ratio')\n",
    "    plt.xlabel('died_to_heads')\n",
    "    plt.tight_layout()\n",
    "    plt.show()\n"
   ]
  },
  {
   "cell_type": "code",
   "execution_count": 46,
   "id": "2246b9b2",
   "metadata": {},
   "outputs": [
    {
     "data": {
      "image/png": "[encoded data removed]",
      "text/plain": [
       "<Figure size 600x400 with 1 Axes>"
      ]
     },
     "metadata": {},
     "output_type": "display_data"
    }
   ],
   "source": [
    " plt.figure(figsize=(6, 4))\n",
    "sns.boxplot(x=combined_df['heads_to_died'].dropna(), color='orange')\n",
    "plt.title('Boxplot of heads_to_died Ratio')\n",
    "plt.xlabel('heads_to_died')\n",
    "plt.tight_layout()\n",
    "plt.show()\n"
   ]
  },
  {
   "cell_type": "code",
   "execution_count": 48,
   "id": "48ea9438",
   "metadata": {},
   "outputs": [
    {
     "name": "stdout",
     "output_type": "stream",
     "text": [
      "<class 'pandas.core.frame.DataFrame'>\n",
      "Index: 51845 entries, 0 to 153269\n",
      "Data columns (total 6 columns):\n",
      " #   Column           Non-Null Count  Dtype  \n",
      "---  ------           --------------  -----  \n",
      " 0   id_unique        51845 non-null  object \n",
      " 1   livestock_name   51845 non-null  object \n",
      " 2   livestock_heads  51845 non-null  float64\n",
      " 3   livestock_died   51845 non-null  float64\n",
      " 4   died_to_heads    50621 non-null  float64\n",
      " 5   heads_to_died    50621 non-null  float64\n",
      "dtypes: float64(4), object(2)\n",
      "memory usage: 2.8+ MB\n"
     ]
    }
   ],
   "source": [
    "combined_df.info()"
   ]
  },
  {
   "cell_type": "code",
   "execution_count": null,
   "id": "ff14b293",
   "metadata": {},
   "outputs": [
    {
     "name": "stdout",
     "output_type": "stream",
     "text": [
      "1224 animal- unique ID pair where both the animal head and deaths are zero\n"
     ]
    }
   ],
   "source": [
    "print(f'{51845 - 50621} animal- unique ID pairs where both the animal head and deaths are zero') # nans "
   ]
  },
  {
   "cell_type": "code",
   "execution_count": 51,
   "id": "7c428df3",
   "metadata": {},
   "outputs": [
    {
     "name": "stdout",
     "output_type": "stream",
     "text": [
      "<class 'pandas.core.frame.DataFrame'>\n",
      "Index: 50621 entries, 0 to 153269\n",
      "Data columns (total 6 columns):\n",
      " #   Column           Non-Null Count  Dtype  \n",
      "---  ------           --------------  -----  \n",
      " 0   id_unique        50621 non-null  object \n",
      " 1   livestock_name   50621 non-null  object \n",
      " 2   livestock_heads  50621 non-null  float64\n",
      " 3   livestock_died   50621 non-null  float64\n",
      " 4   died_to_heads    50621 non-null  float64\n",
      " 5   heads_to_died    50621 non-null  float64\n",
      "dtypes: float64(4), object(2)\n",
      "memory usage: 2.7+ MB\n"
     ]
    }
   ],
   "source": [
    "combined_df = combined_df[combined_df.died_to_heads.notna()]\n",
    "combined_df.info()"
   ]
  },
  {
   "cell_type": "code",
   "execution_count": 52,
   "id": "58df23bc",
   "metadata": {},
   "outputs": [
    {
     "name": "stderr",
     "output_type": "stream",
     "text": [
      "/Users/nishantshrestha/Library/Python/3.9/lib/python/site-packages/pandas/core/nanops.py:1016: RuntimeWarning: invalid value encountered in subtract\n",
      "  sqr = _ensure_numeric((avg - values) ** 2)\n",
      "/Users/nishantshrestha/Library/Python/3.9/lib/python/site-packages/numpy/lib/function_base.py:4655: RuntimeWarning: invalid value encountered in subtract\n",
      "  diff_b_a = subtract(b, a)\n",
      "/Users/nishantshrestha/Library/Python/3.9/lib/python/site-packages/pandas/core/nanops.py:1016: RuntimeWarning: invalid value encountered in subtract\n",
      "  sqr = _ensure_numeric((avg - values) ** 2)\n"
     ]
    },
    {
     "data": {
      "text/html": [
       "<div>\n",
       "<style scoped>\n",
       "    .dataframe tbody tr th:only-of-type {\n",
       "        vertical-align: middle;\n",
       "    }\n",
       "\n",
       "    .dataframe tbody tr th {\n",
       "        vertical-align: top;\n",
       "    }\n",
       "\n",
       "    .dataframe thead th {\n",
       "        text-align: right;\n",
       "    }\n",
       "</style>\n",
       "<table border=\"1\" class=\"dataframe\">\n",
       "  <thead>\n",
       "    <tr style=\"text-align: right;\">\n",
       "      <th></th>\n",
       "      <th>heads_to_died</th>\n",
       "      <th>died_to_heads</th>\n",
       "    </tr>\n",
       "  </thead>\n",
       "  <tbody>\n",
       "    <tr>\n",
       "      <th>count</th>\n",
       "      <td>50621.0</td>\n",
       "      <td>50621.00</td>\n",
       "    </tr>\n",
       "    <tr>\n",
       "      <th>mean</th>\n",
       "      <td>inf</td>\n",
       "      <td>inf</td>\n",
       "    </tr>\n",
       "    <tr>\n",
       "      <th>std</th>\n",
       "      <td>NaN</td>\n",
       "      <td>NaN</td>\n",
       "    </tr>\n",
       "    <tr>\n",
       "      <th>min</th>\n",
       "      <td>0.0</td>\n",
       "      <td>0.00</td>\n",
       "    </tr>\n",
       "    <tr>\n",
       "      <th>25%</th>\n",
       "      <td>4.0</td>\n",
       "      <td>0.00</td>\n",
       "    </tr>\n",
       "    <tr>\n",
       "      <th>50%</th>\n",
       "      <td>NaN</td>\n",
       "      <td>0.00</td>\n",
       "    </tr>\n",
       "    <tr>\n",
       "      <th>75%</th>\n",
       "      <td>NaN</td>\n",
       "      <td>0.25</td>\n",
       "    </tr>\n",
       "    <tr>\n",
       "      <th>max</th>\n",
       "      <td>inf</td>\n",
       "      <td>inf</td>\n",
       "    </tr>\n",
       "  </tbody>\n",
       "</table>\n",
       "</div>"
      ],
      "text/plain": [
       "       heads_to_died  died_to_heads\n",
       "count        50621.0       50621.00\n",
       "mean             inf            inf\n",
       "std              NaN            NaN\n",
       "min              0.0           0.00\n",
       "25%              4.0           0.00\n",
       "50%              NaN           0.00\n",
       "75%              NaN           0.25\n",
       "max              inf            inf"
      ]
     },
     "execution_count": 52,
     "metadata": {},
     "output_type": "execute_result"
    }
   ],
   "source": [
    "combined_df[['heads_to_died', 'died_to_heads']].describe()"
   ]
  },
  {
   "cell_type": "markdown",
   "id": "677ade09",
   "metadata": {},
   "source": [
    "quite a few infs as we try to divide by zero."
   ]
  },
  {
   "cell_type": "code",
   "execution_count": 59,
   "id": "62f358c1",
   "metadata": {},
   "outputs": [
    {
     "data": {
      "text/html": [
       "<div>\n",
       "<style scoped>\n",
       "    .dataframe tbody tr th:only-of-type {\n",
       "        vertical-align: middle;\n",
       "    }\n",
       "\n",
       "    .dataframe tbody tr th {\n",
       "        vertical-align: top;\n",
       "    }\n",
       "\n",
       "    .dataframe thead th {\n",
       "        text-align: right;\n",
       "    }\n",
       "</style>\n",
       "<table border=\"1\" class=\"dataframe\">\n",
       "  <thead>\n",
       "    <tr style=\"text-align: right;\">\n",
       "      <th></th>\n",
       "      <th>id_unique</th>\n",
       "      <th>livestock_name</th>\n",
       "      <th>livestock_heads</th>\n",
       "      <th>livestock_died</th>\n",
       "      <th>died_to_heads</th>\n",
       "      <th>heads_to_died</th>\n",
       "    </tr>\n",
       "  </thead>\n",
       "  <tbody>\n",
       "    <tr>\n",
       "      <th>3939</th>\n",
       "      <td>bf_ecd_2021_1043_1</td>\n",
       "      <td>chicken</td>\n",
       "      <td>0.0</td>\n",
       "      <td>3.0</td>\n",
       "      <td>inf</td>\n",
       "      <td>0.0</td>\n",
       "    </tr>\n",
       "    <tr>\n",
       "      <th>4067</th>\n",
       "      <td>bf_ecd_2021_1094_1</td>\n",
       "      <td>chicken</td>\n",
       "      <td>0.0</td>\n",
       "      <td>10.0</td>\n",
       "      <td>inf</td>\n",
       "      <td>0.0</td>\n",
       "    </tr>\n",
       "    <tr>\n",
       "      <th>6125</th>\n",
       "      <td>bf_ecd_2021_934_1</td>\n",
       "      <td>chicken</td>\n",
       "      <td>0.0</td>\n",
       "      <td>1.0</td>\n",
       "      <td>inf</td>\n",
       "      <td>0.0</td>\n",
       "    </tr>\n",
       "    <tr>\n",
       "      <th>6896</th>\n",
       "      <td>bf_pra_2021_1077_1</td>\n",
       "      <td>cattle</td>\n",
       "      <td>0.0</td>\n",
       "      <td>1.0</td>\n",
       "      <td>inf</td>\n",
       "      <td>0.0</td>\n",
       "    </tr>\n",
       "    <tr>\n",
       "      <th>7135</th>\n",
       "      <td>bf_pra_2021_1187_1</td>\n",
       "      <td>cattle</td>\n",
       "      <td>0.0</td>\n",
       "      <td>2.0</td>\n",
       "      <td>inf</td>\n",
       "      <td>0.0</td>\n",
       "    </tr>\n",
       "    <tr>\n",
       "      <th>...</th>\n",
       "      <td>...</td>\n",
       "      <td>...</td>\n",
       "      <td>...</td>\n",
       "      <td>...</td>\n",
       "      <td>...</td>\n",
       "      <td>...</td>\n",
       "    </tr>\n",
       "    <tr>\n",
       "      <th>140449</th>\n",
       "      <td>vn_crp_2020_347_1</td>\n",
       "      <td>cattle</td>\n",
       "      <td>0.0</td>\n",
       "      <td>1.0</td>\n",
       "      <td>inf</td>\n",
       "      <td>0.0</td>\n",
       "    </tr>\n",
       "    <tr>\n",
       "      <th>140678</th>\n",
       "      <td>vn_crp_2020_432_1</td>\n",
       "      <td>pigs</td>\n",
       "      <td>0.0</td>\n",
       "      <td>8.0</td>\n",
       "      <td>inf</td>\n",
       "      <td>0.0</td>\n",
       "    </tr>\n",
       "    <tr>\n",
       "      <th>140898</th>\n",
       "      <td>vn_crp_2020_501_1</td>\n",
       "      <td>chicken</td>\n",
       "      <td>0.0</td>\n",
       "      <td>30.0</td>\n",
       "      <td>inf</td>\n",
       "      <td>0.0</td>\n",
       "    </tr>\n",
       "    <tr>\n",
       "      <th>141138</th>\n",
       "      <td>vn_crp_2020_587_1</td>\n",
       "      <td>pigs</td>\n",
       "      <td>0.0</td>\n",
       "      <td>2.0</td>\n",
       "      <td>inf</td>\n",
       "      <td>0.0</td>\n",
       "    </tr>\n",
       "    <tr>\n",
       "      <th>146705</th>\n",
       "      <td>zm_faw_2019_398_1</td>\n",
       "      <td>pigs</td>\n",
       "      <td>0.0</td>\n",
       "      <td>9.0</td>\n",
       "      <td>inf</td>\n",
       "      <td>0.0</td>\n",
       "    </tr>\n",
       "  </tbody>\n",
       "</table>\n",
       "<p>145 rows × 6 columns</p>\n",
       "</div>"
      ],
      "text/plain": [
       "                 id_unique livestock_name  livestock_heads  livestock_died  \\\n",
       "3939    bf_ecd_2021_1043_1        chicken              0.0             3.0   \n",
       "4067    bf_ecd_2021_1094_1        chicken              0.0            10.0   \n",
       "6125     bf_ecd_2021_934_1        chicken              0.0             1.0   \n",
       "6896    bf_pra_2021_1077_1         cattle              0.0             1.0   \n",
       "7135    bf_pra_2021_1187_1         cattle              0.0             2.0   \n",
       "...                    ...            ...              ...             ...   \n",
       "140449   vn_crp_2020_347_1         cattle              0.0             1.0   \n",
       "140678   vn_crp_2020_432_1           pigs              0.0             8.0   \n",
       "140898   vn_crp_2020_501_1        chicken              0.0            30.0   \n",
       "141138   vn_crp_2020_587_1           pigs              0.0             2.0   \n",
       "146705   zm_faw_2019_398_1           pigs              0.0             9.0   \n",
       "\n",
       "        died_to_heads  heads_to_died  \n",
       "3939              inf            0.0  \n",
       "4067              inf            0.0  \n",
       "6125              inf            0.0  \n",
       "6896              inf            0.0  \n",
       "7135              inf            0.0  \n",
       "...               ...            ...  \n",
       "140449            inf            0.0  \n",
       "140678            inf            0.0  \n",
       "140898            inf            0.0  \n",
       "141138            inf            0.0  \n",
       "146705            inf            0.0  \n",
       "\n",
       "[145 rows x 6 columns]"
      ]
     },
     "execution_count": 59,
     "metadata": {},
     "output_type": "execute_result"
    }
   ],
   "source": [
    "combined_df[combined_df['died_to_heads'] == np.inf]"
   ]
  },
  {
   "cell_type": "code",
   "execution_count": 56,
   "id": "c6350c0b",
   "metadata": {},
   "outputs": [
    {
     "data": {
      "text/plain": [
       "(32527, 145)"
      ]
     },
     "execution_count": 56,
     "metadata": {},
     "output_type": "execute_result"
    }
   ],
   "source": [
    "#let's see how many infs we have in both heads_to_died and died_to_heads\n",
    "combined_df[combined_df['heads_to_died'] == np.inf].shape[0] , combined_df[combined_df['died_to_heads'] == np.inf].shape[0]"
   ]
  },
  {
   "cell_type": "code",
   "execution_count": 69,
   "id": "e02b14af",
   "metadata": {},
   "outputs": [
    {
     "name": "stdout",
     "output_type": "stream",
     "text": [
      "<class 'pandas.core.frame.DataFrame'>\n",
      "Index: 50476 entries, 0 to 153269\n",
      "Data columns (total 6 columns):\n",
      " #   Column           Non-Null Count  Dtype  \n",
      "---  ------           --------------  -----  \n",
      " 0   id_unique        50476 non-null  object \n",
      " 1   livestock_name   50476 non-null  object \n",
      " 2   livestock_heads  50476 non-null  float64\n",
      " 3   livestock_died   50476 non-null  float64\n",
      " 4   died_to_heads    50476 non-null  float64\n",
      " 5   heads_to_died    50476 non-null  float64\n",
      "dtypes: float64(4), object(2)\n",
      "memory usage: 2.7+ MB\n"
     ]
    }
   ],
   "source": [
    "death_to_heads_df = combined_df[combined_df['died_to_heads'] != np.inf].copy() # remove obs where there are deaths but no heads\n",
    "death_to_heads_df.info()"
   ]
  },
  {
   "cell_type": "code",
   "execution_count": 70,
   "id": "d583238e",
   "metadata": {},
   "outputs": [
    {
     "data": {
      "text/plain": [
       "count     50476.000000\n",
       "mean          8.379915\n",
       "std        1239.724082\n",
       "min           0.000000\n",
       "25%           0.000000\n",
       "50%           0.000000\n",
       "75%           0.250000\n",
       "max      266666.666667\n",
       "Name: died_to_heads, dtype: float64"
      ]
     },
     "execution_count": 70,
     "metadata": {},
     "output_type": "execute_result"
    }
   ],
   "source": [
    "death_to_heads_df['died_to_heads'].describe()"
   ]
  },
  {
   "cell_type": "code",
   "execution_count": 72,
   "id": "c5bc2ae6",
   "metadata": {
    "vscode": {
     "languageId": "ruby"
    }
   },
   "outputs": [
    {
     "name": "stdout",
     "output_type": "stream",
     "text": [
      "<class 'pandas.core.frame.DataFrame'>\n",
      "Index: 18094 entries, 0 to 153254\n",
      "Data columns (total 6 columns):\n",
      " #   Column           Non-Null Count  Dtype  \n",
      "---  ------           --------------  -----  \n",
      " 0   id_unique        18094 non-null  object \n",
      " 1   livestock_name   18094 non-null  object \n",
      " 2   livestock_heads  18094 non-null  float64\n",
      " 3   livestock_died   18094 non-null  float64\n",
      " 4   died_to_heads    18094 non-null  float64\n",
      " 5   heads_to_died    18094 non-null  float64\n",
      "dtypes: float64(4), object(2)\n",
      "memory usage: 989.5+ KB\n"
     ]
    }
   ],
   "source": [
    "\n",
    "heads_to_died_df = combined_df[combined_df['heads_to_died'] != np.inf].copy() # remove obs where there are deaths but no heads\n",
    "heads_to_died_df.info()\n"
   ]
  },
  {
   "cell_type": "code",
   "execution_count": 73,
   "id": "2d5280b0",
   "metadata": {},
   "outputs": [
    {
     "data": {
      "text/plain": [
       "count    18094.000000\n",
       "mean         4.819115\n",
       "std         12.737755\n",
       "min          0.000000\n",
       "25%          1.000000\n",
       "50%          2.250000\n",
       "75%          5.000000\n",
       "max        750.000000\n",
       "Name: heads_to_died, dtype: float64"
      ]
     },
     "execution_count": 73,
     "metadata": {},
     "output_type": "execute_result"
    }
   ],
   "source": [
    "heads_to_died_df['heads_to_died'].describe()"
   ]
  },
  {
   "cell_type": "markdown",
   "id": "e3ff4029",
   "metadata": {},
   "source": [
    "Note: winsorizing won't take care of values where herd size is large, but 0 deaths\n"
   ]
  },
  {
   "cell_type": "code",
   "execution_count": 74,
   "id": "1bb41b1c",
   "metadata": {},
   "outputs": [
    {
     "data": {
      "image/png": "[encoded data removed]",
      "text/plain": [
       "<Figure size 1000x400 with 2 Axes>"
      ]
     },
     "metadata": {},
     "output_type": "display_data"
    }
   ],
   "source": [
    "plt.figure(figsize=(10, 4))\n",
    "plt.subplot(1, 2, 1)\n",
    "sns.boxplot(x=death_to_heads_df['died_to_heads'].dropna(), color='lightblue')\n",
    "plt.title('Boxplot of died_to_heads')\n",
    "plt.xlabel('died_to_heads')\n",
    "\n",
    "plt.subplot(1, 2, 2)\n",
    "sns.histplot(death_to_heads_df['died_to_heads'].dropna(), bins=30, kde=True, color='skyblue')\n",
    "plt.title('Histogram of died_to_heads')\n",
    "plt.xlabel('died_to_heads')\n",
    "plt.ylabel('Frequency')\n",
    "\n",
    "plt.tight_layout()\n",
    "plt.show()"
   ]
  },
  {
   "cell_type": "code",
   "execution_count": 84,
   "id": "6d7118fc",
   "metadata": {},
   "outputs": [
    {
     "name": "stdout",
     "output_type": "stream",
     "text": [
      "<class 'pandas.core.frame.DataFrame'>\n",
      "Index: 17949 entries, 0 to 153254\n",
      "Data columns (total 6 columns):\n",
      " #   Column           Non-Null Count  Dtype  \n",
      "---  ------           --------------  -----  \n",
      " 0   id_unique        17949 non-null  object \n",
      " 1   livestock_name   17949 non-null  object \n",
      " 2   livestock_heads  17949 non-null  float64\n",
      " 3   livestock_died   17949 non-null  float64\n",
      " 4   died_to_heads    17949 non-null  float64\n",
      " 5   heads_to_died    17949 non-null  float64\n",
      "dtypes: float64(4), object(2)\n",
      "memory usage: 981.6+ KB\n"
     ]
    }
   ],
   "source": [
    "death_to_heads_df[death_to_heads_df['died_to_heads'] != 0].info()\n"
   ]
  },
  {
   "cell_type": "code",
   "execution_count": 85,
   "id": "3988ac1c",
   "metadata": {},
   "outputs": [
    {
     "data": {
      "image/png": "[encoded data removed]",
      "text/plain": [
       "<Figure size 1000x400 with 2 Axes>"
      ]
     },
     "metadata": {},
     "output_type": "display_data"
    }
   ],
   "source": [
    "# Remove top 5th percentile for died_to_heads\n",
    "cutoff = np.percentile(death_to_heads_df['died_to_heads'].dropna(), 95)\n",
    "filtered_df = death_to_heads_df[death_to_heads_df['died_to_heads'] <= cutoff]\n",
    "\n",
    "plt.figure(figsize=(10, 4))\n",
    "plt.subplot(1, 2, 1)\n",
    "sns.boxplot(x=filtered_df['died_to_heads'].dropna(), color='lightblue')\n",
    "plt.title('Boxplot of died_to_heads (<=95th percentile)')\n",
    "plt.xlabel('died_to_heads')\n",
    "\n",
    "plt.subplot(1, 2, 2)\n",
    "sns.histplot(filtered_df['died_to_heads'].dropna(), bins=30, kde=True, color='skyblue')\n",
    "plt.title('Histogram of died_to_heads (<=95th percentile)')\n",
    "plt.xlabel('died_to_heads')\n",
    "plt.ylabel('Frequency')\n",
    "\n",
    "plt.tight_layout()\n",
    "plt.show()"
   ]
  },
  {
   "cell_type": "code",
   "execution_count": 90,
   "id": "9f5709f1",
   "metadata": {},
   "outputs": [
    {
     "data": {
      "text/plain": [
       "18.0"
      ]
     },
     "execution_count": 90,
     "metadata": {},
     "output_type": "execute_result"
    }
   ],
   "source": [
    "cutoff = np.percentile(death_to_heads_df['died_to_heads'].dropna(), 99.9)\n",
    "cutoff"
   ]
  },
  {
   "cell_type": "code",
   "execution_count": 166,
   "id": "9baa2741",
   "metadata": {},
   "outputs": [
    {
     "data": {
      "text/plain": [
       "count     50476.000000\n",
       "mean          8.379915\n",
       "std        1239.724082\n",
       "min           0.000000\n",
       "25%           0.000000\n",
       "50%           0.000000\n",
       "75%           0.250000\n",
       "max      266666.666667\n",
       "Name: died_to_heads, dtype: float64"
      ]
     },
     "execution_count": 166,
     "metadata": {},
     "output_type": "execute_result"
    }
   ],
   "source": [
    "death_to_heads_df['died_to_heads'].describe()"
   ]
  },
  {
   "cell_type": "code",
   "execution_count": 91,
   "id": "cbb7c606",
   "metadata": {},
   "outputs": [
    {
     "name": "stdout",
     "output_type": "stream",
     "text": [
      "<class 'pandas.core.frame.DataFrame'>\n",
      "Index: 17949 entries, 0 to 153254\n",
      "Data columns (total 6 columns):\n",
      " #   Column           Non-Null Count  Dtype  \n",
      "---  ------           --------------  -----  \n",
      " 0   id_unique        17949 non-null  object \n",
      " 1   livestock_name   17949 non-null  object \n",
      " 2   livestock_heads  17949 non-null  float64\n",
      " 3   livestock_died   17949 non-null  float64\n",
      " 4   died_to_heads    17949 non-null  float64\n",
      " 5   heads_to_died    17949 non-null  float64\n",
      "dtypes: float64(4), object(2)\n",
      "memory usage: 981.6+ KB\n"
     ]
    }
   ],
   "source": [
    "no_zero_death_to_heads_df = death_to_heads_df[death_to_heads_df['died_to_heads'] != 0]\n",
    "no_zero_death_to_heads_df.info()"
   ]
  },
  {
   "cell_type": "code",
   "execution_count": 120,
   "id": "6eafeed8",
   "metadata": {},
   "outputs": [
    {
     "data": {
      "text/plain": [
       "count     17949.000000\n",
       "mean         23.565913\n",
       "std        2078.917188\n",
       "min           0.001333\n",
       "25%           0.200000\n",
       "50%           0.428571\n",
       "75%           1.000000\n",
       "max      266666.666667\n",
       "Name: died_to_heads, dtype: float64"
      ]
     },
     "execution_count": 120,
     "metadata": {},
     "output_type": "execute_result"
    }
   ],
   "source": [
    "no_zero_death_to_heads_df.died_to_heads.describe()"
   ]
  },
  {
   "cell_type": "code",
   "execution_count": null,
   "id": "a206ec6b",
   "metadata": {},
   "outputs": [
    {
     "data": {
      "text/plain": [
       "8.333333333333334"
      ]
     },
     "execution_count": 148,
     "metadata": {},
     "output_type": "execute_result"
    }
   ],
   "source": [
    "cutoff = np.percentile(no_zero_death_to_heads_df['died_to_heads'].dropna(), 99)\n",
    "cutoff"
   ]
  },
  {
   "cell_type": "markdown",
   "id": "757ced19",
   "metadata": {},
   "source": [
    "99.90 is 49, 99.80 is 20, and 99.95 is 187.5"
   ]
  },
  {
   "cell_type": "code",
   "execution_count": 119,
   "id": "c31e8471",
   "metadata": {},
   "outputs": [
    {
     "data": {
      "image/png": "[encoded data removed]",
      "text/plain": [
       "<Figure size 1000x400 with 2 Axes>"
      ]
     },
     "metadata": {},
     "output_type": "display_data"
    }
   ],
   "source": [
    "plt.figure(figsize=(10, 4))\n",
    "plt.subplot(1, 2, 1)\n",
    "sns.boxplot(x=no_zero_death_to_heads_df['died_to_heads'].dropna(), color='lightblue')\n",
    "plt.title('Boxplot of died_to_heads (no zero)')\n",
    "plt.xlabel('died_to_heads')\n",
    "\n",
    "plt.subplot(1, 2, 2)\n",
    "sns.histplot(no_zero_death_to_heads_df['died_to_heads'].dropna(), bins=30, kde=True, color='skyblue')\n",
    "plt.title('Histogram of died_to_heads (no zero)')\n",
    "plt.xlabel('died_to_heads')\n",
    "plt.ylabel('Frequency')\n",
    "\n",
    "plt.tight_layout()\n",
    "plt.show()"
   ]
  },
  {
   "cell_type": "code",
   "execution_count": 149,
   "id": "66be2854",
   "metadata": {},
   "outputs": [
    {
     "name": "stdout",
     "output_type": "stream",
     "text": [
      "number of values changed: 17\n",
      "total number of values: 17949\n"
     ]
    }
   ],
   "source": [
    "# winsorize values above 99.90\n",
    "values_to_winsorize = no_zero_death_to_heads_df['died_to_heads'].dropna().copy()\n",
    "winsorized = winsorize(values_to_winsorize, limits=(0, 0.001))\n",
    "\n",
    "# Count how many values were capped\n",
    "changed = np.sum(values_to_winsorize != winsorized)\n",
    "\n",
    "print('number of values changed:', changed)\n",
    "print('total number of values:', values_to_winsorize.size)"
   ]
  },
  {
   "cell_type": "code",
   "execution_count": 150,
   "id": "8d5e37a5",
   "metadata": {},
   "outputs": [
    {
     "name": "stdout",
     "output_type": "stream",
     "text": [
      "number of values changed: 17\n",
      "total number of values: 17949\n"
     ]
    }
   ],
   "source": [
    "\n",
    "\n",
    "# Drop NaNs and copy\n",
    "values = no_zero_death_to_heads_df['died_to_heads'].dropna().copy()\n",
    "\n",
    "# Winsorize (upper tail only)\n",
    "winsorized_masked = winsorize(values, limits=(0, 0.001))\n",
    "\n",
    "# Convert to plain NumPy array\n",
    "winsorized_array = winsorized_masked.filled()  # remove mask\n",
    "\n",
    "# Count how many values changed\n",
    "changed = np.sum(values.values != winsorized_array)\n",
    "\n",
    "print('number of values changed:', changed)\n",
    "print('total number of values:', values.size)\n"
   ]
  },
  {
   "cell_type": "code",
   "execution_count": 151,
   "id": "0186b073",
   "metadata": {},
   "outputs": [
    {
     "data": {
      "text/plain": [
       "array([0.25      , 0.4       , 1.        , ..., 1.        , 0.2       ,\n",
       "       0.08333333])"
      ]
     },
     "execution_count": 151,
     "metadata": {},
     "output_type": "execute_result"
    }
   ],
   "source": [
    "winsorized.filled()\n"
   ]
  },
  {
   "cell_type": "code",
   "execution_count": 152,
   "id": "ac5ff3f8",
   "metadata": {},
   "outputs": [
    {
     "data": {
      "text/plain": [
       "count    17949.000000\n",
       "mean         0.938242\n",
       "std          2.351104\n",
       "min          0.001333\n",
       "25%          0.200000\n",
       "50%          0.428571\n",
       "75%          1.000000\n",
       "max         49.000000\n",
       "dtype: float64"
      ]
     },
     "execution_count": 152,
     "metadata": {},
     "output_type": "execute_result"
    }
   ],
   "source": [
    "pd.Series(winsorized.filled()).describe()"
   ]
  },
  {
   "cell_type": "code",
   "execution_count": null,
   "id": "c110a171",
   "metadata": {},
   "outputs": [
    {
     "data": {
      "text/plain": [
       "count     17949.000000\n",
       "mean         23.565913\n",
       "std        2078.917188\n",
       "min           0.001333\n",
       "25%           0.200000\n",
       "50%           0.428571\n",
       "75%           1.000000\n",
       "max      266666.666667\n",
       "Name: died_to_heads, dtype: float64"
      ]
     },
     "execution_count": 135,
     "metadata": {},
     "output_type": "execute_result"
    }
   ],
   "source": []
  },
  {
   "cell_type": "code",
   "execution_count": 153,
   "id": "d91f54f9",
   "metadata": {},
   "outputs": [
    {
     "data": {
      "image/png": "[encoded data removed]",
      "text/plain": [
       "<Figure size 1000x400 with 2 Axes>"
      ]
     },
     "metadata": {},
     "output_type": "display_data"
    }
   ],
   "source": [
    "\n",
    "plt.figure(figsize=(10, 4))\n",
    "plt.subplot(1, 2, 1)\n",
    "sns.boxplot(x=winsorized.filled(), color='lightblue')\n",
    "plt.title('Boxplot of Winsorized died_to_heads')\n",
    "plt.xlabel('died_to_heads')\n",
    "\n",
    "# Histogram\n",
    "plt.subplot(1, 2, 2)\n",
    "sns.histplot(winsorized.filled(), bins=30, kde=True, color='skyblue')\n",
    "plt.title('Histogram of Winsorized died_to_heads')\n",
    "plt.xlabel('died_to_heads')\n",
    "plt.ylabel('Frequency')\n",
    "\n",
    "plt.tight_layout()\n",
    "plt.show()"
   ]
  },
  {
   "cell_type": "code",
   "execution_count": 155,
   "id": "e83e6f5f",
   "metadata": {},
   "outputs": [
    {
     "data": {
      "text/plain": [
       "49.000000    19\n",
       "40.000000     4\n",
       "35.000000     2\n",
       "33.333333     1\n",
       "30.000000     2\n",
       "28.000000     1\n",
       "25.000000     1\n",
       "24.000000     1\n",
       "23.333333     1\n",
       "23.000000     1\n",
       "21.000000     1\n",
       "20.000000    16\n",
       "18.000000     3\n",
       "17.500000     4\n",
       "16.666667     2\n",
       "16.000000     3\n",
       "15.000000    12\n",
       "14.400000     1\n",
       "14.333333     1\n",
       "14.000000     4\n",
       "13.333333     3\n",
       "13.000000     1\n",
       "12.666667     1\n",
       "12.500000     5\n",
       "12.000000     6\n",
       "11.764706     1\n",
       "11.666667     2\n",
       "11.250000     2\n",
       "11.000000     5\n",
       "10.666667     2\n",
       "Name: count, dtype: int64"
      ]
     },
     "execution_count": 155,
     "metadata": {},
     "output_type": "execute_result"
    }
   ],
   "source": [
    "pd.Series(winsorized.filled()).value_counts().sort_index(ascending=False).head(30)"
   ]
  },
  {
   "cell_type": "code",
   "execution_count": 145,
   "id": "e6990630",
   "metadata": {},
   "outputs": [
    {
     "data": {
      "text/plain": [
       "count    17949.000000\n",
       "mean         0.842573\n",
       "std          1.278781\n",
       "min          0.001333\n",
       "25%          0.200000\n",
       "50%          0.428571\n",
       "75%          1.000000\n",
       "max          8.333333\n",
       "dtype: float64"
      ]
     },
     "execution_count": 145,
     "metadata": {},
     "output_type": "execute_result"
    }
   ],
   "source": [
    "pd.Series(winsorized_array).describe()"
   ]
  },
  {
   "cell_type": "code",
   "execution_count": 156,
   "id": "5fb1dbd2",
   "metadata": {},
   "outputs": [
    {
     "name": "stdout",
     "output_type": "stream",
     "text": [
      "<class 'pandas.core.frame.DataFrame'>\n",
      "Index: 17949 entries, 0 to 153254\n",
      "Data columns (total 6 columns):\n",
      " #   Column           Non-Null Count  Dtype  \n",
      "---  ------           --------------  -----  \n",
      " 0   id_unique        17949 non-null  object \n",
      " 1   livestock_name   17949 non-null  object \n",
      " 2   livestock_heads  17949 non-null  float64\n",
      " 3   livestock_died   17949 non-null  float64\n",
      " 4   died_to_heads    17949 non-null  float64\n",
      " 5   heads_to_died    17949 non-null  float64\n",
      "dtypes: float64(4), object(2)\n",
      "memory usage: 981.6+ KB\n"
     ]
    }
   ],
   "source": [
    "# now do for heards to died\n",
    "no_zero_heads_to_death_df = heads_to_died_df[heads_to_died_df['heads_to_died'] != 0]\n",
    "no_zero_heads_to_death_df.info()"
   ]
  },
  {
   "cell_type": "code",
   "execution_count": 201,
   "id": "1eec9fc2",
   "metadata": {},
   "outputs": [
    {
     "data": {
      "text/plain": [
       "130.0"
      ]
     },
     "execution_count": 201,
     "metadata": {},
     "output_type": "execute_result"
    }
   ],
   "source": [
    "cutoff = np.percentile(no_zero_heads_to_death_df['heads_to_died'].dropna(), 99.90)\n",
    "cutoff"
   ]
  },
  {
   "cell_type": "markdown",
   "id": "65a49939",
   "metadata": {},
   "source": []
  },
  {
   "cell_type": "markdown",
   "id": "3ea2d038",
   "metadata": {},
   "source": [
    "99 PERCENTILE IS 40, 98 IS 27, 99.5 IS 59.12, 99.8 IS 88.5 AND 99.92 IS 156,SO I CHOOSE 99.90"
   ]
  },
  {
   "cell_type": "code",
   "execution_count": 202,
   "id": "e4784124",
   "metadata": {},
   "outputs": [
    {
     "name": "stdout",
     "output_type": "stream",
     "text": [
      "number of values changed: 17\n",
      "total number of values: 17949\n"
     ]
    }
   ],
   "source": [
    "# winsorize values above 99.90\n",
    "values_to_winsorize = no_zero_heads_to_death_df['heads_to_died'].dropna().copy()\n",
    "winsorized = winsorize(values_to_winsorize, limits=(0, 0.001))\n",
    "\n",
    "# Count how many values were capped\n",
    "changed = np.sum(values_to_winsorize != winsorized)\n",
    "\n",
    "print('number of values changed:', changed)\n",
    "print('total number of values:', values_to_winsorize.size)"
   ]
  },
  {
   "cell_type": "code",
   "execution_count": 204,
   "id": "8a6428f4",
   "metadata": {},
   "outputs": [
    {
     "data": {
      "image/png": "[encoded data removed]",
      "text/plain": [
       "<Figure size 1000x400 with 2 Axes>"
      ]
     },
     "metadata": {},
     "output_type": "display_data"
    }
   ],
   "source": [
    "plt.figure(figsize=(10, 4))\n",
    "plt.subplot(1, 2, 1)\n",
    "sns.boxplot(x=winsorized.filled(), color='lightblue')\n",
    "plt.title('Boxplot of Winsorized heads_to_died')\n",
    "plt.xlabel('heads_to_died')\n",
    "\n",
    "# Histogram\n",
    "plt.subplot(1, 2, 2)\n",
    "sns.histplot(winsorized.filled(), bins=30, kde=True, color='skyblue')\n",
    "plt.title('Histogram of Winsorized heads_to_died')\n",
    "plt.xlabel('heads_to_died')\n",
    "plt.ylabel('Frequency')\n",
    "\n",
    "plt.tight_layout()\n",
    "plt.show()"
   ]
  },
  {
   "cell_type": "code",
   "execution_count": 208,
   "id": "333cf9b9",
   "metadata": {},
   "outputs": [
    {
     "data": {
      "text/plain": [
       "count    17949.000000\n",
       "mean         4.712031\n",
       "std          8.720334\n",
       "min          0.000004\n",
       "25%          1.000000\n",
       "50%          2.333333\n",
       "75%          5.000000\n",
       "max        130.000000\n",
       "dtype: float64"
      ]
     },
     "execution_count": 208,
     "metadata": {},
     "output_type": "execute_result"
    }
   ],
   "source": [
    "pd.Series(winsorized.filled()).describe()"
   ]
  },
  {
   "cell_type": "code",
   "execution_count": 209,
   "id": "62885aa0",
   "metadata": {},
   "outputs": [
    {
     "data": {
      "text/html": [
       "<div>\n",
       "<style scoped>\n",
       "    .dataframe tbody tr th:only-of-type {\n",
       "        vertical-align: middle;\n",
       "    }\n",
       "\n",
       "    .dataframe tbody tr th {\n",
       "        vertical-align: top;\n",
       "    }\n",
       "\n",
       "    .dataframe thead th {\n",
       "        text-align: right;\n",
       "    }\n",
       "</style>\n",
       "<table border=\"1\" class=\"dataframe\">\n",
       "  <thead>\n",
       "    <tr style=\"text-align: right;\">\n",
       "      <th></th>\n",
       "      <th>id_unique</th>\n",
       "      <th>livestock_name</th>\n",
       "      <th>livestock_heads</th>\n",
       "      <th>livestock_died</th>\n",
       "      <th>died_to_heads</th>\n",
       "      <th>heads_to_died</th>\n",
       "    </tr>\n",
       "  </thead>\n",
       "  <tbody>\n",
       "    <tr>\n",
       "      <th>0</th>\n",
       "      <td>bf_adn_2019_10_1</td>\n",
       "      <td>cattle</td>\n",
       "      <td>4.0</td>\n",
       "      <td>1.0</td>\n",
       "      <td>0.250000</td>\n",
       "      <td>4.0</td>\n",
       "    </tr>\n",
       "    <tr>\n",
       "      <th>3</th>\n",
       "      <td>bf_adn_2019_10_1</td>\n",
       "      <td>sheep</td>\n",
       "      <td>5.0</td>\n",
       "      <td>2.0</td>\n",
       "      <td>0.400000</td>\n",
       "      <td>2.5</td>\n",
       "    </tr>\n",
       "    <tr>\n",
       "      <th>4</th>\n",
       "      <td>bf_adn_2019_11_1</td>\n",
       "      <td>cattle</td>\n",
       "      <td>1.0</td>\n",
       "      <td>0.0</td>\n",
       "      <td>0.000000</td>\n",
       "      <td>inf</td>\n",
       "    </tr>\n",
       "    <tr>\n",
       "      <th>5</th>\n",
       "      <td>bf_adn_2019_11_1</td>\n",
       "      <td>chicken</td>\n",
       "      <td>4.0</td>\n",
       "      <td>4.0</td>\n",
       "      <td>1.000000</td>\n",
       "      <td>1.0</td>\n",
       "    </tr>\n",
       "    <tr>\n",
       "      <th>6</th>\n",
       "      <td>bf_adn_2019_11_1</td>\n",
       "      <td>goats</td>\n",
       "      <td>1.0</td>\n",
       "      <td>0.0</td>\n",
       "      <td>0.000000</td>\n",
       "      <td>inf</td>\n",
       "    </tr>\n",
       "    <tr>\n",
       "      <th>...</th>\n",
       "      <td>...</td>\n",
       "      <td>...</td>\n",
       "      <td>...</td>\n",
       "      <td>...</td>\n",
       "      <td>...</td>\n",
       "      <td>...</td>\n",
       "    </tr>\n",
       "    <tr>\n",
       "      <th>153244</th>\n",
       "      <td>zm_scn_2017_98_1</td>\n",
       "      <td>cattle</td>\n",
       "      <td>6.0</td>\n",
       "      <td>0.0</td>\n",
       "      <td>0.000000</td>\n",
       "      <td>inf</td>\n",
       "    </tr>\n",
       "    <tr>\n",
       "      <th>153248</th>\n",
       "      <td>zm_scn_2017_98_1</td>\n",
       "      <td>goats</td>\n",
       "      <td>9.0</td>\n",
       "      <td>0.0</td>\n",
       "      <td>0.000000</td>\n",
       "      <td>inf</td>\n",
       "    </tr>\n",
       "    <tr>\n",
       "      <th>153254</th>\n",
       "      <td>zm_scn_2017_99_1</td>\n",
       "      <td>cattle</td>\n",
       "      <td>12.0</td>\n",
       "      <td>1.0</td>\n",
       "      <td>0.083333</td>\n",
       "      <td>12.0</td>\n",
       "    </tr>\n",
       "    <tr>\n",
       "      <th>153266</th>\n",
       "      <td>zm_scn_2017_9_1</td>\n",
       "      <td>chicken</td>\n",
       "      <td>8.0</td>\n",
       "      <td>0.0</td>\n",
       "      <td>0.000000</td>\n",
       "      <td>inf</td>\n",
       "    </tr>\n",
       "    <tr>\n",
       "      <th>153269</th>\n",
       "      <td>zm_scn_2017_9_1</td>\n",
       "      <td>goats</td>\n",
       "      <td>5.0</td>\n",
       "      <td>0.0</td>\n",
       "      <td>0.000000</td>\n",
       "      <td>inf</td>\n",
       "    </tr>\n",
       "  </tbody>\n",
       "</table>\n",
       "<p>50621 rows × 6 columns</p>\n",
       "</div>"
      ],
      "text/plain": [
       "               id_unique livestock_name  livestock_heads  livestock_died  \\\n",
       "0       bf_adn_2019_10_1         cattle              4.0             1.0   \n",
       "3       bf_adn_2019_10_1          sheep              5.0             2.0   \n",
       "4       bf_adn_2019_11_1         cattle              1.0             0.0   \n",
       "5       bf_adn_2019_11_1        chicken              4.0             4.0   \n",
       "6       bf_adn_2019_11_1          goats              1.0             0.0   \n",
       "...                  ...            ...              ...             ...   \n",
       "153244  zm_scn_2017_98_1         cattle              6.0             0.0   \n",
       "153248  zm_scn_2017_98_1          goats              9.0             0.0   \n",
       "153254  zm_scn_2017_99_1         cattle             12.0             1.0   \n",
       "153266   zm_scn_2017_9_1        chicken              8.0             0.0   \n",
       "153269   zm_scn_2017_9_1          goats              5.0             0.0   \n",
       "\n",
       "        died_to_heads  heads_to_died  \n",
       "0            0.250000            4.0  \n",
       "3            0.400000            2.5  \n",
       "4            0.000000            inf  \n",
       "5            1.000000            1.0  \n",
       "6            0.000000            inf  \n",
       "...               ...            ...  \n",
       "153244       0.000000            inf  \n",
       "153248       0.000000            inf  \n",
       "153254       0.083333           12.0  \n",
       "153266       0.000000            inf  \n",
       "153269       0.000000            inf  \n",
       "\n",
       "[50621 rows x 6 columns]"
      ]
     },
     "execution_count": 209,
     "metadata": {},
     "output_type": "execute_result"
    }
   ],
   "source": [
    "combined_df"
   ]
  },
  {
   "cell_type": "code",
   "execution_count": 213,
   "id": "a35a4ebf",
   "metadata": {},
   "outputs": [
    {
     "name": "stdout",
     "output_type": "stream",
     "text": [
      "livestock_name                 \n",
      "bees            livestock_heads   -3.601963e-18\n",
      "buffalo         livestock_heads    3.761693e-02\n",
      "camel           livestock_heads    4.291393e-01\n",
      "cattle          livestock_heads    1.583969e-03\n",
      "chicken         livestock_heads    2.145780e-01\n",
      "dogs            livestock_heads             NaN\n",
      "donkeys_horses  livestock_heads    1.509700e-02\n",
      "duck            livestock_heads             NaN\n",
      "fish            livestock_heads   -1.992677e-02\n",
      "goats           livestock_heads    4.252619e-01\n",
      "guinea_pigs     livestock_heads    1.557515e-01\n",
      "otherpoultry    livestock_heads    1.984972e-01\n",
      "oxen            livestock_heads             NaN\n",
      "pigs            livestock_heads    6.252007e-01\n",
      "rabbits         livestock_heads    3.169470e-01\n",
      "sheep           livestock_heads   -3.949293e-03\n",
      "Name: livestock_died, dtype: float64\n"
     ]
    }
   ],
   "source": [
    "corrs = (\n",
    "    combined_df.groupby(\"livestock_name\")[[\"livestock_heads\", \"livestock_died\"]]\n",
    "    .corr()\n",
    "    .iloc[0::2, -1]   # select heads–died correlation\n",
    ")\n",
    "print(corrs)\n"
   ]
  },
  {
   "cell_type": "code",
   "execution_count": 214,
   "id": "d54e4050",
   "metadata": {},
   "outputs": [
    {
     "name": "stdout",
     "output_type": "stream",
     "text": [
      "livestock_name                 \n",
      "bees            livestock_heads   -3.601963e-18\n",
      "buffalo         livestock_heads    3.761693e-02\n",
      "camel           livestock_heads    4.291393e-01\n",
      "cattle          livestock_heads    3.112873e-01\n",
      "chicken         livestock_heads    2.214107e-01\n",
      "dogs            livestock_heads             NaN\n",
      "donkeys_horses  livestock_heads    3.625884e-02\n",
      "duck            livestock_heads             NaN\n",
      "fish            livestock_heads   -4.513363e-01\n",
      "goats           livestock_heads    3.743987e-01\n",
      "guinea_pigs     livestock_heads    1.557515e-01\n",
      "otherpoultry    livestock_heads    1.830341e-01\n",
      "oxen            livestock_heads             NaN\n",
      "pigs            livestock_heads    1.583408e-01\n",
      "rabbits         livestock_heads    3.169470e-01\n",
      "sheep           livestock_heads    3.283817e-01\n",
      "Name: livestock_died, dtype: float64\n"
     ]
    }
   ],
   "source": [
    "# Filter first (strictly less than, as requested)\n",
    "f = combined_df[\n",
    "    (combined_df[\"livestock_heads\"] < 130) &\n",
    "    (combined_df[\"livestock_died\"]  < 49)\n",
    "]\n",
    "\n",
    "# (Optional) drop rows with missing values in either column\n",
    "f = f.dropna(subset=[\"livestock_heads\", \"livestock_died\"])\n",
    "\n",
    "# Compute Pearson correlations per animal\n",
    "corrs = (\n",
    "    f.groupby(\"livestock_name\")[[\"livestock_heads\", \"livestock_died\"]]\n",
    "     .corr()\n",
    "     .iloc[0::2, -1]  # heads–died correlation\n",
    ")\n",
    "\n",
    "print(corrs)\n"
   ]
  },
  {
   "cell_type": "code",
   "execution_count": 216,
   "id": "64840d49",
   "metadata": {},
   "outputs": [
    {
     "data": {
      "text/html": [
       "<div>\n",
       "<style scoped>\n",
       "    .dataframe tbody tr th:only-of-type {\n",
       "        vertical-align: middle;\n",
       "    }\n",
       "\n",
       "    .dataframe tbody tr th {\n",
       "        vertical-align: top;\n",
       "    }\n",
       "\n",
       "    .dataframe thead th {\n",
       "        text-align: right;\n",
       "    }\n",
       "</style>\n",
       "<table border=\"1\" class=\"dataframe\">\n",
       "  <thead>\n",
       "    <tr style=\"text-align: right;\">\n",
       "      <th></th>\n",
       "      <th>id_unique</th>\n",
       "      <th>crop_name</th>\n",
       "      <th>crop_residue_use</th>\n",
       "      <th>crop_number</th>\n",
       "      <th>burn_crop</th>\n",
       "    </tr>\n",
       "  </thead>\n",
       "  <tbody>\n",
       "    <tr>\n",
       "      <th>0</th>\n",
       "      <td>bf_adn_2019_10_1</td>\n",
       "      <td>millet</td>\n",
       "      <td>soil feed</td>\n",
       "      <td>1</td>\n",
       "      <td>0</td>\n",
       "    </tr>\n",
       "    <tr>\n",
       "      <th>1</th>\n",
       "      <td>bf_adn_2019_10_1</td>\n",
       "      <td>groundnut</td>\n",
       "      <td>soil feed</td>\n",
       "      <td>2</td>\n",
       "      <td>0</td>\n",
       "    </tr>\n",
       "    <tr>\n",
       "      <th>2</th>\n",
       "      <td>bf_adn_2019_10_1</td>\n",
       "      <td>sesame</td>\n",
       "      <td>soil feed</td>\n",
       "      <td>3</td>\n",
       "      <td>0</td>\n",
       "    </tr>\n",
       "    <tr>\n",
       "      <th>8</th>\n",
       "      <td>bf_adn_2019_11_1</td>\n",
       "      <td>millet</td>\n",
       "      <td>feed soil</td>\n",
       "      <td>1</td>\n",
       "      <td>0</td>\n",
       "    </tr>\n",
       "    <tr>\n",
       "      <th>9</th>\n",
       "      <td>bf_adn_2019_11_1</td>\n",
       "      <td>maize</td>\n",
       "      <td>soil feed</td>\n",
       "      <td>2</td>\n",
       "      <td>0</td>\n",
       "    </tr>\n",
       "    <tr>\n",
       "      <th>...</th>\n",
       "      <td>...</td>\n",
       "      <td>...</td>\n",
       "      <td>...</td>\n",
       "      <td>...</td>\n",
       "      <td>...</td>\n",
       "    </tr>\n",
       "    <tr>\n",
       "      <th>438946</th>\n",
       "      <td>zm_scn_2017_96_1</td>\n",
       "      <td>sunflower</td>\n",
       "      <td>soil</td>\n",
       "      <td>3</td>\n",
       "      <td>0</td>\n",
       "    </tr>\n",
       "    <tr>\n",
       "      <th>438952</th>\n",
       "      <td>zm_scn_2017_97_1</td>\n",
       "      <td>maize</td>\n",
       "      <td>soil</td>\n",
       "      <td>1</td>\n",
       "      <td>0</td>\n",
       "    </tr>\n",
       "    <tr>\n",
       "      <th>438960</th>\n",
       "      <td>zm_scn_2017_98_1</td>\n",
       "      <td>maize</td>\n",
       "      <td>soil</td>\n",
       "      <td>1</td>\n",
       "      <td>0</td>\n",
       "    </tr>\n",
       "    <tr>\n",
       "      <th>438968</th>\n",
       "      <td>zm_scn_2017_99_1</td>\n",
       "      <td>maize</td>\n",
       "      <td>soil</td>\n",
       "      <td>1</td>\n",
       "      <td>0</td>\n",
       "    </tr>\n",
       "    <tr>\n",
       "      <th>438976</th>\n",
       "      <td>zm_scn_2017_9_1</td>\n",
       "      <td>maize</td>\n",
       "      <td>soil</td>\n",
       "      <td>1</td>\n",
       "      <td>0</td>\n",
       "    </tr>\n",
       "  </tbody>\n",
       "</table>\n",
       "<p>95962 rows × 5 columns</p>\n",
       "</div>"
      ],
      "text/plain": [
       "               id_unique  crop_name crop_residue_use  crop_number  burn_crop\n",
       "0       bf_adn_2019_10_1     millet        soil feed            1          0\n",
       "1       bf_adn_2019_10_1  groundnut        soil feed            2          0\n",
       "2       bf_adn_2019_10_1     sesame        soil feed            3          0\n",
       "8       bf_adn_2019_11_1     millet        feed soil            1          0\n",
       "9       bf_adn_2019_11_1      maize        soil feed            2          0\n",
       "...                  ...        ...              ...          ...        ...\n",
       "438946  zm_scn_2017_96_1  sunflower             soil            3          0\n",
       "438952  zm_scn_2017_97_1      maize             soil            1          0\n",
       "438960  zm_scn_2017_98_1      maize             soil            1          0\n",
       "438968  zm_scn_2017_99_1      maize             soil            1          0\n",
       "438976   zm_scn_2017_9_1      maize             soil            1          0\n",
       "\n",
       "[95962 rows x 5 columns]"
      ]
     },
     "execution_count": 216,
     "metadata": {},
     "output_type": "execute_result"
    }
   ],
   "source": [
    "final_crop_df\n"
   ]
  },
  {
   "cell_type": "code",
   "execution_count": 221,
   "id": "24041f26",
   "metadata": {},
   "outputs": [
    {
     "data": {
      "text/plain": [
       "crop_residue_use\n",
       "feed                  29656\n",
       "soil                  23677\n",
       "soil feed              6092\n",
       "feed compost           4020\n",
       "burn                   3739\n",
       "compost                2986\n",
       "soil burn              1769\n",
       "sell                   1501\n",
       "feed soil              1391\n",
       "fuel feed              1279\n",
       "fuel                   1139\n",
       "feed construction      1066\n",
       "soil compost            994\n",
       "soil fuel               982\n",
       "burn feed               970\n",
       "soil feed compost       922\n",
       "feed sell               847\n",
       "construction            696\n",
       "no_answer               627\n",
       "compost feed            614\n",
       "construction feed       555\n",
       "feed fuel               471\n",
       "soil fuel feed          414\n",
       "burn fuel               347\n",
       "feed burn               322\n",
       "soil construction       283\n",
       "other feed compost      267\n",
       "fuel feed compost       253\n",
       "sell feed               229\n",
       "soil burn feed          224\n",
       "Name: count, dtype: int64"
      ]
     },
     "execution_count": 221,
     "metadata": {},
     "output_type": "execute_result"
    }
   ],
   "source": [
    "final_crop_df.crop_residue_use.value_counts().sort_values(ascending=False).head(30)"
   ]
  },
  {
   "cell_type": "code",
   "execution_count": 222,
   "id": "7779b06d",
   "metadata": {},
   "outputs": [],
   "source": [
    "final_crop_df['feed_crop'] = final_crop_df['crop_residue_use'].str.contains('feed', case=False, na=False).astype(int)"
   ]
  },
  {
   "cell_type": "code",
   "execution_count": 223,
   "id": "ffeb007e",
   "metadata": {},
   "outputs": [
    {
     "data": {
      "text/html": [
       "<div>\n",
       "<style scoped>\n",
       "    .dataframe tbody tr th:only-of-type {\n",
       "        vertical-align: middle;\n",
       "    }\n",
       "\n",
       "    .dataframe tbody tr th {\n",
       "        vertical-align: top;\n",
       "    }\n",
       "\n",
       "    .dataframe thead th {\n",
       "        text-align: right;\n",
       "    }\n",
       "</style>\n",
       "<table border=\"1\" class=\"dataframe\">\n",
       "  <thead>\n",
       "    <tr style=\"text-align: right;\">\n",
       "      <th></th>\n",
       "      <th>id_unique</th>\n",
       "      <th>crop_name</th>\n",
       "      <th>crop_residue_use</th>\n",
       "      <th>crop_number</th>\n",
       "      <th>burn_crop</th>\n",
       "      <th>feed_crop</th>\n",
       "    </tr>\n",
       "  </thead>\n",
       "  <tbody>\n",
       "    <tr>\n",
       "      <th>0</th>\n",
       "      <td>bf_adn_2019_10_1</td>\n",
       "      <td>millet</td>\n",
       "      <td>soil feed</td>\n",
       "      <td>1</td>\n",
       "      <td>0</td>\n",
       "      <td>1</td>\n",
       "    </tr>\n",
       "    <tr>\n",
       "      <th>1</th>\n",
       "      <td>bf_adn_2019_10_1</td>\n",
       "      <td>groundnut</td>\n",
       "      <td>soil feed</td>\n",
       "      <td>2</td>\n",
       "      <td>0</td>\n",
       "      <td>1</td>\n",
       "    </tr>\n",
       "    <tr>\n",
       "      <th>2</th>\n",
       "      <td>bf_adn_2019_10_1</td>\n",
       "      <td>sesame</td>\n",
       "      <td>soil feed</td>\n",
       "      <td>3</td>\n",
       "      <td>0</td>\n",
       "      <td>1</td>\n",
       "    </tr>\n",
       "    <tr>\n",
       "      <th>8</th>\n",
       "      <td>bf_adn_2019_11_1</td>\n",
       "      <td>millet</td>\n",
       "      <td>feed soil</td>\n",
       "      <td>1</td>\n",
       "      <td>0</td>\n",
       "      <td>1</td>\n",
       "    </tr>\n",
       "    <tr>\n",
       "      <th>9</th>\n",
       "      <td>bf_adn_2019_11_1</td>\n",
       "      <td>maize</td>\n",
       "      <td>soil feed</td>\n",
       "      <td>2</td>\n",
       "      <td>0</td>\n",
       "      <td>1</td>\n",
       "    </tr>\n",
       "    <tr>\n",
       "      <th>...</th>\n",
       "      <td>...</td>\n",
       "      <td>...</td>\n",
       "      <td>...</td>\n",
       "      <td>...</td>\n",
       "      <td>...</td>\n",
       "      <td>...</td>\n",
       "    </tr>\n",
       "    <tr>\n",
       "      <th>438946</th>\n",
       "      <td>zm_scn_2017_96_1</td>\n",
       "      <td>sunflower</td>\n",
       "      <td>soil</td>\n",
       "      <td>3</td>\n",
       "      <td>0</td>\n",
       "      <td>0</td>\n",
       "    </tr>\n",
       "    <tr>\n",
       "      <th>438952</th>\n",
       "      <td>zm_scn_2017_97_1</td>\n",
       "      <td>maize</td>\n",
       "      <td>soil</td>\n",
       "      <td>1</td>\n",
       "      <td>0</td>\n",
       "      <td>0</td>\n",
       "    </tr>\n",
       "    <tr>\n",
       "      <th>438960</th>\n",
       "      <td>zm_scn_2017_98_1</td>\n",
       "      <td>maize</td>\n",
       "      <td>soil</td>\n",
       "      <td>1</td>\n",
       "      <td>0</td>\n",
       "      <td>0</td>\n",
       "    </tr>\n",
       "    <tr>\n",
       "      <th>438968</th>\n",
       "      <td>zm_scn_2017_99_1</td>\n",
       "      <td>maize</td>\n",
       "      <td>soil</td>\n",
       "      <td>1</td>\n",
       "      <td>0</td>\n",
       "      <td>0</td>\n",
       "    </tr>\n",
       "    <tr>\n",
       "      <th>438976</th>\n",
       "      <td>zm_scn_2017_9_1</td>\n",
       "      <td>maize</td>\n",
       "      <td>soil</td>\n",
       "      <td>1</td>\n",
       "      <td>0</td>\n",
       "      <td>0</td>\n",
       "    </tr>\n",
       "  </tbody>\n",
       "</table>\n",
       "<p>95962 rows × 6 columns</p>\n",
       "</div>"
      ],
      "text/plain": [
       "               id_unique  crop_name crop_residue_use  crop_number  burn_crop  \\\n",
       "0       bf_adn_2019_10_1     millet        soil feed            1          0   \n",
       "1       bf_adn_2019_10_1  groundnut        soil feed            2          0   \n",
       "2       bf_adn_2019_10_1     sesame        soil feed            3          0   \n",
       "8       bf_adn_2019_11_1     millet        feed soil            1          0   \n",
       "9       bf_adn_2019_11_1      maize        soil feed            2          0   \n",
       "...                  ...        ...              ...          ...        ...   \n",
       "438946  zm_scn_2017_96_1  sunflower             soil            3          0   \n",
       "438952  zm_scn_2017_97_1      maize             soil            1          0   \n",
       "438960  zm_scn_2017_98_1      maize             soil            1          0   \n",
       "438968  zm_scn_2017_99_1      maize             soil            1          0   \n",
       "438976   zm_scn_2017_9_1      maize             soil            1          0   \n",
       "\n",
       "        feed_crop  \n",
       "0               1  \n",
       "1               1  \n",
       "2               1  \n",
       "8               1  \n",
       "9               1  \n",
       "...           ...  \n",
       "438946          0  \n",
       "438952          0  \n",
       "438960          0  \n",
       "438968          0  \n",
       "438976          0  \n",
       "\n",
       "[95962 rows x 6 columns]"
      ]
     },
     "execution_count": 223,
     "metadata": {},
     "output_type": "execute_result"
    }
   ],
   "source": [
    "final_crop_df"
   ]
  },
  {
   "cell_type": "code",
   "execution_count": 224,
   "id": "7df2c531",
   "metadata": {},
   "outputs": [],
   "source": [
    "import numpy as np\n",
    "\n",
    "def classify(row):\n",
    "    if row[\"burn_crop\"] == 1 and row[\"feed_crop\"] == 0:\n",
    "        return \"Burned only\"\n",
    "    elif row[\"burn_crop\"] == 0 and row[\"feed_crop\"] == 1:\n",
    "        return \"Fed only\"\n",
    "    elif row[\"burn_crop\"] == 1 and row[\"feed_crop\"] == 1:\n",
    "        return \"Both\"\n",
    "    else:\n",
    "        return \"Neither\"\n",
    "\n",
    "final_crop_df[\"residue_use\"] = final_crop_df.apply(classify, axis=1)\n"
   ]
  },
  {
   "cell_type": "code",
   "execution_count": 225,
   "id": "492b697d",
   "metadata": {},
   "outputs": [
    {
     "name": "stdout",
     "output_type": "stream",
     "text": [
      "residue_use   Both  Burned only  Fed only  Neither\n",
      "crop_name                                         \n",
      "abish            0            0         1        0\n",
      "achiote          0            0         0        1\n",
      "agave            0            0         1        7\n",
      "agushi           0            0         0        4\n",
      "alfalfa          0            0        33       12\n",
      "...            ...          ...       ...      ...\n",
      "yams             0            0        13       56\n",
      "yarlong_bean     0            0         0        1\n",
      "ylang_ylang      0            0         0       22\n",
      "yute             0            0         0        1\n",
      "zucchini         3            6        30       26\n",
      "\n",
      "[206 rows x 4 columns]\n"
     ]
    }
   ],
   "source": [
    "summary = final_crop_df.groupby([\"crop_name\", \"residue_use\"]).size().unstack(fill_value=0)\n",
    "print(summary)\n",
    "\n"
   ]
  },
  {
   "cell_type": "code",
   "execution_count": 227,
   "id": "37b096a1",
   "metadata": {},
   "outputs": [
    {
     "data": {
      "image/png": "[encoded data removed]",
      "text/plain": [
       "<Figure size 1000x800 with 1 Axes>"
      ]
     },
     "metadata": {},
     "output_type": "display_data"
    }
   ],
   "source": [
    "\n",
    "\n",
    "# 1) Keep only top 20 crops by total count across categories\n",
    "top20 = (\n",
    "    summary.assign(_total=summary.sum(axis=1))\n",
    "           .sort_values(\"_total\", ascending=False)\n",
    "           .head(20)\n",
    "           .drop(columns=\"_total\")\n",
    ")\n",
    "\n",
    "# 2) Horizontal stacked bar; largest on top\n",
    "ax = top20.plot(\n",
    "    kind=\"barh\",\n",
    "    stacked=True,\n",
    "    figsize=(10, 8)  # a bit taller for readability\n",
    "    # no colormap if you have a style preference; otherwise you can add one\n",
    ")\n",
    "\n",
    "# Put largest at the top\n",
    "ax.invert_yaxis()\n",
    "\n",
    "plt.title(\"Residue Use by Crop — Top 20\")\n",
    "plt.xlabel(\"Number of Farmers\")\n",
    "plt.ylabel(\"Crop\")\n",
    "plt.legend(title=\"Residue Use\", bbox_to_anchor=(1.02, 1), loc=\"upper left\")\n",
    "plt.tight_layout()\n",
    "plt.show()\n",
    "\n"
   ]
  },
  {
   "cell_type": "code",
   "execution_count": 230,
   "id": "5612dabc",
   "metadata": {},
   "outputs": [
    {
     "data": {
      "image/png": "[encoded data removed]",
      "text/plain": [
       "<Figure size 1000x800 with 1 Axes>"
      ]
     },
     "metadata": {},
     "output_type": "display_data"
    }
   ],
   "source": [
    "import matplotlib.ticker as mtick\n",
    "\n",
    "# 1) Keep only top 20 crops by total count across categories\n",
    "top20 = (\n",
    "    summary.assign(_total=summary.sum(axis=1))\n",
    "           .sort_values(\"_total\", ascending=False)\n",
    "           .head(20)\n",
    "           .drop(columns=\"_total\")\n",
    ")\n",
    "\n",
    "# 2) Convert to proportions (guard against divide-by-zero)\n",
    "row_sums = top20.sum(axis=1)\n",
    "top20_pct = top20.div(row_sums.replace(0, float(\"nan\")), axis=0)\n",
    "\n",
    "# 3) Horizontal stacked bar of proportions\n",
    "ax = top20_pct.plot(kind=\"barh\", stacked=True, figsize=(10, 8))\n",
    "\n",
    "ax.invert_yaxis()\n",
    "ax.xaxis.set_major_formatter(mtick.PercentFormatter(1.0))  # 0–1 → 0–100%\n",
    "\n",
    "plt.title(\"Residue Use by Crop — Top 20 (Proportions)\")\n",
    "plt.xlabel(\"Share of Farmers\")\n",
    "plt.ylabel(\"Crop\")\n",
    "plt.legend(title=\"Residue Use\", bbox_to_anchor=(1.02, 1), loc=\"upper left\")\n",
    "plt.tight_layout()\n",
    "plt.show()\n"
   ]
  },
  {
   "cell_type": "code",
   "execution_count": null,
   "id": "1495a0bb",
   "metadata": {},
   "outputs": [],
   "source": [
    "\n"
   ]
  },
  {
   "cell_type": "code",
   "execution_count": null,
   "id": "5159e850",
   "metadata": {},
   "outputs": [
    {
     "data": {
      "image/png": "[encoded data removed]",
      "text/plain": [
       "<Figure size 1000x800 with 1 Axes>"
      ]
     },
     "metadata": {},
     "output_type": "display_data"
    }
   ],
   "source": [
    "\n",
    "# # 1) Top 20 crops by \"Both\"\n",
    "# both_top20 = (\n",
    "#     summary[summary.get(\"Both\", 0) > 0]\n",
    "#     .sort_values(\"Both\", ascending=False)\n",
    "#     .head(20)[\"Both\"]\n",
    "# )\n",
    "\n",
    "# # 2) Subset summary to those crops and keep the same order\n",
    "# sub = summary.loc[both_top20.index]\n",
    "\n",
    "# # 3) (Optional) order columns consistently if these exist\n",
    "# desired_order = [\"Burned only\", \"Fed only\", \"Both\", \"Neither\"]\n",
    "# cols = [c for c in desired_order if c in sub.columns]\n",
    "# if cols:\n",
    "#     sub = sub[cols]\n",
    "\n",
    "# # 4) Plot stacked horizontal bars\n",
    "# ax = sub.plot(kind=\"barh\", stacked=True, figsize=(10, 8))\n",
    "# ax.invert_yaxis()  # largest \"Both\" at the top due to our row order\n",
    "\n",
    "# plt.title(\"Residue Use by Crop — Top 20 Crops with Both Burned & Fed\")\n",
    "# plt.xlabel(\"Number of Farmers\")\n",
    "# plt.ylabel(\"Crop\")\n",
    "# plt.legend(title=\"Residue Use\", bbox_to_anchor=(1.02, 1), loc=\"upper left\")\n",
    "# plt.tight_layout()\n",
    "# plt.show()\n"
   ]
  },
  {
   "cell_type": "code",
   "execution_count": 235,
   "id": "c88e45ca",
   "metadata": {},
   "outputs": [
    {
     "data": {
      "text/html": [
       "<div>\n",
       "<style scoped>\n",
       "    .dataframe tbody tr th:only-of-type {\n",
       "        vertical-align: middle;\n",
       "    }\n",
       "\n",
       "    .dataframe tbody tr th {\n",
       "        vertical-align: top;\n",
       "    }\n",
       "\n",
       "    .dataframe thead th {\n",
       "        text-align: right;\n",
       "    }\n",
       "</style>\n",
       "<table border=\"1\" class=\"dataframe\">\n",
       "  <thead>\n",
       "    <tr style=\"text-align: right;\">\n",
       "      <th></th>\n",
       "      <th>id_unique</th>\n",
       "      <th>crop_name</th>\n",
       "      <th>crop_residue_use</th>\n",
       "      <th>crop_number</th>\n",
       "      <th>burn_crop</th>\n",
       "      <th>feed_crop</th>\n",
       "      <th>residue_use</th>\n",
       "    </tr>\n",
       "  </thead>\n",
       "  <tbody>\n",
       "    <tr>\n",
       "      <th>0</th>\n",
       "      <td>bf_adn_2019_10_1</td>\n",
       "      <td>millet</td>\n",
       "      <td>soil feed</td>\n",
       "      <td>1</td>\n",
       "      <td>0</td>\n",
       "      <td>1</td>\n",
       "      <td>Fed only</td>\n",
       "    </tr>\n",
       "    <tr>\n",
       "      <th>1</th>\n",
       "      <td>bf_adn_2019_10_1</td>\n",
       "      <td>groundnut</td>\n",
       "      <td>soil feed</td>\n",
       "      <td>2</td>\n",
       "      <td>0</td>\n",
       "      <td>1</td>\n",
       "      <td>Fed only</td>\n",
       "    </tr>\n",
       "    <tr>\n",
       "      <th>2</th>\n",
       "      <td>bf_adn_2019_10_1</td>\n",
       "      <td>sesame</td>\n",
       "      <td>soil feed</td>\n",
       "      <td>3</td>\n",
       "      <td>0</td>\n",
       "      <td>1</td>\n",
       "      <td>Fed only</td>\n",
       "    </tr>\n",
       "    <tr>\n",
       "      <th>8</th>\n",
       "      <td>bf_adn_2019_11_1</td>\n",
       "      <td>millet</td>\n",
       "      <td>feed soil</td>\n",
       "      <td>1</td>\n",
       "      <td>0</td>\n",
       "      <td>1</td>\n",
       "      <td>Fed only</td>\n",
       "    </tr>\n",
       "    <tr>\n",
       "      <th>9</th>\n",
       "      <td>bf_adn_2019_11_1</td>\n",
       "      <td>maize</td>\n",
       "      <td>soil feed</td>\n",
       "      <td>2</td>\n",
       "      <td>0</td>\n",
       "      <td>1</td>\n",
       "      <td>Fed only</td>\n",
       "    </tr>\n",
       "    <tr>\n",
       "      <th>...</th>\n",
       "      <td>...</td>\n",
       "      <td>...</td>\n",
       "      <td>...</td>\n",
       "      <td>...</td>\n",
       "      <td>...</td>\n",
       "      <td>...</td>\n",
       "      <td>...</td>\n",
       "    </tr>\n",
       "    <tr>\n",
       "      <th>438946</th>\n",
       "      <td>zm_scn_2017_96_1</td>\n",
       "      <td>sunflower</td>\n",
       "      <td>soil</td>\n",
       "      <td>3</td>\n",
       "      <td>0</td>\n",
       "      <td>0</td>\n",
       "      <td>Neither</td>\n",
       "    </tr>\n",
       "    <tr>\n",
       "      <th>438952</th>\n",
       "      <td>zm_scn_2017_97_1</td>\n",
       "      <td>maize</td>\n",
       "      <td>soil</td>\n",
       "      <td>1</td>\n",
       "      <td>0</td>\n",
       "      <td>0</td>\n",
       "      <td>Neither</td>\n",
       "    </tr>\n",
       "    <tr>\n",
       "      <th>438960</th>\n",
       "      <td>zm_scn_2017_98_1</td>\n",
       "      <td>maize</td>\n",
       "      <td>soil</td>\n",
       "      <td>1</td>\n",
       "      <td>0</td>\n",
       "      <td>0</td>\n",
       "      <td>Neither</td>\n",
       "    </tr>\n",
       "    <tr>\n",
       "      <th>438968</th>\n",
       "      <td>zm_scn_2017_99_1</td>\n",
       "      <td>maize</td>\n",
       "      <td>soil</td>\n",
       "      <td>1</td>\n",
       "      <td>0</td>\n",
       "      <td>0</td>\n",
       "      <td>Neither</td>\n",
       "    </tr>\n",
       "    <tr>\n",
       "      <th>438976</th>\n",
       "      <td>zm_scn_2017_9_1</td>\n",
       "      <td>maize</td>\n",
       "      <td>soil</td>\n",
       "      <td>1</td>\n",
       "      <td>0</td>\n",
       "      <td>0</td>\n",
       "      <td>Neither</td>\n",
       "    </tr>\n",
       "  </tbody>\n",
       "</table>\n",
       "<p>95962 rows × 7 columns</p>\n",
       "</div>"
      ],
      "text/plain": [
       "               id_unique  crop_name crop_residue_use  crop_number  burn_crop  \\\n",
       "0       bf_adn_2019_10_1     millet        soil feed            1          0   \n",
       "1       bf_adn_2019_10_1  groundnut        soil feed            2          0   \n",
       "2       bf_adn_2019_10_1     sesame        soil feed            3          0   \n",
       "8       bf_adn_2019_11_1     millet        feed soil            1          0   \n",
       "9       bf_adn_2019_11_1      maize        soil feed            2          0   \n",
       "...                  ...        ...              ...          ...        ...   \n",
       "438946  zm_scn_2017_96_1  sunflower             soil            3          0   \n",
       "438952  zm_scn_2017_97_1      maize             soil            1          0   \n",
       "438960  zm_scn_2017_98_1      maize             soil            1          0   \n",
       "438968  zm_scn_2017_99_1      maize             soil            1          0   \n",
       "438976   zm_scn_2017_9_1      maize             soil            1          0   \n",
       "\n",
       "        feed_crop residue_use  \n",
       "0               1    Fed only  \n",
       "1               1    Fed only  \n",
       "2               1    Fed only  \n",
       "8               1    Fed only  \n",
       "9               1    Fed only  \n",
       "...           ...         ...  \n",
       "438946          0     Neither  \n",
       "438952          0     Neither  \n",
       "438960          0     Neither  \n",
       "438968          0     Neither  \n",
       "438976          0     Neither  \n",
       "\n",
       "[95962 rows x 7 columns]"
      ]
     },
     "execution_count": 235,
     "metadata": {},
     "output_type": "execute_result"
    }
   ],
   "source": [
    "final_crop_df"
   ]
  },
  {
   "cell_type": "code",
   "execution_count": 236,
   "id": "f924ef38",
   "metadata": {},
   "outputs": [
    {
     "data": {
      "text/html": [
       "<div>\n",
       "<style scoped>\n",
       "    .dataframe tbody tr th:only-of-type {\n",
       "        vertical-align: middle;\n",
       "    }\n",
       "\n",
       "    .dataframe tbody tr th {\n",
       "        vertical-align: top;\n",
       "    }\n",
       "\n",
       "    .dataframe thead th {\n",
       "        text-align: right;\n",
       "    }\n",
       "</style>\n",
       "<table border=\"1\" class=\"dataframe\">\n",
       "  <thead>\n",
       "    <tr style=\"text-align: right;\">\n",
       "      <th></th>\n",
       "      <th>id_unique</th>\n",
       "      <th>livestock_name</th>\n",
       "      <th>livestock_heads</th>\n",
       "      <th>livestock_died</th>\n",
       "      <th>died_to_heads</th>\n",
       "      <th>heads_to_died</th>\n",
       "    </tr>\n",
       "  </thead>\n",
       "  <tbody>\n",
       "    <tr>\n",
       "      <th>0</th>\n",
       "      <td>bf_adn_2019_10_1</td>\n",
       "      <td>cattle</td>\n",
       "      <td>4.0</td>\n",
       "      <td>1.0</td>\n",
       "      <td>0.250000</td>\n",
       "      <td>4.0</td>\n",
       "    </tr>\n",
       "    <tr>\n",
       "      <th>3</th>\n",
       "      <td>bf_adn_2019_10_1</td>\n",
       "      <td>sheep</td>\n",
       "      <td>5.0</td>\n",
       "      <td>2.0</td>\n",
       "      <td>0.400000</td>\n",
       "      <td>2.5</td>\n",
       "    </tr>\n",
       "    <tr>\n",
       "      <th>4</th>\n",
       "      <td>bf_adn_2019_11_1</td>\n",
       "      <td>cattle</td>\n",
       "      <td>1.0</td>\n",
       "      <td>0.0</td>\n",
       "      <td>0.000000</td>\n",
       "      <td>inf</td>\n",
       "    </tr>\n",
       "    <tr>\n",
       "      <th>5</th>\n",
       "      <td>bf_adn_2019_11_1</td>\n",
       "      <td>chicken</td>\n",
       "      <td>4.0</td>\n",
       "      <td>4.0</td>\n",
       "      <td>1.000000</td>\n",
       "      <td>1.0</td>\n",
       "    </tr>\n",
       "    <tr>\n",
       "      <th>6</th>\n",
       "      <td>bf_adn_2019_11_1</td>\n",
       "      <td>goats</td>\n",
       "      <td>1.0</td>\n",
       "      <td>0.0</td>\n",
       "      <td>0.000000</td>\n",
       "      <td>inf</td>\n",
       "    </tr>\n",
       "    <tr>\n",
       "      <th>...</th>\n",
       "      <td>...</td>\n",
       "      <td>...</td>\n",
       "      <td>...</td>\n",
       "      <td>...</td>\n",
       "      <td>...</td>\n",
       "      <td>...</td>\n",
       "    </tr>\n",
       "    <tr>\n",
       "      <th>153244</th>\n",
       "      <td>zm_scn_2017_98_1</td>\n",
       "      <td>cattle</td>\n",
       "      <td>6.0</td>\n",
       "      <td>0.0</td>\n",
       "      <td>0.000000</td>\n",
       "      <td>inf</td>\n",
       "    </tr>\n",
       "    <tr>\n",
       "      <th>153248</th>\n",
       "      <td>zm_scn_2017_98_1</td>\n",
       "      <td>goats</td>\n",
       "      <td>9.0</td>\n",
       "      <td>0.0</td>\n",
       "      <td>0.000000</td>\n",
       "      <td>inf</td>\n",
       "    </tr>\n",
       "    <tr>\n",
       "      <th>153254</th>\n",
       "      <td>zm_scn_2017_99_1</td>\n",
       "      <td>cattle</td>\n",
       "      <td>12.0</td>\n",
       "      <td>1.0</td>\n",
       "      <td>0.083333</td>\n",
       "      <td>12.0</td>\n",
       "    </tr>\n",
       "    <tr>\n",
       "      <th>153266</th>\n",
       "      <td>zm_scn_2017_9_1</td>\n",
       "      <td>chicken</td>\n",
       "      <td>8.0</td>\n",
       "      <td>0.0</td>\n",
       "      <td>0.000000</td>\n",
       "      <td>inf</td>\n",
       "    </tr>\n",
       "    <tr>\n",
       "      <th>153269</th>\n",
       "      <td>zm_scn_2017_9_1</td>\n",
       "      <td>goats</td>\n",
       "      <td>5.0</td>\n",
       "      <td>0.0</td>\n",
       "      <td>0.000000</td>\n",
       "      <td>inf</td>\n",
       "    </tr>\n",
       "  </tbody>\n",
       "</table>\n",
       "<p>50621 rows × 6 columns</p>\n",
       "</div>"
      ],
      "text/plain": [
       "               id_unique livestock_name  livestock_heads  livestock_died  \\\n",
       "0       bf_adn_2019_10_1         cattle              4.0             1.0   \n",
       "3       bf_adn_2019_10_1          sheep              5.0             2.0   \n",
       "4       bf_adn_2019_11_1         cattle              1.0             0.0   \n",
       "5       bf_adn_2019_11_1        chicken              4.0             4.0   \n",
       "6       bf_adn_2019_11_1          goats              1.0             0.0   \n",
       "...                  ...            ...              ...             ...   \n",
       "153244  zm_scn_2017_98_1         cattle              6.0             0.0   \n",
       "153248  zm_scn_2017_98_1          goats              9.0             0.0   \n",
       "153254  zm_scn_2017_99_1         cattle             12.0             1.0   \n",
       "153266   zm_scn_2017_9_1        chicken              8.0             0.0   \n",
       "153269   zm_scn_2017_9_1          goats              5.0             0.0   \n",
       "\n",
       "        died_to_heads  heads_to_died  \n",
       "0            0.250000            4.0  \n",
       "3            0.400000            2.5  \n",
       "4            0.000000            inf  \n",
       "5            1.000000            1.0  \n",
       "6            0.000000            inf  \n",
       "...               ...            ...  \n",
       "153244       0.000000            inf  \n",
       "153248       0.000000            inf  \n",
       "153254       0.083333           12.0  \n",
       "153266       0.000000            inf  \n",
       "153269       0.000000            inf  \n",
       "\n",
       "[50621 rows x 6 columns]"
      ]
     },
     "execution_count": 236,
     "metadata": {},
     "output_type": "execute_result"
    }
   ],
   "source": [
    "combined_df"
   ]
  },
  {
   "cell_type": "code",
   "execution_count": 237,
   "id": "93f28443",
   "metadata": {},
   "outputs": [],
   "source": [
    "# 1. Keep only crops where residues are used as feed\n",
    "feed_crops = final_crop_df[final_crop_df['feed_crop'] == 1][['id_unique', 'crop_name', 'residue_use']]\n",
    "\n",
    "# 2. Merge with livestock dataset on household ID\n",
    "merged = pd.merge(feed_crops, combined_df, on=\"id_unique\", how=\"inner\")"
   ]
  },
  {
   "cell_type": "code",
   "execution_count": 240,
   "id": "dc7a43f5",
   "metadata": {},
   "outputs": [
    {
     "data": {
      "text/html": [
       "<div>\n",
       "<style scoped>\n",
       "    .dataframe tbody tr th:only-of-type {\n",
       "        vertical-align: middle;\n",
       "    }\n",
       "\n",
       "    .dataframe tbody tr th {\n",
       "        vertical-align: top;\n",
       "    }\n",
       "\n",
       "    .dataframe thead th {\n",
       "        text-align: right;\n",
       "    }\n",
       "</style>\n",
       "<table border=\"1\" class=\"dataframe\">\n",
       "  <thead>\n",
       "    <tr style=\"text-align: right;\">\n",
       "      <th></th>\n",
       "      <th>id_unique</th>\n",
       "      <th>crop_name</th>\n",
       "      <th>residue_use</th>\n",
       "      <th>livestock_name</th>\n",
       "      <th>livestock_heads</th>\n",
       "      <th>livestock_died</th>\n",
       "      <th>died_to_heads</th>\n",
       "      <th>heads_to_died</th>\n",
       "    </tr>\n",
       "  </thead>\n",
       "  <tbody>\n",
       "    <tr>\n",
       "      <th>0</th>\n",
       "      <td>bf_adn_2019_10_1</td>\n",
       "      <td>millet</td>\n",
       "      <td>Fed only</td>\n",
       "      <td>cattle</td>\n",
       "      <td>4.0</td>\n",
       "      <td>1.0</td>\n",
       "      <td>0.250000</td>\n",
       "      <td>4.000000</td>\n",
       "    </tr>\n",
       "    <tr>\n",
       "      <th>1</th>\n",
       "      <td>bf_adn_2019_10_1</td>\n",
       "      <td>millet</td>\n",
       "      <td>Fed only</td>\n",
       "      <td>sheep</td>\n",
       "      <td>5.0</td>\n",
       "      <td>2.0</td>\n",
       "      <td>0.400000</td>\n",
       "      <td>2.500000</td>\n",
       "    </tr>\n",
       "    <tr>\n",
       "      <th>2</th>\n",
       "      <td>bf_adn_2019_10_1</td>\n",
       "      <td>groundnut</td>\n",
       "      <td>Fed only</td>\n",
       "      <td>cattle</td>\n",
       "      <td>4.0</td>\n",
       "      <td>1.0</td>\n",
       "      <td>0.250000</td>\n",
       "      <td>4.000000</td>\n",
       "    </tr>\n",
       "    <tr>\n",
       "      <th>3</th>\n",
       "      <td>bf_adn_2019_10_1</td>\n",
       "      <td>groundnut</td>\n",
       "      <td>Fed only</td>\n",
       "      <td>sheep</td>\n",
       "      <td>5.0</td>\n",
       "      <td>2.0</td>\n",
       "      <td>0.400000</td>\n",
       "      <td>2.500000</td>\n",
       "    </tr>\n",
       "    <tr>\n",
       "      <th>4</th>\n",
       "      <td>bf_adn_2019_10_1</td>\n",
       "      <td>sesame</td>\n",
       "      <td>Fed only</td>\n",
       "      <td>cattle</td>\n",
       "      <td>4.0</td>\n",
       "      <td>1.0</td>\n",
       "      <td>0.250000</td>\n",
       "      <td>4.000000</td>\n",
       "    </tr>\n",
       "    <tr>\n",
       "      <th>...</th>\n",
       "      <td>...</td>\n",
       "      <td>...</td>\n",
       "      <td>...</td>\n",
       "      <td>...</td>\n",
       "      <td>...</td>\n",
       "      <td>...</td>\n",
       "      <td>...</td>\n",
       "      <td>...</td>\n",
       "    </tr>\n",
       "    <tr>\n",
       "      <th>75455</th>\n",
       "      <td>zm_scn_2017_51_1</td>\n",
       "      <td>maize</td>\n",
       "      <td>Fed only</td>\n",
       "      <td>cattle</td>\n",
       "      <td>4.0</td>\n",
       "      <td>1.0</td>\n",
       "      <td>0.250000</td>\n",
       "      <td>4.000000</td>\n",
       "    </tr>\n",
       "    <tr>\n",
       "      <th>75456</th>\n",
       "      <td>zm_scn_2017_608_1</td>\n",
       "      <td>maize</td>\n",
       "      <td>Fed only</td>\n",
       "      <td>cattle</td>\n",
       "      <td>7.0</td>\n",
       "      <td>3.0</td>\n",
       "      <td>0.428571</td>\n",
       "      <td>2.333333</td>\n",
       "    </tr>\n",
       "    <tr>\n",
       "      <th>75457</th>\n",
       "      <td>zm_scn_2017_608_1</td>\n",
       "      <td>maize</td>\n",
       "      <td>Fed only</td>\n",
       "      <td>goats</td>\n",
       "      <td>5.0</td>\n",
       "      <td>0.0</td>\n",
       "      <td>0.000000</td>\n",
       "      <td>inf</td>\n",
       "    </tr>\n",
       "    <tr>\n",
       "      <th>75458</th>\n",
       "      <td>zm_scn_2017_609_1</td>\n",
       "      <td>groundnut</td>\n",
       "      <td>Fed only</td>\n",
       "      <td>cattle</td>\n",
       "      <td>1.0</td>\n",
       "      <td>0.0</td>\n",
       "      <td>0.000000</td>\n",
       "      <td>inf</td>\n",
       "    </tr>\n",
       "    <tr>\n",
       "      <th>75459</th>\n",
       "      <td>zm_scn_2017_91_1</td>\n",
       "      <td>maize</td>\n",
       "      <td>Fed only</td>\n",
       "      <td>cattle</td>\n",
       "      <td>15.0</td>\n",
       "      <td>1.0</td>\n",
       "      <td>0.066667</td>\n",
       "      <td>15.000000</td>\n",
       "    </tr>\n",
       "  </tbody>\n",
       "</table>\n",
       "<p>75460 rows × 8 columns</p>\n",
       "</div>"
      ],
      "text/plain": [
       "               id_unique  crop_name residue_use livestock_name  \\\n",
       "0       bf_adn_2019_10_1     millet    Fed only         cattle   \n",
       "1       bf_adn_2019_10_1     millet    Fed only          sheep   \n",
       "2       bf_adn_2019_10_1  groundnut    Fed only         cattle   \n",
       "3       bf_adn_2019_10_1  groundnut    Fed only          sheep   \n",
       "4       bf_adn_2019_10_1     sesame    Fed only         cattle   \n",
       "...                  ...        ...         ...            ...   \n",
       "75455   zm_scn_2017_51_1      maize    Fed only         cattle   \n",
       "75456  zm_scn_2017_608_1      maize    Fed only         cattle   \n",
       "75457  zm_scn_2017_608_1      maize    Fed only          goats   \n",
       "75458  zm_scn_2017_609_1  groundnut    Fed only         cattle   \n",
       "75459   zm_scn_2017_91_1      maize    Fed only         cattle   \n",
       "\n",
       "       livestock_heads  livestock_died  died_to_heads  heads_to_died  \n",
       "0                  4.0             1.0       0.250000       4.000000  \n",
       "1                  5.0             2.0       0.400000       2.500000  \n",
       "2                  4.0             1.0       0.250000       4.000000  \n",
       "3                  5.0             2.0       0.400000       2.500000  \n",
       "4                  4.0             1.0       0.250000       4.000000  \n",
       "...                ...             ...            ...            ...  \n",
       "75455              4.0             1.0       0.250000       4.000000  \n",
       "75456              7.0             3.0       0.428571       2.333333  \n",
       "75457              5.0             0.0       0.000000            inf  \n",
       "75458              1.0             0.0       0.000000            inf  \n",
       "75459             15.0             1.0       0.066667      15.000000  \n",
       "\n",
       "[75460 rows x 8 columns]"
      ]
     },
     "execution_count": 240,
     "metadata": {},
     "output_type": "execute_result"
    }
   ],
   "source": [
    "merged"
   ]
  },
  {
   "cell_type": "code",
   "execution_count": 244,
   "id": "d46bfa3e",
   "metadata": {},
   "outputs": [
    {
     "data": {
      "text/plain": [
       "residue_use\n",
       "Fed only    71354\n",
       "Both         4106\n",
       "Name: count, dtype: int64"
      ]
     },
     "execution_count": 244,
     "metadata": {},
     "output_type": "execute_result"
    }
   ],
   "source": [
    "merged.residue_use.value_counts().sort_values(ascending=False)"
   ]
  },
  {
   "cell_type": "code",
   "execution_count": 238,
   "id": "4940e1e9",
   "metadata": {},
   "outputs": [
    {
     "name": "stdout",
     "output_type": "stream",
     "text": [
      "    livestock_name  num_households\n",
      "3           cattle           11918\n",
      "4          chicken            7403\n",
      "9            goats            5622\n",
      "15           sheep            4841\n",
      "6   donkeys_horses            2553\n",
      "13            pigs            2069\n",
      "11    otherpoultry             307\n",
      "1          buffalo             290\n",
      "14         rabbits             181\n",
      "10     guinea_pigs              53\n",
      "2            camel              32\n",
      "8             fish              14\n",
      "0             bees               6\n",
      "5             dogs               4\n",
      "7             duck               1\n",
      "12            oxen               1\n"
     ]
    }
   ],
   "source": [
    "animals_residue = (\n",
    "    merged.groupby(\"livestock_name\")[\"id_unique\"]\n",
    "    .nunique()  # number of unique households\n",
    "    .reset_index(name=\"num_households\")\n",
    "    .sort_values(\"num_households\", ascending=False)\n",
    ")\n",
    "\n",
    "print(animals_residue)"
   ]
  },
  {
   "cell_type": "code",
   "execution_count": 239,
   "id": "036433dd",
   "metadata": {},
   "outputs": [
    {
     "name": "stdout",
     "output_type": "stream",
     "text": [
      "    crop_name  livestock_name  num_households\n",
      "347     maize          cattle            5554\n",
      "348     maize         chicken            3661\n",
      "353     maize           goats            2964\n",
      "612     wheat          cattle            2548\n",
      "53     barley          cattle            1764\n",
      "..        ...             ...             ...\n",
      "397   oilpalm         rabbits               1\n",
      "398   oilpalm           sheep               1\n",
      "413     onion  donkeys_horses               1\n",
      "417   oranges            pigs               1\n",
      "631  zucchini           sheep               1\n",
      "\n",
      "[632 rows x 3 columns]\n"
     ]
    }
   ],
   "source": [
    "crop_animal = (\n",
    "    merged.groupby([\"crop_name\", \"livestock_name\"])[\"id_unique\"]\n",
    "    .nunique()\n",
    "    .reset_index(name=\"num_households\")\n",
    "    .sort_values(\"num_households\", ascending=False)\n",
    ")\n",
    "\n",
    "print(crop_animal)"
   ]
  },
  {
   "cell_type": "code",
   "execution_count": 243,
   "id": "00e3874d",
   "metadata": {},
   "outputs": [
    {
     "data": {
      "image/png": "[encoded data removed]",
      "text/plain": [
       "<Figure size 800x500 with 1 Axes>"
      ]
     },
     "metadata": {},
     "output_type": "display_data"
    }
   ],
   "source": [
    "def plot_animals_residue(animals_residue):\n",
    "    x = animals_residue['livestock_name'].astype(str).tolist()\n",
    "    y = animals_residue['num_households'].tolist()\n",
    "\n",
    "    plt.figure(figsize=(8, 5))\n",
    "    plt.bar(x, y)\n",
    "    plt.title(\"Animals in Households that Feed Crop Residues\")\n",
    "    plt.xlabel(\"Animal\")\n",
    "    plt.ylabel(\"Number of Households\")\n",
    "    plt.xticks(rotation=45, ha='right')\n",
    "    plt.tight_layout()\n",
    "    plt.show()\n",
    "    \n",
    "plot_animals_residue(animals_residue)\n"
   ]
  },
  {
   "cell_type": "code",
   "execution_count": null,
   "id": "547d0d16",
   "metadata": {},
   "outputs": [
    {
     "name": "stdout",
     "output_type": "stream",
     "text": [
      "                            OLS Regression Results                            \n",
      "==============================================================================\n",
      "Dep. Variable:             death_rate   R-squared:                       0.000\n",
      "Model:                            OLS   Adj. R-squared:                 -0.000\n",
      "Method:                 Least Squares   F-statistic:                     1.846\n",
      "Date:                Fri, 01 Aug 2025   Prob (F-statistic):              0.158\n",
      "Time:                        10:57:14   Log-Likelihood:            -2.3411e+05\n",
      "No. Observations:               28808   AIC:                         4.682e+05\n",
      "Df Residuals:                   28805   BIC:                         4.683e+05\n",
      "Df Model:                           2                                         \n",
      "Covariance Type:                  HC1                                         \n",
      "=========================================================================================\n",
      "                            coef    std err          z      P>|z|      [0.025      0.975]\n",
      "-----------------------------------------------------------------------------------------\n",
      "Intercept                 7.3179      8.129      0.900      0.368      -8.614      23.250\n",
      "any_burn                 -8.8736      5.486     -1.618      0.106     -19.625       1.878\n",
      "np.log1p(total_heads)     0.8630      4.597      0.188      0.851      -8.147       9.873\n",
      "==============================================================================\n",
      "Omnibus:                   127592.565   Durbin-Watson:                   2.000\n",
      "Prob(Omnibus):                  0.000   Jarque-Bera (JB):     567223966639.309\n",
      "Skew:                         142.335   Prob(JB):                         0.00\n",
      "Kurtosis:                   21739.475   Cond. No.                         7.88\n",
      "==============================================================================\n",
      "\n",
      "Notes:\n",
      "[1] Standard Errors are heteroscedasticity robust (HC1)\n"
     ]
    }
   ],
   "source": [
    "import statsmodels.api as sm\n",
    "import statsmodels.formula.api as smf\n",
    "\n",
    "# Household-level features \n",
    "# crops_df: needs columns ['id_unique', 'burn_crop'] where burn_crop ∈ {0,1}\n",
    "hh_burn = (final_crop_df\n",
    "           .groupby('id_unique', as_index=False)['burn_crop']\n",
    "           .max()\n",
    "           .rename(columns={'burn_crop':'any_burn'}))\n",
    "\n",
    "\n",
    "hh_liv = (combined_df\n",
    "          .groupby('id_unique', as_index=False)\n",
    "          .agg(total_heads=('livestock_heads','sum'),\n",
    "               total_died=('livestock_died','sum')))\n",
    "\n",
    "#drop zero-heads to avoid inf\n",
    "hh_liv['death_rate'] = hh_liv['total_died'] / hh_liv['total_heads']\n",
    "hh_liv = hh_liv.replace([np.inf, -np.inf], np.nan).dropna(subset=['death_rate'])\n",
    "\n",
    "hh = hh_liv.merge(hh_burn, on='id_unique', how='left').fillna({'any_burn':0})\n",
    "\n",
    "#OLS\n",
    "model = smf.ols('death_rate ~ any_burn + np.log1p(total_heads)', data=hh).fit(cov_type='HC1')\n",
    "print(model.summary())"
   ]
  },
  {
   "cell_type": "code",
   "execution_count": 247,
   "id": "395356a3",
   "metadata": {},
   "outputs": [
    {
     "name": "stdout",
     "output_type": "stream",
     "text": [
      "                            OLS Regression Results                            \n",
      "==============================================================================\n",
      "Dep. Variable:             death_rate   R-squared:                       0.000\n",
      "Model:                            OLS   Adj. R-squared:                 -0.000\n",
      "Method:                 Least Squares   F-statistic:                     7.251\n",
      "Date:                Fri, 01 Aug 2025   Prob (F-statistic):           2.91e-16\n",
      "Time:                        10:57:51   Log-Likelihood:            -4.3114e+05\n",
      "No. Observations:               50476   AIC:                         8.623e+05\n",
      "Df Residuals:                   50459   BIC:                         8.625e+05\n",
      "Df Model:                          16                                         \n",
      "Covariance Type:                  HC1                                         \n",
      "=======================================================================================================\n",
      "                                          coef    std err          z      P>|z|      [0.025      0.975]\n",
      "-------------------------------------------------------------------------------------------------------\n",
      "Intercept                               1.3618      1.409      0.966      0.334      -1.400       4.124\n",
      "C(livestock_name)[T.buffalo]            3.2616      2.717      1.201      0.230      -2.063       8.586\n",
      "C(livestock_name)[T.camel]             -1.2067      1.410     -0.856      0.392      -3.971       1.558\n",
      "C(livestock_name)[T.cattle]            21.2669     17.543      1.212      0.225     -13.116      55.650\n",
      "C(livestock_name)[T.chicken]            0.7646      1.106      0.692      0.489      -1.403       2.932\n",
      "C(livestock_name)[T.dogs]               0.0451      1.695      0.027      0.979      -3.277       3.367\n",
      "C(livestock_name)[T.donkeys_horses]     2.0607      2.691      0.766      0.444      -3.214       7.336\n",
      "C(livestock_name)[T.duck]              -0.5284      1.409     -0.375      0.708      -3.290       2.234\n",
      "C(livestock_name)[T.fish]               0.6394      1.369      0.467      0.640      -2.043       3.322\n",
      "C(livestock_name)[T.goats]              0.4360      1.125      0.388      0.698      -1.769       2.641\n",
      "C(livestock_name)[T.guinea_pigs]        0.5277      1.191      0.443      0.658      -1.807       2.862\n",
      "C(livestock_name)[T.otherpoultry]       0.5225      1.112      0.470      0.638      -1.657       2.702\n",
      "C(livestock_name)[T.oxen]              -1.3618      1.409     -0.966      0.334      -4.124       1.400\n",
      "C(livestock_name)[T.pigs]               1.1164      1.306      0.855      0.393      -1.444       3.676\n",
      "C(livestock_name)[T.rabbits]            0.8820      1.220      0.723      0.470      -1.509       3.273\n",
      "C(livestock_name)[T.sheep]             10.8426     10.638      1.019      0.308     -10.008      31.694\n",
      "any_burn                               -8.4416      6.202     -1.361      0.173     -20.596       3.713\n",
      "==============================================================================\n",
      "Omnibus:                   247278.045   Durbin-Watson:                   2.000\n",
      "Prob(Omnibus):                  0.000   Jarque-Bera (JB):    3814537745232.979\n",
      "Skew:                         200.967   Prob(JB):                         0.00\n",
      "Kurtosis:                   42588.796   Cond. No.                         395.\n",
      "==============================================================================\n",
      "\n",
      "Notes:\n",
      "[1] Standard Errors are heteroscedasticity robust (HC1)\n"
     ]
    },
    {
     "name": "stderr",
     "output_type": "stream",
     "text": [
      "/Users/nishantshrestha/Library/Python/3.9/lib/python/site-packages/statsmodels/base/model.py:1894: ValueWarning: covariance of constraints does not have full rank. The number of constraints is 16, but rank is 15\n",
      "  warnings.warn('covariance of constraints does not have full '\n"
     ]
    }
   ],
   "source": [
    "# Prepare animal-level death rate\n",
    "animal = combined_df.copy()\n",
    "animal['death_rate'] = animal['livestock_died'] / animal['livestock_heads']\n",
    "animal = animal.replace([np.inf, -np.inf], np.nan).dropna(subset=['death_rate'])\n",
    "\n",
    "# Attach household burning indicator\n",
    "animal = animal.merge(hh_burn, on='id_unique', how='left').fillna({'any_burn':0})\n",
    "\n",
    "# Optional controls: species fixed effects\n",
    "# We'll add species dummies via patsy (C(livestock_name)).\n",
    "m_animal = smf.ols('death_rate ~ any_burn + C(livestock_name)', data=animal).fit(cov_type='HC1')\n",
    "print(m_animal.summary())\n"
   ]
  },
  {
   "cell_type": "code",
   "execution_count": null,
   "id": "e6cb3969",
   "metadata": {},
   "outputs": [],
   "source": []
  }
 ],
 "metadata": {
  "kernelspec": {
   "display_name": "Python 3",
   "language": "python",
   "name": "python3"
  },
  "language_info": {
   "codemirror_mode": {
    "name": "ipython",
    "version": 3
   },
   "file_extension": ".py",
   "mimetype": "text/x-python",
   "name": "python",
   "nbconvert_exporter": "python",
   "pygments_lexer": "ipython3",
   "version": "3.9.6"
  }
 },
 "nbformat": 4,
 "nbformat_minor": 5
}
