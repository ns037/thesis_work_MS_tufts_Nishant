{
 "cells": [
  {
   "cell_type": "code",
   "execution_count": 2,
   "id": "b9d81f50",
   "metadata": {},
   "outputs": [],
   "source": [
    "import pandas as pd"
   ]
  },
  {
   "cell_type": "code",
   "execution_count": 3,
   "id": "0d15ef14",
   "metadata": {},
   "outputs": [
    {
     "name": "stderr",
     "output_type": "stream",
     "text": [
      "/var/folders/b3/glj_22g92pl25nkdvjvxnzz00000gn/T/ipykernel_961/4096187165.py:1: DtypeWarning: Columns (10,11,12,15,16,17,18,19,20,21,22,24,27,37,40,41,42,43,44,46,47,48,49,50,51,52,53,54,55,56,57,58,59,60,61,62,63,64,69,74,75,76,78,88,91,94,95,104,113,114,115,116,118,121,122,123,124,125,132,135,137,138,141,142,151,160,161,162,163,165,168,169,170,171,172,179,182,184,185,188,189,198,207,208,209,210,212,215,216,217,218,219,226,229,231,232,236,245,254,255,256,257,259,262,263,264,265,266,273,276,278,279,283,292,301,302,303,304,306,309,310,312,313,320,325,326,330,339,348,349,350,351,353,356,357,359,360,367,372,373,377,386,395,396,397,398,400,403,404,406,407,414,419,420,424,433,443,444,445,446,447,448,450,451,452,453,454,455,456,458,459,460,461,462,463,464,465,466,467,469,470,471,472,473,474,475,476,478,479,480,481,482,500,501,502,508,510,515,516,522,524,525,526,533,538,547,556,561,565,566,567,574,580,581,582,591,600,603,607,608,609,616,620,624,633,680,681,682,687,688,694,696,697,698,705,710,719,728,733,738,739,746,752,754,763,772,775,779,780,781,788,792,796,805,814,829,849,850,852,854,859,860,866,868,869,870,877,882,891,900,905,910,911,918,924,926,935,944,947,952,953,960,964,968,977,987,989,991,998,1003,1012,1021,1022,1024,1026,1031,1032,1040,1041,1042,1063,1072,1073,1074,1076,1077,1079,1080,1082,1085,1087,1089,1090,1092,1094,1107,1108,1109,1110,1111,1112,1113,1114,1115,1116,1119,1124,1125,1132,1136,1140,1149,1159,1161,1184,1193,1194,1196,1197,1198,1203,1204,1224,1288,1291,1296,1297,1304,1308,1312,1321,1331,1333,1347,1365,1366,1367,1369,1370,1371,1373,1377,1379,1380,1383,1384,1385,1387,1389,1390,1393,1396,1398,1399,1400,1401,1404,1405,1406,1407,1408,1409,1410,1412,1413,1414,1415,1416,1417,1422,1423,1424,1425,1426,1431,1432,1433,1434,1435,1440,1444,1445,1446,1447,1448,1449,1452,1453,1458,1461,1462,1467,1468,1469,1470,1471,1472,1473,1474,1475,1476,1477,1478,1479,1480,1481,1482,1483,1484,1485,1486,1487,1488,1490,1491,1492,1493,1494,1495,1496,1497,1498,1499,1500,1501,1502,1503,1504,1505,1506,1507,1508,1509,1510,1511,1512,1513,1514,1515,1516,1517,1518,1519,1520,1521,1522,1523,1524,1525,1526,1527,1528,1529,1530,1531,1532,1533,1534,1535,1536,1537,1538,1539,1540,1541,1542,1543,1544,1545,1546,1547,1548,1549,1550,1551,1552,1553,1554,1555,1556,1557,1558,1559,1560,1561,1562,1563,1564,1565,1566,1567,1568,1569,1570,1571,1572,1573,1574,1575,1576,1577,1578,1579,1580,1581,1582,1583,1584,1585,1586,1587,1588,1589,1592,1593,1594,1595,1597) have mixed types. Specify dtype option on import or set low_memory=False.\n",
      "  df = pd.read_csv('../data/full_survey_data.csv')\n"
     ]
    }
   ],
   "source": [
    "df = pd.read_csv('../data/full_survey_data.csv')"
   ]
  },
  {
   "cell_type": "code",
   "execution_count": 3,
   "id": "c53e28c9",
   "metadata": {},
   "outputs": [
    {
     "data": {
      "text/plain": [
       "crop_yield_1\n",
       "2.00         3171\n",
       "3.00         2882\n",
       "5.00         2616\n",
       "1.00         2572\n",
       "10.00        2300\n",
       "             ... \n",
       "24.45           1\n",
       "0.35            1\n",
       "1533.00         1\n",
       "800333.00       1\n",
       "347.00          1\n",
       "Name: count, Length: 1182, dtype: int64"
      ]
     },
     "execution_count": 3,
     "metadata": {},
     "output_type": "execute_result"
    }
   ],
   "source": [
    "df.crop_yield_1.value_counts()"
   ]
  },
  {
   "cell_type": "code",
   "execution_count": 10,
   "id": "1d5d9af1",
   "metadata": {},
   "outputs": [
    {
     "data": {
      "text/plain": [
       "crop_land_area_1\n",
       "most         11800\n",
       "half         11306\n",
       "all           8743\n",
       "underhalf     8307\n",
       "little        2664\n",
       "none           500\n",
       "1.0            364\n",
       "2.0            328\n",
       "1              216\n",
       "3.0            198\n",
       "Name: count, dtype: int64"
      ]
     },
     "execution_count": 10,
     "metadata": {},
     "output_type": "execute_result"
    }
   ],
   "source": [
    "df.crop_land_area_1.value_counts().head(10)"
   ]
  },
  {
   "cell_type": "code",
   "execution_count": 12,
   "id": "eeaf6d02",
   "metadata": {},
   "outputs": [
    {
     "data": {
      "text/plain": [
       "crop_harvest_kg_per_year_1\n",
       "200.0     2839\n",
       "300.0     2584\n",
       "100.0     2470\n",
       "500.0     2423\n",
       "1000.0    2113\n",
       "400.0     1891\n",
       "600.0     1489\n",
       "50.0      1336\n",
       "150.0     1313\n",
       "2000.0    1178\n",
       "1500.0    1147\n",
       "800.0     1041\n",
       "250.0     1015\n",
       "900.0      874\n",
       "3000.0     814\n",
       "450.0      813\n",
       "700.0      812\n",
       "0.0        792\n",
       "1200.0     689\n",
       "4000.0     522\n",
       "2500.0     508\n",
       "5000.0     501\n",
       "350.0      477\n",
       "750.0      475\n",
       "225.0      419\n",
       "1800.0     407\n",
       "20.0       356\n",
       "180.0      348\n",
       "30.0       342\n",
       "90.0       340\n",
       "Name: count, dtype: int64"
      ]
     },
     "execution_count": 12,
     "metadata": {},
     "output_type": "execute_result"
    }
   ],
   "source": [
    "df.crop_harvest_kg_per_year_1.value_counts().head(30)"
   ]
  },
  {
   "cell_type": "code",
   "execution_count": 7,
   "id": "0ec1038c",
   "metadata": {},
   "outputs": [
    {
     "data": {
      "text/html": [
       "<div>\n",
       "<style scoped>\n",
       "    .dataframe tbody tr th:only-of-type {\n",
       "        vertical-align: middle;\n",
       "    }\n",
       "\n",
       "    .dataframe tbody tr th {\n",
       "        vertical-align: top;\n",
       "    }\n",
       "\n",
       "    .dataframe thead th {\n",
       "        text-align: right;\n",
       "    }\n",
       "</style>\n",
       "<table border=\"1\" class=\"dataframe\">\n",
       "  <thead>\n",
       "    <tr style=\"text-align: right;\">\n",
       "      <th></th>\n",
       "      <th>id_unique</th>\n",
       "      <th>crop_name</th>\n",
       "      <th>crop_residue_use</th>\n",
       "      <th>crop_harvest_kg_per_year</th>\n",
       "      <th>crop_number</th>\n",
       "    </tr>\n",
       "  </thead>\n",
       "  <tbody>\n",
       "    <tr>\n",
       "      <th>0</th>\n",
       "      <td>bf_adn_2019_10_1</td>\n",
       "      <td>millet</td>\n",
       "      <td>soil feed</td>\n",
       "      <td>1200.0</td>\n",
       "      <td>1</td>\n",
       "    </tr>\n",
       "    <tr>\n",
       "      <th>1</th>\n",
       "      <td>bf_adn_2019_10_1</td>\n",
       "      <td>groundnut</td>\n",
       "      <td>soil feed</td>\n",
       "      <td>NaN</td>\n",
       "      <td>2</td>\n",
       "    </tr>\n",
       "    <tr>\n",
       "      <th>2</th>\n",
       "      <td>bf_adn_2019_10_1</td>\n",
       "      <td>sesame</td>\n",
       "      <td>soil feed</td>\n",
       "      <td>100.0</td>\n",
       "      <td>3</td>\n",
       "    </tr>\n",
       "    <tr>\n",
       "      <th>3</th>\n",
       "      <td>bf_adn_2019_10_1</td>\n",
       "      <td>NaN</td>\n",
       "      <td>NaN</td>\n",
       "      <td>NaN</td>\n",
       "      <td>4</td>\n",
       "    </tr>\n",
       "    <tr>\n",
       "      <th>4</th>\n",
       "      <td>bf_adn_2019_10_1</td>\n",
       "      <td>NaN</td>\n",
       "      <td>NaN</td>\n",
       "      <td>NaN</td>\n",
       "      <td>5</td>\n",
       "    </tr>\n",
       "    <tr>\n",
       "      <th>...</th>\n",
       "      <td>...</td>\n",
       "      <td>...</td>\n",
       "      <td>...</td>\n",
       "      <td>...</td>\n",
       "      <td>...</td>\n",
       "    </tr>\n",
       "    <tr>\n",
       "      <th>438979</th>\n",
       "      <td>zm_scn_2017_9_1</td>\n",
       "      <td>NaN</td>\n",
       "      <td>NaN</td>\n",
       "      <td>NaN</td>\n",
       "      <td>4</td>\n",
       "    </tr>\n",
       "    <tr>\n",
       "      <th>438980</th>\n",
       "      <td>zm_scn_2017_9_1</td>\n",
       "      <td>NaN</td>\n",
       "      <td>NaN</td>\n",
       "      <td>NaN</td>\n",
       "      <td>5</td>\n",
       "    </tr>\n",
       "    <tr>\n",
       "      <th>438981</th>\n",
       "      <td>zm_scn_2017_9_1</td>\n",
       "      <td>NaN</td>\n",
       "      <td>NaN</td>\n",
       "      <td>NaN</td>\n",
       "      <td>6</td>\n",
       "    </tr>\n",
       "    <tr>\n",
       "      <th>438982</th>\n",
       "      <td>zm_scn_2017_9_1</td>\n",
       "      <td>NaN</td>\n",
       "      <td>NaN</td>\n",
       "      <td>NaN</td>\n",
       "      <td>7</td>\n",
       "    </tr>\n",
       "    <tr>\n",
       "      <th>438983</th>\n",
       "      <td>zm_scn_2017_9_1</td>\n",
       "      <td>NaN</td>\n",
       "      <td>NaN</td>\n",
       "      <td>NaN</td>\n",
       "      <td>8</td>\n",
       "    </tr>\n",
       "  </tbody>\n",
       "</table>\n",
       "<p>438984 rows × 5 columns</p>\n",
       "</div>"
      ],
      "text/plain": [
       "               id_unique  crop_name crop_residue_use  \\\n",
       "0       bf_adn_2019_10_1     millet        soil feed   \n",
       "1       bf_adn_2019_10_1  groundnut        soil feed   \n",
       "2       bf_adn_2019_10_1     sesame        soil feed   \n",
       "3       bf_adn_2019_10_1        NaN              NaN   \n",
       "4       bf_adn_2019_10_1        NaN              NaN   \n",
       "...                  ...        ...              ...   \n",
       "438979   zm_scn_2017_9_1        NaN              NaN   \n",
       "438980   zm_scn_2017_9_1        NaN              NaN   \n",
       "438981   zm_scn_2017_9_1        NaN              NaN   \n",
       "438982   zm_scn_2017_9_1        NaN              NaN   \n",
       "438983   zm_scn_2017_9_1        NaN              NaN   \n",
       "\n",
       "        crop_harvest_kg_per_year  crop_number  \n",
       "0                         1200.0            1  \n",
       "1                            NaN            2  \n",
       "2                          100.0            3  \n",
       "3                            NaN            4  \n",
       "4                            NaN            5  \n",
       "...                          ...          ...  \n",
       "438979                       NaN            4  \n",
       "438980                       NaN            5  \n",
       "438981                       NaN            6  \n",
       "438982                       NaN            7  \n",
       "438983                       NaN            8  \n",
       "\n",
       "[438984 rows x 5 columns]"
      ]
     },
     "execution_count": 7,
     "metadata": {},
     "output_type": "execute_result"
    }
   ],
   "source": [
    "# Create a list for all crop_name and crop_residue_use columns\n",
    "crop_cols = [f\"crop_name_{i}\" for i in range(1, 9)]\n",
    "residue_cols = [f\"crop_residue_use_{i}\" for i in range(1, 9)]\n",
    "\n",
    "# Create a list of tuples for each crop's pair of name and residue\n",
    "records = []\n",
    "for i in range(1, 9):\n",
    "    temp_df = df[['id_unique', f'crop_name_{i}', f'crop_residue_use_{i}',f'crop_harvest_kg_per_year_{i}']].copy()\n",
    "    temp_df.columns = ['id_unique', 'crop_name', 'crop_residue_use','crop_harvest_kg_per_year']\n",
    "    temp_df['crop_number'] = i\n",
    "    records.append(temp_df)\n",
    "\n",
    "# Concatenate all together\n",
    "long_df = pd.concat(records, ignore_index=True)\n",
    "\n",
    "# Drop rows where crop_name is NaN\n",
    "#long_df = long_df.dropna(subset=['crop_name'])\n",
    "\n",
    "#sort\n",
    "long_df = long_df.sort_values(['id_unique', 'crop_number']).reset_index(drop=True)\n",
    "long_df"
   ]
  },
  {
   "cell_type": "code",
   "execution_count": 8,
   "id": "5b4a3dda",
   "metadata": {},
   "outputs": [
    {
     "name": "stdout",
     "output_type": "stream",
     "text": [
      "<class 'pandas.core.frame.DataFrame'>\n",
      "Index: 95962 entries, 0 to 438976\n",
      "Data columns (total 5 columns):\n",
      " #   Column                    Non-Null Count  Dtype  \n",
      "---  ------                    --------------  -----  \n",
      " 0   id_unique                 95962 non-null  object \n",
      " 1   crop_name                 95962 non-null  object \n",
      " 2   crop_residue_use          95962 non-null  object \n",
      " 3   crop_harvest_kg_per_year  92536 non-null  float64\n",
      " 4   crop_number               95962 non-null  int64  \n",
      "dtypes: float64(1), int64(1), object(3)\n",
      "memory usage: 4.4+ MB\n"
     ]
    }
   ],
   "source": [
    "final_crop_df = long_df[(long_df.crop_name.notna()) & (long_df.crop_residue_use.notna())]\n",
    "final_crop_df.info()"
   ]
  },
  {
   "cell_type": "code",
   "execution_count": 9,
   "id": "8b575f02",
   "metadata": {},
   "outputs": [
    {
     "name": "stderr",
     "output_type": "stream",
     "text": [
      "/var/folders/b3/glj_22g92pl25nkdvjvxnzz00000gn/T/ipykernel_961/2510554493.py:1: SettingWithCopyWarning: \n",
      "A value is trying to be set on a copy of a slice from a DataFrame.\n",
      "Try using .loc[row_indexer,col_indexer] = value instead\n",
      "\n",
      "See the caveats in the documentation: https://pandas.pydata.org/pandas-docs/stable/user_guide/indexing.html#returning-a-view-versus-a-copy\n",
      "  final_crop_df['burn_crop'] = final_crop_df['crop_residue_use'].str.contains('burn', case=False, na=False).astype(int)\n"
     ]
    }
   ],
   "source": [
    "final_crop_df['burn_crop'] = final_crop_df['crop_residue_use'].str.contains('burn', case=False, na=False).astype(int)"
   ]
  },
  {
   "cell_type": "code",
   "execution_count": 10,
   "id": "7c3ffc2f",
   "metadata": {},
   "outputs": [
    {
     "data": {
      "text/html": [
       "<div>\n",
       "<style scoped>\n",
       "    .dataframe tbody tr th:only-of-type {\n",
       "        vertical-align: middle;\n",
       "    }\n",
       "\n",
       "    .dataframe tbody tr th {\n",
       "        vertical-align: top;\n",
       "    }\n",
       "\n",
       "    .dataframe thead th {\n",
       "        text-align: right;\n",
       "    }\n",
       "</style>\n",
       "<table border=\"1\" class=\"dataframe\">\n",
       "  <thead>\n",
       "    <tr style=\"text-align: right;\">\n",
       "      <th></th>\n",
       "      <th>id_unique</th>\n",
       "      <th>crop_name</th>\n",
       "      <th>crop_residue_use</th>\n",
       "      <th>crop_harvest_kg_per_year</th>\n",
       "      <th>crop_number</th>\n",
       "      <th>burn_crop</th>\n",
       "    </tr>\n",
       "  </thead>\n",
       "  <tbody>\n",
       "    <tr>\n",
       "      <th>0</th>\n",
       "      <td>bf_adn_2019_10_1</td>\n",
       "      <td>millet</td>\n",
       "      <td>soil feed</td>\n",
       "      <td>1200.0</td>\n",
       "      <td>1</td>\n",
       "      <td>0</td>\n",
       "    </tr>\n",
       "    <tr>\n",
       "      <th>1</th>\n",
       "      <td>bf_adn_2019_10_1</td>\n",
       "      <td>groundnut</td>\n",
       "      <td>soil feed</td>\n",
       "      <td>NaN</td>\n",
       "      <td>2</td>\n",
       "      <td>0</td>\n",
       "    </tr>\n",
       "    <tr>\n",
       "      <th>2</th>\n",
       "      <td>bf_adn_2019_10_1</td>\n",
       "      <td>sesame</td>\n",
       "      <td>soil feed</td>\n",
       "      <td>100.0</td>\n",
       "      <td>3</td>\n",
       "      <td>0</td>\n",
       "    </tr>\n",
       "    <tr>\n",
       "      <th>8</th>\n",
       "      <td>bf_adn_2019_11_1</td>\n",
       "      <td>millet</td>\n",
       "      <td>feed soil</td>\n",
       "      <td>200.0</td>\n",
       "      <td>1</td>\n",
       "      <td>0</td>\n",
       "    </tr>\n",
       "    <tr>\n",
       "      <th>9</th>\n",
       "      <td>bf_adn_2019_11_1</td>\n",
       "      <td>maize</td>\n",
       "      <td>soil feed</td>\n",
       "      <td>200.0</td>\n",
       "      <td>2</td>\n",
       "      <td>0</td>\n",
       "    </tr>\n",
       "    <tr>\n",
       "      <th>...</th>\n",
       "      <td>...</td>\n",
       "      <td>...</td>\n",
       "      <td>...</td>\n",
       "      <td>...</td>\n",
       "      <td>...</td>\n",
       "      <td>...</td>\n",
       "    </tr>\n",
       "    <tr>\n",
       "      <th>438946</th>\n",
       "      <td>zm_scn_2017_96_1</td>\n",
       "      <td>sunflower</td>\n",
       "      <td>soil</td>\n",
       "      <td>250.0</td>\n",
       "      <td>3</td>\n",
       "      <td>0</td>\n",
       "    </tr>\n",
       "    <tr>\n",
       "      <th>438952</th>\n",
       "      <td>zm_scn_2017_97_1</td>\n",
       "      <td>maize</td>\n",
       "      <td>soil</td>\n",
       "      <td>600.0</td>\n",
       "      <td>1</td>\n",
       "      <td>0</td>\n",
       "    </tr>\n",
       "    <tr>\n",
       "      <th>438960</th>\n",
       "      <td>zm_scn_2017_98_1</td>\n",
       "      <td>maize</td>\n",
       "      <td>soil</td>\n",
       "      <td>1500.0</td>\n",
       "      <td>1</td>\n",
       "      <td>0</td>\n",
       "    </tr>\n",
       "    <tr>\n",
       "      <th>438968</th>\n",
       "      <td>zm_scn_2017_99_1</td>\n",
       "      <td>maize</td>\n",
       "      <td>soil</td>\n",
       "      <td>2750.0</td>\n",
       "      <td>1</td>\n",
       "      <td>0</td>\n",
       "    </tr>\n",
       "    <tr>\n",
       "      <th>438976</th>\n",
       "      <td>zm_scn_2017_9_1</td>\n",
       "      <td>maize</td>\n",
       "      <td>soil</td>\n",
       "      <td>2625.0</td>\n",
       "      <td>1</td>\n",
       "      <td>0</td>\n",
       "    </tr>\n",
       "  </tbody>\n",
       "</table>\n",
       "<p>95962 rows × 6 columns</p>\n",
       "</div>"
      ],
      "text/plain": [
       "               id_unique  crop_name crop_residue_use  \\\n",
       "0       bf_adn_2019_10_1     millet        soil feed   \n",
       "1       bf_adn_2019_10_1  groundnut        soil feed   \n",
       "2       bf_adn_2019_10_1     sesame        soil feed   \n",
       "8       bf_adn_2019_11_1     millet        feed soil   \n",
       "9       bf_adn_2019_11_1      maize        soil feed   \n",
       "...                  ...        ...              ...   \n",
       "438946  zm_scn_2017_96_1  sunflower             soil   \n",
       "438952  zm_scn_2017_97_1      maize             soil   \n",
       "438960  zm_scn_2017_98_1      maize             soil   \n",
       "438968  zm_scn_2017_99_1      maize             soil   \n",
       "438976   zm_scn_2017_9_1      maize             soil   \n",
       "\n",
       "        crop_harvest_kg_per_year  crop_number  burn_crop  \n",
       "0                         1200.0            1          0  \n",
       "1                            NaN            2          0  \n",
       "2                          100.0            3          0  \n",
       "8                          200.0            1          0  \n",
       "9                          200.0            2          0  \n",
       "...                          ...          ...        ...  \n",
       "438946                     250.0            3          0  \n",
       "438952                     600.0            1          0  \n",
       "438960                    1500.0            1          0  \n",
       "438968                    2750.0            1          0  \n",
       "438976                    2625.0            1          0  \n",
       "\n",
       "[95962 rows x 6 columns]"
      ]
     },
     "execution_count": 10,
     "metadata": {},
     "output_type": "execute_result"
    }
   ],
   "source": [
    "final_crop_df"
   ]
  },
  {
   "cell_type": "code",
   "execution_count": 11,
   "id": "09d137df",
   "metadata": {},
   "outputs": [
    {
     "name": "stdout",
     "output_type": "stream",
     "text": [
      "         id_unique  slot livestock_name  livestock_died\n",
      "0  bf_adn_2019_1_1     1          sheep             0.0\n",
      "1  bf_adn_2019_2_1     1         cattle             0.0\n",
      "2  bf_adn_2019_3_1     1           pigs             3.0\n",
      "3  bf_adn_2019_4_1     1         cattle             0.0\n",
      "4  bf_adn_2019_5_1     1         cattle             0.0\n"
     ]
    }
   ],
   "source": [
    "# Step 1: Select relevant columns\n",
    "name_cols = [f'livestock_name_{i}' for i in range(1, 6)]\n",
    "died_cols = [f'livestock_died_{i}' for i in range(1, 6)]\n",
    "\n",
    "# Step 2: Melt the livestock names and deaths\n",
    "names_long = df.melt(id_vars='id_unique', value_vars=name_cols, \n",
    "                     var_name='animal_slot', value_name='livestock_name')\n",
    "\n",
    "died_long = df.melt(id_vars='id_unique', value_vars=died_cols, \n",
    "                    var_name='animal_slot', value_name='livestock_died')\n",
    "\n",
    "# Step 3: Make sure they align by extracting index number\n",
    "names_long['slot'] = names_long['animal_slot'].str.extract(r'(\\d+)').astype(int)\n",
    "died_long['slot'] = died_long['animal_slot'].str.extract(r'(\\d+)').astype(int)\n",
    "\n",
    "# Step 4: Merge the two long DataFrames\n",
    "long_df = pd.merge(\n",
    "    names_long[['id_unique', 'slot', 'livestock_name']],\n",
    "    died_long[['id_unique', 'slot', 'livestock_died']],\n",
    "    on=['id_unique', 'slot']\n",
    ")\n",
    "\n",
    "# Optional: drop rows where animal name is missing\n",
    "long_df = long_df.dropna(subset=['livestock_name']).reset_index(drop=True)\n",
    "\n",
    "# Result: Each row is (id_unique, livestock_name, livestock_died)\n",
    "print(long_df.head())\n",
    "\n",
    "death_df = long_df[long_df.livestock_died.notna()]"
   ]
  },
  {
   "cell_type": "code",
   "execution_count": 12,
   "id": "89da37eb",
   "metadata": {},
   "outputs": [
    {
     "data": {
      "text/html": [
       "<div>\n",
       "<style scoped>\n",
       "    .dataframe tbody tr th:only-of-type {\n",
       "        vertical-align: middle;\n",
       "    }\n",
       "\n",
       "    .dataframe tbody tr th {\n",
       "        vertical-align: top;\n",
       "    }\n",
       "\n",
       "    .dataframe thead th {\n",
       "        text-align: right;\n",
       "    }\n",
       "</style>\n",
       "<table border=\"1\" class=\"dataframe\">\n",
       "  <thead>\n",
       "    <tr style=\"text-align: right;\">\n",
       "      <th></th>\n",
       "      <th>id_unique</th>\n",
       "      <th>slot</th>\n",
       "      <th>livestock_name</th>\n",
       "      <th>livestock_died</th>\n",
       "    </tr>\n",
       "  </thead>\n",
       "  <tbody>\n",
       "    <tr>\n",
       "      <th>0</th>\n",
       "      <td>bf_adn_2019_1_1</td>\n",
       "      <td>1</td>\n",
       "      <td>sheep</td>\n",
       "      <td>0.0</td>\n",
       "    </tr>\n",
       "    <tr>\n",
       "      <th>1</th>\n",
       "      <td>bf_adn_2019_2_1</td>\n",
       "      <td>1</td>\n",
       "      <td>cattle</td>\n",
       "      <td>0.0</td>\n",
       "    </tr>\n",
       "    <tr>\n",
       "      <th>2</th>\n",
       "      <td>bf_adn_2019_3_1</td>\n",
       "      <td>1</td>\n",
       "      <td>pigs</td>\n",
       "      <td>3.0</td>\n",
       "    </tr>\n",
       "    <tr>\n",
       "      <th>3</th>\n",
       "      <td>bf_adn_2019_4_1</td>\n",
       "      <td>1</td>\n",
       "      <td>cattle</td>\n",
       "      <td>0.0</td>\n",
       "    </tr>\n",
       "    <tr>\n",
       "      <th>4</th>\n",
       "      <td>bf_adn_2019_5_1</td>\n",
       "      <td>1</td>\n",
       "      <td>cattle</td>\n",
       "      <td>0.0</td>\n",
       "    </tr>\n",
       "    <tr>\n",
       "      <th>...</th>\n",
       "      <td>...</td>\n",
       "      <td>...</td>\n",
       "      <td>...</td>\n",
       "      <td>...</td>\n",
       "    </tr>\n",
       "    <tr>\n",
       "      <th>81614</th>\n",
       "      <td>tz_glv_2017_522_1</td>\n",
       "      <td>5</td>\n",
       "      <td>pigs</td>\n",
       "      <td>0.0</td>\n",
       "    </tr>\n",
       "    <tr>\n",
       "      <th>81615</th>\n",
       "      <td>tz_glv_2017_562_1</td>\n",
       "      <td>5</td>\n",
       "      <td>donkeys_horses</td>\n",
       "      <td>0.0</td>\n",
       "    </tr>\n",
       "    <tr>\n",
       "      <th>81616</th>\n",
       "      <td>tz_glv_2017_889_1</td>\n",
       "      <td>5</td>\n",
       "      <td>chicken</td>\n",
       "      <td>3.0</td>\n",
       "    </tr>\n",
       "    <tr>\n",
       "      <th>81617</th>\n",
       "      <td>tz_glv_2017_892_1</td>\n",
       "      <td>5</td>\n",
       "      <td>rabbits</td>\n",
       "      <td>0.0</td>\n",
       "    </tr>\n",
       "    <tr>\n",
       "      <th>81618</th>\n",
       "      <td>tz_glv_2017_904_1</td>\n",
       "      <td>5</td>\n",
       "      <td>chicken</td>\n",
       "      <td>50.0</td>\n",
       "    </tr>\n",
       "  </tbody>\n",
       "</table>\n",
       "<p>61712 rows × 4 columns</p>\n",
       "</div>"
      ],
      "text/plain": [
       "               id_unique  slot  livestock_name  livestock_died\n",
       "0        bf_adn_2019_1_1     1           sheep             0.0\n",
       "1        bf_adn_2019_2_1     1          cattle             0.0\n",
       "2        bf_adn_2019_3_1     1            pigs             3.0\n",
       "3        bf_adn_2019_4_1     1          cattle             0.0\n",
       "4        bf_adn_2019_5_1     1          cattle             0.0\n",
       "...                  ...   ...             ...             ...\n",
       "81614  tz_glv_2017_522_1     5            pigs             0.0\n",
       "81615  tz_glv_2017_562_1     5  donkeys_horses             0.0\n",
       "81616  tz_glv_2017_889_1     5         chicken             3.0\n",
       "81617  tz_glv_2017_892_1     5         rabbits             0.0\n",
       "81618  tz_glv_2017_904_1     5         chicken            50.0\n",
       "\n",
       "[61712 rows x 4 columns]"
      ]
     },
     "execution_count": 12,
     "metadata": {},
     "output_type": "execute_result"
    }
   ],
   "source": [
    "death_df"
   ]
  },
  {
   "cell_type": "code",
   "execution_count": 13,
   "id": "de224243",
   "metadata": {},
   "outputs": [
    {
     "data": {
      "text/html": [
       "<div>\n",
       "<style scoped>\n",
       "    .dataframe tbody tr th:only-of-type {\n",
       "        vertical-align: middle;\n",
       "    }\n",
       "\n",
       "    .dataframe tbody tr th {\n",
       "        vertical-align: top;\n",
       "    }\n",
       "\n",
       "    .dataframe thead th {\n",
       "        text-align: right;\n",
       "    }\n",
       "</style>\n",
       "<table border=\"1\" class=\"dataframe\">\n",
       "  <thead>\n",
       "    <tr style=\"text-align: right;\">\n",
       "      <th></th>\n",
       "      <th>id_unique</th>\n",
       "      <th>slot</th>\n",
       "      <th>livestock_name</th>\n",
       "      <th>livestock_died</th>\n",
       "    </tr>\n",
       "  </thead>\n",
       "  <tbody>\n",
       "    <tr>\n",
       "      <th>0</th>\n",
       "      <td>bf_adn_2019_1_1</td>\n",
       "      <td>1</td>\n",
       "      <td>sheep</td>\n",
       "      <td>0.0</td>\n",
       "    </tr>\n",
       "    <tr>\n",
       "      <th>1</th>\n",
       "      <td>bf_adn_2019_2_1</td>\n",
       "      <td>1</td>\n",
       "      <td>cattle</td>\n",
       "      <td>0.0</td>\n",
       "    </tr>\n",
       "    <tr>\n",
       "      <th>2</th>\n",
       "      <td>bf_adn_2019_3_1</td>\n",
       "      <td>1</td>\n",
       "      <td>pigs</td>\n",
       "      <td>3.0</td>\n",
       "    </tr>\n",
       "    <tr>\n",
       "      <th>3</th>\n",
       "      <td>bf_adn_2019_4_1</td>\n",
       "      <td>1</td>\n",
       "      <td>cattle</td>\n",
       "      <td>0.0</td>\n",
       "    </tr>\n",
       "    <tr>\n",
       "      <th>4</th>\n",
       "      <td>bf_adn_2019_5_1</td>\n",
       "      <td>1</td>\n",
       "      <td>cattle</td>\n",
       "      <td>0.0</td>\n",
       "    </tr>\n",
       "    <tr>\n",
       "      <th>...</th>\n",
       "      <td>...</td>\n",
       "      <td>...</td>\n",
       "      <td>...</td>\n",
       "      <td>...</td>\n",
       "    </tr>\n",
       "    <tr>\n",
       "      <th>81610</th>\n",
       "      <td>tz_glv_2017_156_1</td>\n",
       "      <td>5</td>\n",
       "      <td>donkeys_horses</td>\n",
       "      <td>0.0</td>\n",
       "    </tr>\n",
       "    <tr>\n",
       "      <th>81614</th>\n",
       "      <td>tz_glv_2017_522_1</td>\n",
       "      <td>5</td>\n",
       "      <td>pigs</td>\n",
       "      <td>0.0</td>\n",
       "    </tr>\n",
       "    <tr>\n",
       "      <th>81615</th>\n",
       "      <td>tz_glv_2017_562_1</td>\n",
       "      <td>5</td>\n",
       "      <td>donkeys_horses</td>\n",
       "      <td>0.0</td>\n",
       "    </tr>\n",
       "    <tr>\n",
       "      <th>81616</th>\n",
       "      <td>tz_glv_2017_889_1</td>\n",
       "      <td>5</td>\n",
       "      <td>chicken</td>\n",
       "      <td>3.0</td>\n",
       "    </tr>\n",
       "    <tr>\n",
       "      <th>81618</th>\n",
       "      <td>tz_glv_2017_904_1</td>\n",
       "      <td>5</td>\n",
       "      <td>chicken</td>\n",
       "      <td>50.0</td>\n",
       "    </tr>\n",
       "  </tbody>\n",
       "</table>\n",
       "<p>59788 rows × 4 columns</p>\n",
       "</div>"
      ],
      "text/plain": [
       "               id_unique  slot  livestock_name  livestock_died\n",
       "0        bf_adn_2019_1_1     1           sheep             0.0\n",
       "1        bf_adn_2019_2_1     1          cattle             0.0\n",
       "2        bf_adn_2019_3_1     1            pigs             3.0\n",
       "3        bf_adn_2019_4_1     1          cattle             0.0\n",
       "4        bf_adn_2019_5_1     1          cattle             0.0\n",
       "...                  ...   ...             ...             ...\n",
       "81610  tz_glv_2017_156_1     5  donkeys_horses             0.0\n",
       "81614  tz_glv_2017_522_1     5            pigs             0.0\n",
       "81615  tz_glv_2017_562_1     5  donkeys_horses             0.0\n",
       "81616  tz_glv_2017_889_1     5         chicken             3.0\n",
       "81618  tz_glv_2017_904_1     5         chicken            50.0\n",
       "\n",
       "[59788 rows x 4 columns]"
      ]
     },
     "execution_count": 13,
     "metadata": {},
     "output_type": "execute_result"
    }
   ],
   "source": [
    "# List of animals to keep\n",
    "animals_to_keep = ['cattle', 'chicken', 'goats', 'sheep', 'donkeys_horses', 'buffalo', 'pigs']\n",
    "\n",
    "# Filter the DataFrame\n",
    "final_death_df = death_df[death_df['livestock_name'].isin(animals_to_keep)]\n",
    "final_death_df\n"
   ]
  },
  {
   "cell_type": "code",
   "execution_count": 14,
   "id": "318da1aa",
   "metadata": {},
   "outputs": [
    {
     "data": {
      "text/plain": [
       "livestock_name\n",
       "cattle            19497\n",
       "chicken           11947\n",
       "goats             11062\n",
       "sheep              7885\n",
       "pigs               4448\n",
       "donkeys_horses     4439\n",
       "buffalo             510\n",
       "Name: count, dtype: int64"
      ]
     },
     "execution_count": 14,
     "metadata": {},
     "output_type": "execute_result"
    }
   ],
   "source": [
    "final_death_df.livestock_name.value_counts()"
   ]
  },
  {
   "cell_type": "code",
   "execution_count": 16,
   "id": "b1128e00",
   "metadata": {},
   "outputs": [
    {
     "data": {
      "text/html": [
       "<div>\n",
       "<style scoped>\n",
       "    .dataframe tbody tr th:only-of-type {\n",
       "        vertical-align: middle;\n",
       "    }\n",
       "\n",
       "    .dataframe tbody tr th {\n",
       "        vertical-align: top;\n",
       "    }\n",
       "\n",
       "    .dataframe thead th {\n",
       "        text-align: right;\n",
       "    }\n",
       "</style>\n",
       "<table border=\"1\" class=\"dataframe\">\n",
       "  <thead>\n",
       "    <tr style=\"text-align: right;\">\n",
       "      <th></th>\n",
       "      <th>id_unique</th>\n",
       "      <th>slot</th>\n",
       "      <th>livestock_name</th>\n",
       "      <th>livestock_died</th>\n",
       "    </tr>\n",
       "  </thead>\n",
       "  <tbody>\n",
       "    <tr>\n",
       "      <th>4</th>\n",
       "      <td>bf_adn_2019_5_1</td>\n",
       "      <td>1</td>\n",
       "      <td>cattle</td>\n",
       "      <td>0.0</td>\n",
       "    </tr>\n",
       "    <tr>\n",
       "      <th>44109</th>\n",
       "      <td>bf_adn_2019_5_1</td>\n",
       "      <td>2</td>\n",
       "      <td>sheep</td>\n",
       "      <td>1.0</td>\n",
       "    </tr>\n",
       "    <tr>\n",
       "      <th>67269</th>\n",
       "      <td>bf_adn_2019_5_1</td>\n",
       "      <td>3</td>\n",
       "      <td>goats</td>\n",
       "      <td>1.0</td>\n",
       "    </tr>\n",
       "  </tbody>\n",
       "</table>\n",
       "</div>"
      ],
      "text/plain": [
       "             id_unique  slot livestock_name  livestock_died\n",
       "4      bf_adn_2019_5_1     1         cattle             0.0\n",
       "44109  bf_adn_2019_5_1     2          sheep             1.0\n",
       "67269  bf_adn_2019_5_1     3          goats             1.0"
      ]
     },
     "execution_count": 16,
     "metadata": {},
     "output_type": "execute_result"
    }
   ],
   "source": [
    "final_death_df[final_death_df.id_unique == 'bf_adn_2019_5_1']"
   ]
  },
  {
   "cell_type": "code",
   "execution_count": 17,
   "id": "e3ef1cd5",
   "metadata": {},
   "outputs": [
    {
     "data": {
      "text/html": [
       "<div>\n",
       "<style scoped>\n",
       "    .dataframe tbody tr th:only-of-type {\n",
       "        vertical-align: middle;\n",
       "    }\n",
       "\n",
       "    .dataframe tbody tr th {\n",
       "        vertical-align: top;\n",
       "    }\n",
       "\n",
       "    .dataframe thead th {\n",
       "        text-align: right;\n",
       "    }\n",
       "</style>\n",
       "<table border=\"1\" class=\"dataframe\">\n",
       "  <thead>\n",
       "    <tr style=\"text-align: right;\">\n",
       "      <th></th>\n",
       "      <th>id_unique</th>\n",
       "      <th>total_livestock_died</th>\n",
       "    </tr>\n",
       "  </thead>\n",
       "  <tbody>\n",
       "    <tr>\n",
       "      <th>0</th>\n",
       "      <td>bf_adn_2019_10_1</td>\n",
       "      <td>3.0</td>\n",
       "    </tr>\n",
       "    <tr>\n",
       "      <th>1</th>\n",
       "      <td>bf_adn_2019_11_1</td>\n",
       "      <td>5.0</td>\n",
       "    </tr>\n",
       "    <tr>\n",
       "      <th>2</th>\n",
       "      <td>bf_adn_2019_12_1</td>\n",
       "      <td>1.0</td>\n",
       "    </tr>\n",
       "    <tr>\n",
       "      <th>3</th>\n",
       "      <td>bf_adn_2019_13_1</td>\n",
       "      <td>3.0</td>\n",
       "    </tr>\n",
       "    <tr>\n",
       "      <th>4</th>\n",
       "      <td>bf_adn_2019_14_1</td>\n",
       "      <td>7.0</td>\n",
       "    </tr>\n",
       "  </tbody>\n",
       "</table>\n",
       "</div>"
      ],
      "text/plain": [
       "          id_unique  total_livestock_died\n",
       "0  bf_adn_2019_10_1                   3.0\n",
       "1  bf_adn_2019_11_1                   5.0\n",
       "2  bf_adn_2019_12_1                   1.0\n",
       "3  bf_adn_2019_13_1                   3.0\n",
       "4  bf_adn_2019_14_1                   7.0"
      ]
     },
     "execution_count": 17,
     "metadata": {},
     "output_type": "execute_result"
    }
   ],
   "source": [
    "# Sum livestock deaths per farm\n",
    "deaths_by_farm = (\n",
    "    final_death_df.groupby(\"id_unique\")[\"livestock_died\"]\n",
    "    .sum()\n",
    "    .reset_index(name=\"total_livestock_died\")\n",
    ")\n",
    "\n",
    "deaths_by_farm.head()\n"
   ]
  },
  {
   "cell_type": "code",
   "execution_count": 18,
   "id": "948b358d",
   "metadata": {},
   "outputs": [
    {
     "data": {
      "text/html": [
       "<div>\n",
       "<style scoped>\n",
       "    .dataframe tbody tr th:only-of-type {\n",
       "        vertical-align: middle;\n",
       "    }\n",
       "\n",
       "    .dataframe tbody tr th {\n",
       "        vertical-align: top;\n",
       "    }\n",
       "\n",
       "    .dataframe thead th {\n",
       "        text-align: right;\n",
       "    }\n",
       "</style>\n",
       "<table border=\"1\" class=\"dataframe\">\n",
       "  <thead>\n",
       "    <tr style=\"text-align: right;\">\n",
       "      <th></th>\n",
       "      <th>id_unique</th>\n",
       "      <th>total_livestock_died</th>\n",
       "    </tr>\n",
       "  </thead>\n",
       "  <tbody>\n",
       "    <tr>\n",
       "      <th>51</th>\n",
       "      <td>bf_adn_2019_5_1</td>\n",
       "      <td>2.0</td>\n",
       "    </tr>\n",
       "  </tbody>\n",
       "</table>\n",
       "</div>"
      ],
      "text/plain": [
       "          id_unique  total_livestock_died\n",
       "51  bf_adn_2019_5_1                   2.0"
      ]
     },
     "execution_count": 18,
     "metadata": {},
     "output_type": "execute_result"
    }
   ],
   "source": [
    "deaths_by_farm[deaths_by_farm.id_unique == 'bf_adn_2019_5_1']"
   ]
  },
  {
   "cell_type": "code",
   "execution_count": 19,
   "id": "07d8c096",
   "metadata": {},
   "outputs": [
    {
     "data": {
      "image/png": "[encoded data removed]",
      "text/plain": [
       "<Figure size 800x600 with 1 Axes>"
      ]
     },
     "metadata": {},
     "output_type": "display_data"
    }
   ],
   "source": [
    "import matplotlib.pyplot as plt\n",
    "\n",
    "plt.figure(figsize=(8, 6))\n",
    "plt.hist(deaths_by_farm[\"total_livestock_died\"], bins=30, edgecolor='black')\n",
    "plt.title(\"Histogram of Total Livestock Deaths per Farm\")\n",
    "plt.xlabel(\"Total Livestock Deaths\")\n",
    "plt.ylabel(\"Number of Farms\")\n",
    "plt.grid(True)\n",
    "plt.tight_layout()\n",
    "plt.show()\n"
   ]
  },
  {
   "cell_type": "code",
   "execution_count": 24,
   "id": "db0986d7",
   "metadata": {},
   "outputs": [
    {
     "data": {
      "text/plain": [
       "count    3.306800e+04\n",
       "mean     1.324936e+02\n",
       "std      2.200287e+04\n",
       "min      0.000000e+00\n",
       "25%      0.000000e+00\n",
       "50%      0.000000e+00\n",
       "75%      3.000000e+00\n",
       "max      4.000000e+06\n",
       "Name: total_livestock_died, dtype: float64"
      ]
     },
     "execution_count": 24,
     "metadata": {},
     "output_type": "execute_result"
    }
   ],
   "source": [
    "deaths_by_farm.total_livestock_died.describe()"
   ]
  },
  {
   "cell_type": "code",
   "execution_count": 21,
   "id": "9bb0e2ab",
   "metadata": {},
   "outputs": [
    {
     "data": {
      "text/plain": [
       "33068"
      ]
     },
     "execution_count": 21,
     "metadata": {},
     "output_type": "execute_result"
    }
   ],
   "source": [
    "deaths_by_farm.total_livestock_died.size"
   ]
  },
  {
   "cell_type": "code",
   "execution_count": 22,
   "id": "1761baba",
   "metadata": {},
   "outputs": [],
   "source": [
    "from scipy.stats.mstats import winsorize\n",
    "\n",
    "# Extract the data column\n",
    "values = deaths_by_farm[\"total_livestock_died\"].values\n",
    "\n",
    "# Winsorize only the top 5%\n",
    "winsorized_values = winsorize(values, limits=(0, 0.05))\n"
   ]
  },
  {
   "cell_type": "code",
   "execution_count": 23,
   "id": "903f48e1",
   "metadata": {},
   "outputs": [
    {
     "name": "stdout",
     "output_type": "stream",
     "text": [
      "count    33068.000000\n",
      "mean         3.002177\n",
      "std          5.359109\n",
      "min          0.000000\n",
      "25%          0.000000\n",
      "50%          0.000000\n",
      "75%          3.000000\n",
      "max         20.000000\n",
      "dtype: float64\n"
     ]
    },
    {
     "name": "stderr",
     "output_type": "stream",
     "text": [
      "/Users/nishantshrestha/Library/Python/3.9/lib/python/site-packages/numpy/lib/function_base.py:4824: UserWarning: Warning: 'partition' will ignore the 'mask' of the MaskedArray.\n",
      "  arr.partition(\n"
     ]
    }
   ],
   "source": [
    "import numpy as np\n",
    "\n",
    "\n",
    "# Convert winsorized_values to a Series for easier summarizing\n",
    "winsorized_series = pd.Series(winsorized_values)\n",
    "\n",
    "# Summary statistics\n",
    "summary = winsorized_series.describe()\n",
    "print(summary)"
   ]
  },
  {
   "cell_type": "code",
   "execution_count": 25,
   "id": "1381a1da",
   "metadata": {},
   "outputs": [],
   "source": [
    "\n",
    "\n",
    "# Create a new column with the winsorized values\n",
    "deaths_by_farm[\"winsorized_deaths\"] = winsorized_values\n"
   ]
  },
  {
   "cell_type": "code",
   "execution_count": 27,
   "id": "9dddeed0",
   "metadata": {},
   "outputs": [
    {
     "data": {
      "text/html": [
       "<div>\n",
       "<style scoped>\n",
       "    .dataframe tbody tr th:only-of-type {\n",
       "        vertical-align: middle;\n",
       "    }\n",
       "\n",
       "    .dataframe tbody tr th {\n",
       "        vertical-align: top;\n",
       "    }\n",
       "\n",
       "    .dataframe thead th {\n",
       "        text-align: right;\n",
       "    }\n",
       "</style>\n",
       "<table border=\"1\" class=\"dataframe\">\n",
       "  <thead>\n",
       "    <tr style=\"text-align: right;\">\n",
       "      <th></th>\n",
       "      <th>id_unique</th>\n",
       "      <th>total_livestock_died</th>\n",
       "      <th>winsorized_deaths</th>\n",
       "    </tr>\n",
       "  </thead>\n",
       "  <tbody>\n",
       "    <tr>\n",
       "      <th>114</th>\n",
       "      <td>bf_ec3_2022_103_2</td>\n",
       "      <td>34.0</td>\n",
       "      <td>20.0</td>\n",
       "    </tr>\n",
       "    <tr>\n",
       "      <th>193</th>\n",
       "      <td>bf_ec3_2022_185_2</td>\n",
       "      <td>33.0</td>\n",
       "      <td>20.0</td>\n",
       "    </tr>\n",
       "    <tr>\n",
       "      <th>195</th>\n",
       "      <td>bf_ec3_2022_187_2</td>\n",
       "      <td>50.0</td>\n",
       "      <td>20.0</td>\n",
       "    </tr>\n",
       "    <tr>\n",
       "      <th>514</th>\n",
       "      <td>bf_ecd_2021_1027_1</td>\n",
       "      <td>50.0</td>\n",
       "      <td>20.0</td>\n",
       "    </tr>\n",
       "    <tr>\n",
       "      <th>533</th>\n",
       "      <td>bf_ecd_2021_1049_1</td>\n",
       "      <td>50.0</td>\n",
       "      <td>20.0</td>\n",
       "    </tr>\n",
       "  </tbody>\n",
       "</table>\n",
       "</div>"
      ],
      "text/plain": [
       "              id_unique  total_livestock_died  winsorized_deaths\n",
       "114   bf_ec3_2022_103_2                  34.0               20.0\n",
       "193   bf_ec3_2022_185_2                  33.0               20.0\n",
       "195   bf_ec3_2022_187_2                  50.0               20.0\n",
       "514  bf_ecd_2021_1027_1                  50.0               20.0\n",
       "533  bf_ecd_2021_1049_1                  50.0               20.0"
      ]
     },
     "execution_count": 27,
     "metadata": {},
     "output_type": "execute_result"
    }
   ],
   "source": [
    "deaths_by_farm[deaths_by_farm.total_livestock_died > 25].head()"
   ]
  },
  {
   "cell_type": "code",
   "execution_count": null,
   "id": "0990aca8",
   "metadata": {},
   "outputs": [
    {
     "data": {
      "image/png": "[encoded data removed]",
      "text/plain": [
       "<Figure size 800x600 with 1 Axes>"
      ]
     },
     "metadata": {},
     "output_type": "display_data"
    }
   ],
   "source": [
    "import seaborn as sns \n",
    "plt.figure(figsize=(8, 6))\n",
    "sns.histplot(winsorized_series, bins=30, kde=False)\n",
    "plt.title(\"Histogram of Winsorized Total Livestock Deaths per Farm\")\n",
    "plt.xlabel(\"Winsorized Total Livestock Deaths\")\n",
    "plt.ylabel(\"Number of Farms\")\n",
    "plt.tight_layout()\n",
    "plt.show()\n"
   ]
  },
  {
   "cell_type": "code",
   "execution_count": 29,
   "id": "7b2abe0f",
   "metadata": {},
   "outputs": [
    {
     "data": {
      "text/html": [
       "<div>\n",
       "<style scoped>\n",
       "    .dataframe tbody tr th:only-of-type {\n",
       "        vertical-align: middle;\n",
       "    }\n",
       "\n",
       "    .dataframe tbody tr th {\n",
       "        vertical-align: top;\n",
       "    }\n",
       "\n",
       "    .dataframe thead th {\n",
       "        text-align: right;\n",
       "    }\n",
       "</style>\n",
       "<table border=\"1\" class=\"dataframe\">\n",
       "  <thead>\n",
       "    <tr style=\"text-align: right;\">\n",
       "      <th></th>\n",
       "      <th>id_unique</th>\n",
       "      <th>total_livestock_died</th>\n",
       "      <th>winsorized_deaths</th>\n",
       "    </tr>\n",
       "  </thead>\n",
       "  <tbody>\n",
       "    <tr>\n",
       "      <th>25</th>\n",
       "      <td>bf_adn_2019_36_1</td>\n",
       "      <td>25.0</td>\n",
       "      <td>20.0</td>\n",
       "    </tr>\n",
       "    <tr>\n",
       "      <th>84</th>\n",
       "      <td>bf_cir_2018_36_1</td>\n",
       "      <td>24.0</td>\n",
       "      <td>20.0</td>\n",
       "    </tr>\n",
       "    <tr>\n",
       "      <th>114</th>\n",
       "      <td>bf_ec3_2022_103_2</td>\n",
       "      <td>34.0</td>\n",
       "      <td>20.0</td>\n",
       "    </tr>\n",
       "    <tr>\n",
       "      <th>193</th>\n",
       "      <td>bf_ec3_2022_185_2</td>\n",
       "      <td>33.0</td>\n",
       "      <td>20.0</td>\n",
       "    </tr>\n",
       "    <tr>\n",
       "      <th>195</th>\n",
       "      <td>bf_ec3_2022_187_2</td>\n",
       "      <td>50.0</td>\n",
       "      <td>20.0</td>\n",
       "    </tr>\n",
       "    <tr>\n",
       "      <th>...</th>\n",
       "      <td>...</td>\n",
       "      <td>...</td>\n",
       "      <td>...</td>\n",
       "    </tr>\n",
       "    <tr>\n",
       "      <th>32663</th>\n",
       "      <td>zm_scn_2017_113_1</td>\n",
       "      <td>29.0</td>\n",
       "      <td>20.0</td>\n",
       "    </tr>\n",
       "    <tr>\n",
       "      <th>32671</th>\n",
       "      <td>zm_scn_2017_121_1</td>\n",
       "      <td>40.0</td>\n",
       "      <td>20.0</td>\n",
       "    </tr>\n",
       "    <tr>\n",
       "      <th>32863</th>\n",
       "      <td>zm_scn_2017_38_1</td>\n",
       "      <td>41.0</td>\n",
       "      <td>20.0</td>\n",
       "    </tr>\n",
       "    <tr>\n",
       "      <th>32915</th>\n",
       "      <td>zm_scn_2017_470_1</td>\n",
       "      <td>21.0</td>\n",
       "      <td>20.0</td>\n",
       "    </tr>\n",
       "    <tr>\n",
       "      <th>32956</th>\n",
       "      <td>zm_scn_2017_520_1</td>\n",
       "      <td>23.0</td>\n",
       "      <td>20.0</td>\n",
       "    </tr>\n",
       "  </tbody>\n",
       "</table>\n",
       "<p>1454 rows × 3 columns</p>\n",
       "</div>"
      ],
      "text/plain": [
       "               id_unique  total_livestock_died  winsorized_deaths\n",
       "25      bf_adn_2019_36_1                  25.0               20.0\n",
       "84      bf_cir_2018_36_1                  24.0               20.0\n",
       "114    bf_ec3_2022_103_2                  34.0               20.0\n",
       "193    bf_ec3_2022_185_2                  33.0               20.0\n",
       "195    bf_ec3_2022_187_2                  50.0               20.0\n",
       "...                  ...                   ...                ...\n",
       "32663  zm_scn_2017_113_1                  29.0               20.0\n",
       "32671  zm_scn_2017_121_1                  40.0               20.0\n",
       "32863   zm_scn_2017_38_1                  41.0               20.0\n",
       "32915  zm_scn_2017_470_1                  21.0               20.0\n",
       "32956  zm_scn_2017_520_1                  23.0               20.0\n",
       "\n",
       "[1454 rows x 3 columns]"
      ]
     },
     "execution_count": 29,
     "metadata": {},
     "output_type": "execute_result"
    }
   ],
   "source": [
    "deaths_by_farm[deaths_by_farm.total_livestock_died > 20]"
   ]
  },
  {
   "cell_type": "code",
   "execution_count": 30,
   "id": "dba2c2fd",
   "metadata": {},
   "outputs": [
    {
     "data": {
      "text/html": [
       "<div>\n",
       "<style scoped>\n",
       "    .dataframe tbody tr th:only-of-type {\n",
       "        vertical-align: middle;\n",
       "    }\n",
       "\n",
       "    .dataframe tbody tr th {\n",
       "        vertical-align: top;\n",
       "    }\n",
       "\n",
       "    .dataframe thead th {\n",
       "        text-align: right;\n",
       "    }\n",
       "</style>\n",
       "<table border=\"1\" class=\"dataframe\">\n",
       "  <thead>\n",
       "    <tr style=\"text-align: right;\">\n",
       "      <th></th>\n",
       "      <th>id_unique</th>\n",
       "      <th>any_burning</th>\n",
       "    </tr>\n",
       "  </thead>\n",
       "  <tbody>\n",
       "    <tr>\n",
       "      <th>0</th>\n",
       "      <td>bf_adn_2019_10_1</td>\n",
       "      <td>0</td>\n",
       "    </tr>\n",
       "    <tr>\n",
       "      <th>1</th>\n",
       "      <td>bf_adn_2019_11_1</td>\n",
       "      <td>0</td>\n",
       "    </tr>\n",
       "    <tr>\n",
       "      <th>2</th>\n",
       "      <td>bf_adn_2019_12_1</td>\n",
       "      <td>0</td>\n",
       "    </tr>\n",
       "    <tr>\n",
       "      <th>3</th>\n",
       "      <td>bf_adn_2019_13_1</td>\n",
       "      <td>0</td>\n",
       "    </tr>\n",
       "    <tr>\n",
       "      <th>4</th>\n",
       "      <td>bf_adn_2019_14_1</td>\n",
       "      <td>0</td>\n",
       "    </tr>\n",
       "  </tbody>\n",
       "</table>\n",
       "</div>"
      ],
      "text/plain": [
       "          id_unique  any_burning\n",
       "0  bf_adn_2019_10_1            0\n",
       "1  bf_adn_2019_11_1            0\n",
       "2  bf_adn_2019_12_1            0\n",
       "3  bf_adn_2019_13_1            0\n",
       "4  bf_adn_2019_14_1            0"
      ]
     },
     "execution_count": 30,
     "metadata": {},
     "output_type": "execute_result"
    }
   ],
   "source": [
    "# Group by farm and take max of burn_crop (since 1 means burning occurred)\n",
    "burning_by_farm = (\n",
    "    final_crop_df.groupby(\"id_unique\")[\"burn_crop\"]\n",
    "    .max()\n",
    "    .reset_index(name=\"any_burning\")\n",
    ")\n",
    "\n",
    "burning_by_farm.head()"
   ]
  },
  {
   "cell_type": "code",
   "execution_count": 31,
   "id": "65b336c4",
   "metadata": {},
   "outputs": [
    {
     "data": {
      "text/html": [
       "<div>\n",
       "<style scoped>\n",
       "    .dataframe tbody tr th:only-of-type {\n",
       "        vertical-align: middle;\n",
       "    }\n",
       "\n",
       "    .dataframe tbody tr th {\n",
       "        vertical-align: top;\n",
       "    }\n",
       "\n",
       "    .dataframe thead th {\n",
       "        text-align: right;\n",
       "    }\n",
       "</style>\n",
       "<table border=\"1\" class=\"dataframe\">\n",
       "  <thead>\n",
       "    <tr style=\"text-align: right;\">\n",
       "      <th></th>\n",
       "      <th>id_unique</th>\n",
       "      <th>crop_name</th>\n",
       "      <th>crop_residue_use</th>\n",
       "      <th>crop_harvest_kg_per_year</th>\n",
       "      <th>crop_number</th>\n",
       "      <th>burn_crop</th>\n",
       "    </tr>\n",
       "  </thead>\n",
       "  <tbody>\n",
       "    <tr>\n",
       "      <th>658</th>\n",
       "      <td>bf_cir_2018_28_1</td>\n",
       "      <td>rice</td>\n",
       "      <td>burn</td>\n",
       "      <td>2000.0</td>\n",
       "      <td>3</td>\n",
       "      <td>1</td>\n",
       "    </tr>\n",
       "    <tr>\n",
       "      <th>660</th>\n",
       "      <td>bf_cir_2018_28_1</td>\n",
       "      <td>sesame</td>\n",
       "      <td>burn</td>\n",
       "      <td>NaN</td>\n",
       "      <td>5</td>\n",
       "      <td>1</td>\n",
       "    </tr>\n",
       "    <tr>\n",
       "      <th>3457</th>\n",
       "      <td>bf_ec3_2022_104_2</td>\n",
       "      <td>millet</td>\n",
       "      <td>soil sell burn</td>\n",
       "      <td>3200.0</td>\n",
       "      <td>2</td>\n",
       "      <td>1</td>\n",
       "    </tr>\n",
       "    <tr>\n",
       "      <th>3460</th>\n",
       "      <td>bf_ec3_2022_104_2</td>\n",
       "      <td>sorghum</td>\n",
       "      <td>sell feed soil burn</td>\n",
       "      <td>1200.0</td>\n",
       "      <td>5</td>\n",
       "      <td>1</td>\n",
       "    </tr>\n",
       "    <tr>\n",
       "      <th>3465</th>\n",
       "      <td>bf_ec3_2022_105_2</td>\n",
       "      <td>millet</td>\n",
       "      <td>soil feed sell burn</td>\n",
       "      <td>3000.0</td>\n",
       "      <td>2</td>\n",
       "      <td>1</td>\n",
       "    </tr>\n",
       "  </tbody>\n",
       "</table>\n",
       "</div>"
      ],
      "text/plain": [
       "              id_unique crop_name     crop_residue_use  \\\n",
       "658    bf_cir_2018_28_1      rice                 burn   \n",
       "660    bf_cir_2018_28_1    sesame                 burn   \n",
       "3457  bf_ec3_2022_104_2    millet       soil sell burn   \n",
       "3460  bf_ec3_2022_104_2   sorghum  sell feed soil burn   \n",
       "3465  bf_ec3_2022_105_2    millet  soil feed sell burn   \n",
       "\n",
       "      crop_harvest_kg_per_year  crop_number  burn_crop  \n",
       "658                     2000.0            3          1  \n",
       "660                        NaN            5          1  \n",
       "3457                    3200.0            2          1  \n",
       "3460                    1200.0            5          1  \n",
       "3465                    3000.0            2          1  "
      ]
     },
     "execution_count": 31,
     "metadata": {},
     "output_type": "execute_result"
    }
   ],
   "source": [
    "final_crop_df[final_crop_df.burn_crop == 1].head()"
   ]
  },
  {
   "cell_type": "code",
   "execution_count": 34,
   "id": "fd46ba17",
   "metadata": {},
   "outputs": [
    {
     "data": {
      "text/plain": [
       "any_burning\n",
       "0    38058\n",
       "1     6641\n",
       "Name: count, dtype: int64"
      ]
     },
     "execution_count": 34,
     "metadata": {},
     "output_type": "execute_result"
    }
   ],
   "source": [
    "burning_by_farm.any_burning.value_counts()  "
   ]
  },
  {
   "cell_type": "code",
   "execution_count": 53,
   "id": "e196a904",
   "metadata": {},
   "outputs": [
    {
     "data": {
      "text/plain": [
       "0.14857155641065795"
      ]
     },
     "execution_count": 53,
     "metadata": {},
     "output_type": "execute_result"
    }
   ],
   "source": [
    "6641/(38058+6641)"
   ]
  },
  {
   "cell_type": "code",
   "execution_count": 35,
   "id": "d7ae15d9",
   "metadata": {},
   "outputs": [
    {
     "name": "stdout",
     "output_type": "stream",
     "text": [
      "Correlation with total_livestock_died: -0.0024\n",
      "Correlation with winsorized_deaths: 0.0322\n"
     ]
    }
   ],
   "source": [
    "\n",
    "merged_df = pd.merge(burning_by_farm, deaths_by_farm, on=\"id_unique\", how=\"inner\")\n",
    "\n",
    "# Correlation with raw total deaths\n",
    "corr_total = merged_df[\"any_burning\"].corr(merged_df[\"total_livestock_died\"])\n",
    "\n",
    "# Correlation with winsorized deaths\n",
    "corr_winsorized = merged_df[\"any_burning\"].corr(merged_df[\"winsorized_deaths\"])\n",
    "\n",
    "#\n",
    "print(f\"Correlation with total_livestock_died: {corr_total:.4f}\")\n",
    "print(f\"Correlation with winsorized_deaths: {corr_winsorized:.4f}\")\n",
    "\n",
    "\n"
   ]
  },
  {
   "cell_type": "code",
   "execution_count": null,
   "id": "c0246a30",
   "metadata": {},
   "outputs": [],
   "source": []
  },
  {
   "cell_type": "code",
   "execution_count": 38,
   "id": "80c1a474",
   "metadata": {},
   "outputs": [
    {
     "name": "stdout",
     "output_type": "stream",
     "text": [
      "                            OLS Regression Results                            \n",
      "==============================================================================\n",
      "Dep. Variable:            any_burning   R-squared:                       0.001\n",
      "Model:                            OLS   Adj. R-squared:                  0.001\n",
      "Method:                 Least Squares   F-statistic:                     32.61\n",
      "Date:                Fri, 08 Aug 2025   Prob (F-statistic):           1.14e-08\n",
      "Time:                        09:44:04   Log-Likelihood:                -11860.\n",
      "No. Observations:               31365   AIC:                         2.372e+04\n",
      "Df Residuals:                   31363   BIC:                         2.374e+04\n",
      "Df Model:                           1                                         \n",
      "Covariance Type:            nonrobust                                         \n",
      "=====================================================================================\n",
      "                        coef    std err          t      P>|t|      [0.025      0.975]\n",
      "-------------------------------------------------------------------------------------\n",
      "const                 0.1399      0.002     61.300      0.000       0.135       0.144\n",
      "winsorized_deaths     0.0022      0.000      5.710      0.000       0.001       0.003\n",
      "==============================================================================\n",
      "Omnibus:                    10700.805   Durbin-Watson:                   1.175\n",
      "Prob(Omnibus):                  0.000   Jarque-Bera (JB):            26155.194\n",
      "Skew:                           1.999   Prob(JB):                         0.00\n",
      "Kurtosis:                       5.006   Cond. No.                         6.98\n",
      "==============================================================================\n",
      "\n",
      "Notes:\n",
      "[1] Standard Errors assume that the covariance matrix of the errors is correctly specified.\n"
     ]
    }
   ],
   "source": [
    "\n",
    "import statsmodels.api as sm\n",
    "\n",
    "X = merged_df[\"winsorized_deaths\"]\n",
    "y = merged_df[\"any_burning\"]\n",
    "\n",
    "# Add constant for intercept\n",
    "X = sm.add_constant(X)\n",
    "\n",
    "# Fit OLS model\n",
    "model = sm.OLS(y, X).fit()\n",
    "\n",
    "# Print regression summary\n",
    "print(model.summary())\n",
    "\n"
   ]
  },
  {
   "cell_type": "code",
   "execution_count": 39,
   "id": "bf818aa1",
   "metadata": {},
   "outputs": [
    {
     "name": "stdout",
     "output_type": "stream",
     "text": [
      "           id_unique  crop_name  crop_harvest_kg_per_year  crop_harvest_share\n",
      "0   bf_adn_2019_10_1     millet                    1200.0            0.923077\n",
      "2   bf_adn_2019_10_1     sesame                     100.0            0.076923\n",
      "8   bf_adn_2019_11_1     millet                     200.0            0.400000\n",
      "9   bf_adn_2019_11_1      maize                     200.0            0.400000\n",
      "10  bf_adn_2019_11_1  groundnut                     100.0            0.200000\n"
     ]
    }
   ],
   "source": [
    "# Step 1: Drop rows with missing crop harvest values\n",
    "final_crop_df_clean = final_crop_df.dropna(subset=[\"crop_harvest_kg_per_year\"]).copy()\n",
    "\n",
    "# Step 2: Compute total harvest per farm\n",
    "total_harvest = (\n",
    "    final_crop_df_clean.groupby(\"id_unique\")[\"crop_harvest_kg_per_year\"]\n",
    "    .transform(\"sum\")\n",
    ")\n",
    "\n",
    "# Step 3: Compute harvest share for each crop\n",
    "final_crop_df_clean[\"crop_harvest_share\"] = (\n",
    "    final_crop_df_clean[\"crop_harvest_kg_per_year\"] / total_harvest\n",
    ")\n",
    "\n",
    "print(final_crop_df_clean[[\"id_unique\", \"crop_name\", \"crop_harvest_kg_per_year\", \"crop_harvest_share\"]].head())\n"
   ]
  },
  {
   "cell_type": "code",
   "execution_count": 43,
   "id": "d2cabd83",
   "metadata": {},
   "outputs": [],
   "source": [
    "# Create a new column called burn_share\n",
    "final_crop_df_clean[\"burn_share\"] = (\n",
    "    final_crop_df_clean[\"crop_harvest_share\"] * final_crop_df_clean[\"burn_crop\"]\n",
    ")\n"
   ]
  },
  {
   "cell_type": "code",
   "execution_count": 44,
   "id": "888cc208",
   "metadata": {},
   "outputs": [
    {
     "name": "stdout",
     "output_type": "stream",
     "text": [
      "          id_unique  total_burn_share\n",
      "0  bf_adn_2019_10_1               0.0\n",
      "1  bf_adn_2019_11_1               0.0\n",
      "2  bf_adn_2019_12_1               0.0\n",
      "3  bf_adn_2019_13_1               0.0\n",
      "4  bf_adn_2019_14_1               0.0\n"
     ]
    }
   ],
   "source": [
    "# Group by farm and sum burn_share\n",
    "burn_share_by_farm = (\n",
    "    final_crop_df_clean.groupby(\"id_unique\")[\"burn_share\"]\n",
    "    .sum()\n",
    "    .reset_index(name=\"total_burn_share\")\n",
    ")\n",
    "print(burn_share_by_farm.head())"
   ]
  },
  {
   "cell_type": "code",
   "execution_count": 45,
   "id": "d048df25",
   "metadata": {},
   "outputs": [
    {
     "data": {
      "text/html": [
       "<div>\n",
       "<style scoped>\n",
       "    .dataframe tbody tr th:only-of-type {\n",
       "        vertical-align: middle;\n",
       "    }\n",
       "\n",
       "    .dataframe tbody tr th {\n",
       "        vertical-align: top;\n",
       "    }\n",
       "\n",
       "    .dataframe thead th {\n",
       "        text-align: right;\n",
       "    }\n",
       "</style>\n",
       "<table border=\"1\" class=\"dataframe\">\n",
       "  <thead>\n",
       "    <tr style=\"text-align: right;\">\n",
       "      <th></th>\n",
       "      <th>id_unique</th>\n",
       "      <th>crop_name</th>\n",
       "      <th>crop_residue_use</th>\n",
       "      <th>crop_harvest_kg_per_year</th>\n",
       "      <th>crop_number</th>\n",
       "      <th>burn_crop</th>\n",
       "    </tr>\n",
       "  </thead>\n",
       "  <tbody>\n",
       "    <tr>\n",
       "      <th>0</th>\n",
       "      <td>bf_adn_2019_10_1</td>\n",
       "      <td>millet</td>\n",
       "      <td>soil feed</td>\n",
       "      <td>1200.0</td>\n",
       "      <td>1</td>\n",
       "      <td>0</td>\n",
       "    </tr>\n",
       "    <tr>\n",
       "      <th>1</th>\n",
       "      <td>bf_adn_2019_10_1</td>\n",
       "      <td>groundnut</td>\n",
       "      <td>soil feed</td>\n",
       "      <td>NaN</td>\n",
       "      <td>2</td>\n",
       "      <td>0</td>\n",
       "    </tr>\n",
       "    <tr>\n",
       "      <th>2</th>\n",
       "      <td>bf_adn_2019_10_1</td>\n",
       "      <td>sesame</td>\n",
       "      <td>soil feed</td>\n",
       "      <td>100.0</td>\n",
       "      <td>3</td>\n",
       "      <td>0</td>\n",
       "    </tr>\n",
       "  </tbody>\n",
       "</table>\n",
       "</div>"
      ],
      "text/plain": [
       "          id_unique  crop_name crop_residue_use  crop_harvest_kg_per_year  \\\n",
       "0  bf_adn_2019_10_1     millet        soil feed                    1200.0   \n",
       "1  bf_adn_2019_10_1  groundnut        soil feed                       NaN   \n",
       "2  bf_adn_2019_10_1     sesame        soil feed                     100.0   \n",
       "\n",
       "   crop_number  burn_crop  \n",
       "0            1          0  \n",
       "1            2          0  \n",
       "2            3          0  "
      ]
     },
     "execution_count": 45,
     "metadata": {},
     "output_type": "execute_result"
    }
   ],
   "source": [
    "final_crop_df[final_crop_df.id_unique == 'bf_adn_2019_10_1']"
   ]
  },
  {
   "cell_type": "code",
   "execution_count": 47,
   "id": "6b73d1d8",
   "metadata": {},
   "outputs": [
    {
     "data": {
      "text/html": [
       "<div>\n",
       "<style scoped>\n",
       "    .dataframe tbody tr th:only-of-type {\n",
       "        vertical-align: middle;\n",
       "    }\n",
       "\n",
       "    .dataframe tbody tr th {\n",
       "        vertical-align: top;\n",
       "    }\n",
       "\n",
       "    .dataframe thead th {\n",
       "        text-align: right;\n",
       "    }\n",
       "</style>\n",
       "<table border=\"1\" class=\"dataframe\">\n",
       "  <thead>\n",
       "    <tr style=\"text-align: right;\">\n",
       "      <th></th>\n",
       "      <th>total_burn_share</th>\n",
       "    </tr>\n",
       "  </thead>\n",
       "  <tbody>\n",
       "    <tr>\n",
       "      <th>count</th>\n",
       "      <td>44159.000000</td>\n",
       "    </tr>\n",
       "    <tr>\n",
       "      <th>mean</th>\n",
       "      <td>0.097706</td>\n",
       "    </tr>\n",
       "    <tr>\n",
       "      <th>std</th>\n",
       "      <td>0.273257</td>\n",
       "    </tr>\n",
       "    <tr>\n",
       "      <th>min</th>\n",
       "      <td>0.000000</td>\n",
       "    </tr>\n",
       "    <tr>\n",
       "      <th>25%</th>\n",
       "      <td>0.000000</td>\n",
       "    </tr>\n",
       "    <tr>\n",
       "      <th>50%</th>\n",
       "      <td>0.000000</td>\n",
       "    </tr>\n",
       "    <tr>\n",
       "      <th>75%</th>\n",
       "      <td>0.000000</td>\n",
       "    </tr>\n",
       "    <tr>\n",
       "      <th>max</th>\n",
       "      <td>1.000000</td>\n",
       "    </tr>\n",
       "  </tbody>\n",
       "</table>\n",
       "</div>"
      ],
      "text/plain": [
       "       total_burn_share\n",
       "count      44159.000000\n",
       "mean           0.097706\n",
       "std            0.273257\n",
       "min            0.000000\n",
       "25%            0.000000\n",
       "50%            0.000000\n",
       "75%            0.000000\n",
       "max            1.000000"
      ]
     },
     "execution_count": 47,
     "metadata": {},
     "output_type": "execute_result"
    }
   ],
   "source": [
    "burn_share_by_farm.describe()"
   ]
  },
  {
   "cell_type": "code",
   "execution_count": 48,
   "id": "12bdc3bf",
   "metadata": {},
   "outputs": [
    {
     "data": {
      "image/png": "[encoded data removed]",
      "text/plain": [
       "<Figure size 800x600 with 1 Axes>"
      ]
     },
     "metadata": {},
     "output_type": "display_data"
    }
   ],
   "source": [
    "\\\n",
    "\n",
    "plt.figure(figsize=(8, 6))\n",
    "sns.histplot(burn_share_by_farm[\"total_burn_share\"], bins=30, kde=False)\n",
    "plt.title(\"Histogram of Total Burn Share per Farm\")\n",
    "plt.xlabel(\"Total Burn Share\")\n",
    "plt.ylabel(\"Number of Farms\")\n",
    "plt.tight_layout()\n",
    "plt.show()\n"
   ]
  },
  {
   "cell_type": "code",
   "execution_count": 49,
   "id": "d02bac8f",
   "metadata": {},
   "outputs": [
    {
     "name": "stdout",
     "output_type": "stream",
     "text": [
      "Correlation between total_burn_share and winsorized_deaths: 0.0218\n"
     ]
    }
   ],
   "source": [
    "#\n",
    "merged_farm_df = pd.merge(burn_share_by_farm, deaths_by_farm, on=\"id_unique\", how=\"inner\")\n",
    "\n",
    "# Pearson correlation\n",
    "corr = merged_farm_df[\"total_burn_share\"].corr(merged_farm_df[\"winsorized_deaths\"])\n",
    "print(f\"Correlation between total_burn_share and winsorized_deaths: {corr:.4f}\")\n"
   ]
  },
  {
   "cell_type": "code",
   "execution_count": 50,
   "id": "710769a6",
   "metadata": {},
   "outputs": [
    {
     "name": "stdout",
     "output_type": "stream",
     "text": [
      "                            OLS Regression Results                            \n",
      "==============================================================================\n",
      "Dep. Variable:       total_burn_share   R-squared:                       0.000\n",
      "Model:                            OLS   Adj. R-squared:                  0.000\n",
      "Method:                 Least Squares   F-statistic:                     14.75\n",
      "Date:                Fri, 08 Aug 2025   Prob (F-statistic):           0.000123\n",
      "Time:                        09:55:04   Log-Likelihood:                -2207.8\n",
      "No. Observations:               31016   AIC:                             4420.\n",
      "Df Residuals:                   31014   BIC:                             4436.\n",
      "Df Model:                           1                                         \n",
      "Covariance Type:            nonrobust                                         \n",
      "=====================================================================================\n",
      "                        coef    std err          t      P>|t|      [0.025      0.975]\n",
      "-------------------------------------------------------------------------------------\n",
      "const                 0.0871      0.002     51.585      0.000       0.084       0.090\n",
      "winsorized_deaths     0.0011      0.000      3.841      0.000       0.001       0.002\n",
      "==============================================================================\n",
      "Omnibus:                    17379.410   Durbin-Watson:                   1.205\n",
      "Prob(Omnibus):                  0.000   Jarque-Bera (JB):            97007.853\n",
      "Skew:                           2.839   Prob(JB):                         0.00\n",
      "Kurtosis:                       9.545   Cond. No.                         6.98\n",
      "==============================================================================\n",
      "\n",
      "Notes:\n",
      "[1] Standard Errors assume that the covariance matrix of the errors is correctly specified.\n"
     ]
    }
   ],
   "source": [
    "\n",
    "# Define variables\n",
    "X = merged_farm_df[\"winsorized_deaths\"]\n",
    "y = merged_farm_df[\"total_burn_share\"]\n",
    "\n",
    "# Add constant for intercept\n",
    "X = sm.add_constant(X)\n",
    "\n",
    "# Fit OLS model\n",
    "model = sm.OLS(y, X).fit()\n",
    "\n",
    "# Show summary\n",
    "print(model.summary())\n"
   ]
  },
  {
   "cell_type": "code",
   "execution_count": null,
   "id": "cbb595dd",
   "metadata": {},
   "outputs": [
    {
     "data": {
      "text/plain": [
       "crop_yield_units_1\n",
       "kg                                    17309\n",
       "sacks_100kg                            6903\n",
       "sacks_50kg                             6693\n",
       "sacks_100kg_quintal                    6202\n",
       "tonnes                                 1320\n",
       "                                      ...  \n",
       "bag(40kg)                                 1\n",
       "petite quantité donc n'a pas battu        1\n",
       "tins (gorogoro)                           1\n",
       "charette.                                 1\n",
       "bundles(100kgsx1)                         1\n",
       "Name: count, Length: 622, dtype: int64"
      ]
     },
     "execution_count": 51,
     "metadata": {},
     "output_type": "execute_result"
    }
   ],
   "source": []
  },
  {
   "cell_type": "code",
   "execution_count": null,
   "id": "f19bb3fd",
   "metadata": {},
   "outputs": [],
   "source": []
  }
 ],
 "metadata": {
  "kernelspec": {
   "display_name": "Python 3",
   "language": "python",
   "name": "python3"
  },
  "language_info": {
   "codemirror_mode": {
    "name": "ipython",
    "version": 3
   },
   "file_extension": ".py",
   "mimetype": "text/x-python",
   "name": "python",
   "nbconvert_exporter": "python",
   "pygments_lexer": "ipython3",
   "version": "3.9.6"
  }
 },
 "nbformat": 4,
 "nbformat_minor": 5
}
